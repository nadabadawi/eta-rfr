{
 "cells": [
  {
   "cell_type": "code",
   "execution_count": 1,
   "metadata": {},
   "outputs": [],
   "source": [
    "contributor = \"Nada\""
   ]
  },
  {
   "cell_type": "markdown",
   "metadata": {},
   "source": [
    "### Step 1: Import Libraries"
   ]
  },
  {
   "cell_type": "code",
   "execution_count": 2,
   "metadata": {},
   "outputs": [
    {
     "name": "stdout",
     "output_type": "stream",
     "text": [
      "INFO: Pandarallel will run on 4 workers.\n",
      "INFO: Pandarallel will use standard multiprocessing data transfer (pipe) to transfer data between the main process and workers.\n",
      "\n",
      "WARNING: You are on Windows. If you detect any issue with pandarallel, be sure you checked out the Troubleshooting page:\n",
      "https://nalepae.github.io/pandarallel/troubleshooting/\n"
     ]
    }
   ],
   "source": [
    "import json\n",
    "import numpy as np\n",
    "import pandas as pd\n",
    "import csv\n",
    "from datetime import datetime\n",
    "import os\n",
    "from sklearn.model_selection import train_test_split, GridSearchCV, learning_curve\n",
    "from sklearn.metrics import mean_squared_error, mean_absolute_error, r2_score\n",
    "from sklearn.ensemble import RandomForestRegressor\n",
    "import plotly.graph_objects as go\n",
    "from pandarallel import pandarallel\n",
    "import matplotlib.pyplot as plt\n",
    "pandarallel.initialize(progress_bar=True)\n",
    "import pytz"
   ]
  },
  {
   "cell_type": "markdown",
   "metadata": {},
   "source": [
    "### Step 2: Load and Preprocess Data"
   ]
  },
  {
   "cell_type": "code",
   "execution_count": 3,
   "metadata": {},
   "outputs": [],
   "source": [
    "# Directory and file name pattern\n",
    "directory = 'Cleaning/trial_week/clean_data'\n",
    "file_base = 'clean_2024-01-'\n",
    "\n",
    "\n",
    "# Generate the list of file names\n",
    "files_names = [f'{file_base}{i}.json' for i in range(28, 32)]\n",
    "\n",
    "# Generate the list of file directories\n",
    "files = [os.path.join(directory, file_name) for file_name in files_names]\n",
    "\n",
    "data = []"
   ]
  },
  {
   "cell_type": "code",
   "execution_count": 4,
   "metadata": {},
   "outputs": [],
   "source": [
    "# Load data from each JSON file\n",
    "for file_name in files:\n",
    "    with open(file_name, 'r') as file:\n",
    "        for line in file:\n",
    "            data.append(json.loads(line))\n",
    "\n",
    "# Create a DataFrame\n",
    "df = pd.DataFrame(data)\n",
    "\n",
    "# Step 1: Drop the 'time_diff' attribute if it exists\n",
    "if 'time_diff' in df.columns:\n",
    "    df.drop('time_diff', axis=1, inplace=True)\n",
    "\n",
    "# # Step 2: Redefine the features after dropping 'time_diff'\n",
    "# X = df_features.drop(columns=['time_diff'], errors='ignore')\n",
    "\n",
    "# Calculate trip time in seconds\n",
    "df['trip_time'] = df['time']\n",
    "\n",
    "# Now, drop the 'time' column\n",
    "df.drop(columns=['time'], inplace=True)\n",
    "\n",
    "# Drop rows with missing values (if any)\n",
    "df.dropna(inplace=True)"
   ]
  },
  {
   "cell_type": "code",
   "execution_count": 5,
   "metadata": {},
   "outputs": [
    {
     "name": "stdout",
     "output_type": "stream",
     "text": [
      "Index(['trip_id', 'time_gap', 'dist', 'lats', 'driverID', 'weekID', 'timeID',\n",
      "       'dateID', 'lngs', 'dist_gap', 'trip_time'],\n",
      "      dtype='object')\n"
     ]
    }
   ],
   "source": [
    "# Display the DataFrame to verify\n",
    "print(df.columns)"
   ]
  },
  {
   "cell_type": "markdown",
   "metadata": {},
   "source": [
    "### Step 3: Prepare Features and Target"
   ]
  },
  {
   "cell_type": "code",
   "execution_count": 6,
   "metadata": {},
   "outputs": [],
   "source": [
    "# Feature extraction functions\n",
    "def extract_features(row):\n",
    "    features = {}\n",
    "    features['mean_time_gap'] = np.mean(row['time_gap'])\n",
    "    features['std_time_gap'] = np.std(row['time_gap'])\n",
    "    features['min_time_gap'] = np.min(row['time_gap'])\n",
    "    features['max_time_gap'] = np.max(row['time_gap'])\n",
    "    \n",
    "    features['mean_lat'] = np.mean(row['lats'])\n",
    "    features['std_lat'] = np.std(row['lats'])\n",
    "    features['min_lat'] = np.min(row['lats'])\n",
    "    features['max_lat'] = np.max(row['lats'])\n",
    "    \n",
    "    features['mean_lng'] = np.mean(row['lngs'])\n",
    "    features['std_lng'] = np.std(row['lngs'])\n",
    "    features['min_lng'] = np.min(row['lngs'])\n",
    "    features['max_lng'] = np.max(row['lngs'])\n",
    "    \n",
    "    features['mean_dist_gap'] = np.mean(row['dist_gap'])\n",
    "    features['std_dist_gap'] = np.std(row['dist_gap'])\n",
    "    features['min_dist_gap'] = np.min(row['dist_gap'])\n",
    "    features['max_dist_gap'] = np.max(row['dist_gap'])\n",
    "    \n",
    "    return pd.Series(features)"
   ]
  },
  {
   "cell_type": "markdown",
   "metadata": {},
   "source": [
    "### Step 4: Split the Data"
   ]
  },
  {
   "cell_type": "code",
   "execution_count": 7,
   "metadata": {},
   "outputs": [],
   "source": [
    "# Split the data\n",
    "# X_train, X_test, y_train, y_test = train_test_split(df, df['trip_time'], test_size=0.25, random_state=42)\n",
    "X_train, X_test, y_train, y_test = train_test_split(df, df['trip_time'], test_size=0.25, random_state=None)\n",
    "\n",
    "# Convert non-numeric columns to numeric or drop them\n",
    "def handle_non_numeric_columns(df):\n",
    "    non_numeric_cols = df.select_dtypes(include=['object']).columns\n",
    "    for col in non_numeric_cols:\n",
    "        # Check if the column contains lists\n",
    "        if df[col].apply(lambda x: isinstance(x, list)).any():\n",
    "            # Convert lists to strings or drop the column\n",
    "            df[col] = df[col].apply(lambda x: str(x) if isinstance(x, list) else x)\n",
    "        # Factorize the column\n",
    "        df[col] = pd.factorize(df[col])[0]\n",
    "    return df\n",
    "\n",
    "X_train = handle_non_numeric_columns(X_train)\n",
    "X_test = handle_non_numeric_columns(X_test)\n",
    "\n",
    "\n",
    "\n",
    "# Convert non-numeric columns to numeric or drop them\n",
    "# non_numeric_cols = X_train.select_dtypes(include=['object']).columns\n",
    "# X_train[non_numeric_cols] = X_train[non_numeric_cols].apply(lambda col: pd.factorize(col)[0])\n",
    "# X_test[non_numeric_cols] = X_test[non_numeric_cols].apply(lambda col: pd.factorize(col)[0])\n",
    "\n",
    "# Ensure all features are numeric\n",
    "assert X_train.select_dtypes(include=['object']).empty, \"There are still non-numeric columns in X_train\"\n",
    "assert X_test.select_dtypes(include=['object']).empty, \"There are still non-numeric columns in X_test\"\n",
    "\n",
    "# Drop 'trip_time' from the training data\n",
    "X_train_features = X_train.drop(columns=['trip_time'])\n",
    "X_test_features = X_test.drop(columns=['trip_time'])"
   ]
  },
  {
   "cell_type": "code",
   "execution_count": 8,
   "metadata": {},
   "outputs": [],
   "source": [
    "# print(X_train_features.columns)\n",
    "# print(X_test_features.columns)\n",
    "# print(X_train.columns)\n",
    "# print(X_test.columns)\n",
    "# print(y_train)"
   ]
  },
  {
   "cell_type": "markdown",
   "metadata": {},
   "source": [
    "### Step 5: Hyperparameter Tuning and Model Training"
   ]
  },
  {
   "cell_type": "markdown",
   "metadata": {},
   "source": [
    "##### * Randomized Parameter Search"
   ]
  },
  {
   "cell_type": "code",
   "execution_count": 9,
   "metadata": {},
   "outputs": [
    {
     "name": "stdout",
     "output_type": "stream",
     "text": [
      "{'n_estimators': [200, 218, 236, 254, 272, 290, 309, 327, 345, 363, 381, 400, 418, 436, 454, 472, 490, 509, 527, 545, 563, 581, 600, 618, 636, 654, 672, 690, 709, 727, 745, 763, 781, 800, 818, 836, 854, 872, 890, 909, 927, 945, 963, 981, 1000, 1018, 1036, 1054, 1072, 1090, 1109, 1127, 1145, 1163, 1181, 1200, 1218, 1236, 1254, 1272, 1290, 1309, 1327, 1345, 1363, 1381, 1400, 1418, 1436, 1454, 1472, 1490, 1509, 1527, 1545, 1563, 1581, 1600, 1618, 1636, 1654, 1672, 1690, 1709, 1727, 1745, 1763, 1781, 1800, 1818, 1836, 1854, 1872, 1890, 1909, 1927, 1945, 1963, 1981, 2000], 'max_features': ['sqrt', 'log2', None], 'max_depth': [10, 20, 30, 40, 50, 60, 70, 80, 90, 100, 110, None], 'min_samples_split': [2, 5, 10], 'min_samples_leaf': [1, 2, 4], 'bootstrap': [True, False]}\n",
      "Fitting 3 folds for each of 50 candidates, totalling 150 fits\n"
     ]
    },
    {
     "data": {
      "text/plain": [
       "{'n_estimators': 800,\n",
       " 'min_samples_split': 2,\n",
       " 'min_samples_leaf': 4,\n",
       " 'max_features': None,\n",
       " 'max_depth': 10,\n",
       " 'bootstrap': True}"
      ]
     },
     "execution_count": 9,
     "metadata": {},
     "output_type": "execute_result"
    }
   ],
   "source": [
    "from sklearn.model_selection import RandomizedSearchCV\n",
    "from sklearn.ensemble import RandomForestRegressor\n",
    "\n",
    "# Number of trees in random forest\n",
    "n_estimators = [int(x) for x in np.linspace(start = 200, stop = 2000, num = 100)]\n",
    "# Number of features to consider at every split\n",
    "max_features = ['sqrt', 'log2', None]\n",
    "# Maximum number of levels in tree\n",
    "max_depth = [int(x) for x in np.linspace(10, 110, num = 11)]\n",
    "max_depth.append(None)\n",
    "# Minimum number of samples required to split a node\n",
    "min_samples_split = [2, 5, 10]\n",
    "# Minimum number of samples required at each leaf node\n",
    "min_samples_leaf = [1, 2, 4]\n",
    "# Method of selecting samples for training each tree\n",
    "bootstrap = [True, False]\n",
    "# Create the random grid\n",
    "random_grid = {'n_estimators': n_estimators,\n",
    "               'max_features': max_features,\n",
    "               'max_depth': max_depth,\n",
    "               'min_samples_split': min_samples_split,\n",
    "               'min_samples_leaf': min_samples_leaf,\n",
    "               'bootstrap': bootstrap}\n",
    "print(random_grid)\n",
    "\n",
    "# Initialize RandomForestRegressor\n",
    "model = RandomForestRegressor()\n",
    "\n",
    "# search across 100 different combinations, and use all available cores\n",
    "rf_random = RandomizedSearchCV(error_score='raise', estimator = model, param_distributions = random_grid, n_iter = 50, cv = 3, verbose=2, random_state=42, n_jobs = 2)\n",
    "\n",
    "# Fit the random search model\n",
    "rf_random.fit(X_train_features, y_train)\n",
    "\n",
    "# Retrieve the best parameters\n",
    "rf_random.best_params_\n"
   ]
  },
  {
   "cell_type": "code",
   "execution_count": 28,
   "metadata": {},
   "outputs": [
    {
     "name": "stdout",
     "output_type": "stream",
     "text": [
      "Time taken for one fit: 27.57887840270996 seconds\n",
      "Estimated total time: 4136.831760406494 seconds\n"
     ]
    }
   ],
   "source": [
    "import time\n",
    "start_time = time.time()\n",
    "model.fit(X_train_features, y_train)  # Replace with your model fitting code\n",
    "elapsed_time = time.time() - start_time\n",
    "print(f\"Time taken for one fit: {elapsed_time} seconds\")\n",
    "total_time = elapsed_time * 150\n",
    "print(f\"Estimated total time: {total_time} seconds\")"
   ]
  },
  {
   "cell_type": "code",
   "execution_count": 29,
   "metadata": {},
   "outputs": [
    {
     "name": "stdout",
     "output_type": "stream",
     "text": [
      "Time taken for one fit: 23.70 seconds\n",
      "Estimated total time: 19.75 minutes\n"
     ]
    }
   ],
   "source": [
    "import time\n",
    "\n",
    "# Start timing\n",
    "start_time = time.time()\n",
    "\n",
    "# Simulate a single fit (you should replace this with your actual model fitting code)\n",
    "model.fit(X_train_features, y_train)  # Replace with your actual model fitting code\n",
    "\n",
    "# Calculate the elapsed time for one fit\n",
    "elapsed_time = time.time() - start_time\n",
    "print(f\"Time taken for one fit: {elapsed_time:.2f} seconds\")\n",
    "\n",
    "# Calculate the total time assuming 150 fits and using 3 cores\n",
    "# Since 3 cores are used, the total time is reduced by a factor of 3\n",
    "total_time = (elapsed_time * 150) / 3\n",
    "\n",
    "# Convert the total time to minutes\n",
    "total_time_minutes = total_time / 60\n",
    "print(f\"Estimated total time: {total_time_minutes:.2f} minutes\")\n"
   ]
  },
  {
   "cell_type": "markdown",
   "metadata": {},
   "source": [
    "##### * Parameter Grid Search"
   ]
  },
  {
   "cell_type": "code",
   "execution_count": 18,
   "metadata": {},
   "outputs": [],
   "source": [
    "# param_grid = {\n",
    "#     'n_estimators': list(range(1, 202, 50)),\n",
    "#     'max_depth': list(range(1, 8)),\n",
    "#     'min_samples_leaf': list(range(1, 10)),\n",
    "#     'max_leaf_nodes': [None] + list(range(10, 20, 2)),\n",
    "#     'random_state': [42],\n",
    "#     'criterion': ['squared_error', 'absolute_error']\n",
    "# }\n",
    "\n",
    "# grid_search = GridSearchCV(RandomForestRegressor(), param_grid, cv=5, refit=True, verbose=1, scoring='neg_root_mean_squared_error')\n",
    "# grid_search.fit(X_train, y_train)\n",
    "\n",
    "# best_params = grid_search.best_params_\n",
    "# model = RandomForestRegressor(**best_params)\n",
    "# model.fit(X_train, y_train)"
   ]
  },
  {
   "cell_type": "code",
   "execution_count": null,
   "metadata": {},
   "outputs": [],
   "source": [
    "# from sklearn.model_selection import GridSearchCV\n",
    "# from sklearn.ensemble import RandomForestRegressor\n",
    "# from sklearn.metrics import mean_squared_error\n",
    "\n",
    "# # Define the parameter grid\n",
    "# param_grid = {\n",
    "#     'n_estimators': [100, 200, 300, 400, 500],\n",
    "#     'max_depth': [None, 10, 20, 30, 40],\n",
    "#     'min_samples_leaf': [1, 2, 3, 4, 5],\n",
    "#     'max_leaf_nodes': [None, 10, 20, 30, 40],\n",
    "#     'criterion': ['squared_error', 'absolute_error'],\n",
    "#     'max_features': ['sqrt', 'log2', None]\n",
    "# }\n",
    "\n",
    "# # Initialize the model\n",
    "# model = RandomForestRegressor(random_state=42)\n",
    "\n",
    "# # Initialize GridSearchCV\n",
    "# grid_search = GridSearchCV(estimator=model, param_grid=param_grid, cv=5, scoring='neg_mean_squared_error', n_jobs=-1, verbose=2)\n",
    "\n",
    "# # Fit the model to find the best parameters\n",
    "# grid_search.fit(X_train.drop(columns=['trip_time']), y_train)\n",
    "\n",
    "# # Retrieve the best parameters\n",
    "# best_params = grid_search.best_params_\n",
    "\n",
    "# print(\"Best Parameters Found:\")\n",
    "# print(best_params)\n",
    "\n",
    "# # Train the model with the best parameters\n",
    "# best_model = RandomForestRegressor(**best_params, random_state=42)\n",
    "# best_model.fit(X_train.drop(columns=['trip_time']), y_train)\n",
    "\n",
    "# # Evaluate the best model\n",
    "# y_pred = best_model.predict(X_test.drop(columns=['trip_time']))\n",
    "# mse = mean_squared_error(y_test, y_pred)\n",
    "# rmse = np.sqrt(mse)\n",
    " \n",
    "# print(f'Root Mean Squared Error (RMSE) with Best Parameters: {rmse}')\n"
   ]
  },
  {
   "cell_type": "markdown",
   "metadata": {},
   "source": [
    "##### * Narrow down the parameter grid search"
   ]
  },
  {
   "cell_type": "markdown",
   "metadata": {},
   "source": [
    "Later..."
   ]
  },
  {
   "cell_type": "markdown",
   "metadata": {},
   "source": [
    "##### * Only one parameter"
   ]
  },
  {
   "cell_type": "code",
   "execution_count": 12,
   "metadata": {},
   "outputs": [
    {
     "data": {
      "text/html": [
       "<style>#sk-container-id-1 {\n",
       "  /* Definition of color scheme common for light and dark mode */\n",
       "  --sklearn-color-text: black;\n",
       "  --sklearn-color-line: gray;\n",
       "  /* Definition of color scheme for unfitted estimators */\n",
       "  --sklearn-color-unfitted-level-0: #fff5e6;\n",
       "  --sklearn-color-unfitted-level-1: #f6e4d2;\n",
       "  --sklearn-color-unfitted-level-2: #ffe0b3;\n",
       "  --sklearn-color-unfitted-level-3: chocolate;\n",
       "  /* Definition of color scheme for fitted estimators */\n",
       "  --sklearn-color-fitted-level-0: #f0f8ff;\n",
       "  --sklearn-color-fitted-level-1: #d4ebff;\n",
       "  --sklearn-color-fitted-level-2: #b3dbfd;\n",
       "  --sklearn-color-fitted-level-3: cornflowerblue;\n",
       "\n",
       "  /* Specific color for light theme */\n",
       "  --sklearn-color-text-on-default-background: var(--sg-text-color, var(--theme-code-foreground, var(--jp-content-font-color1, black)));\n",
       "  --sklearn-color-background: var(--sg-background-color, var(--theme-background, var(--jp-layout-color0, white)));\n",
       "  --sklearn-color-border-box: var(--sg-text-color, var(--theme-code-foreground, var(--jp-content-font-color1, black)));\n",
       "  --sklearn-color-icon: #696969;\n",
       "\n",
       "  @media (prefers-color-scheme: dark) {\n",
       "    /* Redefinition of color scheme for dark theme */\n",
       "    --sklearn-color-text-on-default-background: var(--sg-text-color, var(--theme-code-foreground, var(--jp-content-font-color1, white)));\n",
       "    --sklearn-color-background: var(--sg-background-color, var(--theme-background, var(--jp-layout-color0, #111)));\n",
       "    --sklearn-color-border-box: var(--sg-text-color, var(--theme-code-foreground, var(--jp-content-font-color1, white)));\n",
       "    --sklearn-color-icon: #878787;\n",
       "  }\n",
       "}\n",
       "\n",
       "#sk-container-id-1 {\n",
       "  color: var(--sklearn-color-text);\n",
       "}\n",
       "\n",
       "#sk-container-id-1 pre {\n",
       "  padding: 0;\n",
       "}\n",
       "\n",
       "#sk-container-id-1 input.sk-hidden--visually {\n",
       "  border: 0;\n",
       "  clip: rect(1px 1px 1px 1px);\n",
       "  clip: rect(1px, 1px, 1px, 1px);\n",
       "  height: 1px;\n",
       "  margin: -1px;\n",
       "  overflow: hidden;\n",
       "  padding: 0;\n",
       "  position: absolute;\n",
       "  width: 1px;\n",
       "}\n",
       "\n",
       "#sk-container-id-1 div.sk-dashed-wrapped {\n",
       "  border: 1px dashed var(--sklearn-color-line);\n",
       "  margin: 0 0.4em 0.5em 0.4em;\n",
       "  box-sizing: border-box;\n",
       "  padding-bottom: 0.4em;\n",
       "  background-color: var(--sklearn-color-background);\n",
       "}\n",
       "\n",
       "#sk-container-id-1 div.sk-container {\n",
       "  /* jupyter's `normalize.less` sets `[hidden] { display: none; }`\n",
       "     but bootstrap.min.css set `[hidden] { display: none !important; }`\n",
       "     so we also need the `!important` here to be able to override the\n",
       "     default hidden behavior on the sphinx rendered scikit-learn.org.\n",
       "     See: https://github.com/scikit-learn/scikit-learn/issues/21755 */\n",
       "  display: inline-block !important;\n",
       "  position: relative;\n",
       "}\n",
       "\n",
       "#sk-container-id-1 div.sk-text-repr-fallback {\n",
       "  display: none;\n",
       "}\n",
       "\n",
       "div.sk-parallel-item,\n",
       "div.sk-serial,\n",
       "div.sk-item {\n",
       "  /* draw centered vertical line to link estimators */\n",
       "  background-image: linear-gradient(var(--sklearn-color-text-on-default-background), var(--sklearn-color-text-on-default-background));\n",
       "  background-size: 2px 100%;\n",
       "  background-repeat: no-repeat;\n",
       "  background-position: center center;\n",
       "}\n",
       "\n",
       "/* Parallel-specific style estimator block */\n",
       "\n",
       "#sk-container-id-1 div.sk-parallel-item::after {\n",
       "  content: \"\";\n",
       "  width: 100%;\n",
       "  border-bottom: 2px solid var(--sklearn-color-text-on-default-background);\n",
       "  flex-grow: 1;\n",
       "}\n",
       "\n",
       "#sk-container-id-1 div.sk-parallel {\n",
       "  display: flex;\n",
       "  align-items: stretch;\n",
       "  justify-content: center;\n",
       "  background-color: var(--sklearn-color-background);\n",
       "  position: relative;\n",
       "}\n",
       "\n",
       "#sk-container-id-1 div.sk-parallel-item {\n",
       "  display: flex;\n",
       "  flex-direction: column;\n",
       "}\n",
       "\n",
       "#sk-container-id-1 div.sk-parallel-item:first-child::after {\n",
       "  align-self: flex-end;\n",
       "  width: 50%;\n",
       "}\n",
       "\n",
       "#sk-container-id-1 div.sk-parallel-item:last-child::after {\n",
       "  align-self: flex-start;\n",
       "  width: 50%;\n",
       "}\n",
       "\n",
       "#sk-container-id-1 div.sk-parallel-item:only-child::after {\n",
       "  width: 0;\n",
       "}\n",
       "\n",
       "/* Serial-specific style estimator block */\n",
       "\n",
       "#sk-container-id-1 div.sk-serial {\n",
       "  display: flex;\n",
       "  flex-direction: column;\n",
       "  align-items: center;\n",
       "  background-color: var(--sklearn-color-background);\n",
       "  padding-right: 1em;\n",
       "  padding-left: 1em;\n",
       "}\n",
       "\n",
       "\n",
       "/* Toggleable style: style used for estimator/Pipeline/ColumnTransformer box that is\n",
       "clickable and can be expanded/collapsed.\n",
       "- Pipeline and ColumnTransformer use this feature and define the default style\n",
       "- Estimators will overwrite some part of the style using the `sk-estimator` class\n",
       "*/\n",
       "\n",
       "/* Pipeline and ColumnTransformer style (default) */\n",
       "\n",
       "#sk-container-id-1 div.sk-toggleable {\n",
       "  /* Default theme specific background. It is overwritten whether we have a\n",
       "  specific estimator or a Pipeline/ColumnTransformer */\n",
       "  background-color: var(--sklearn-color-background);\n",
       "}\n",
       "\n",
       "/* Toggleable label */\n",
       "#sk-container-id-1 label.sk-toggleable__label {\n",
       "  cursor: pointer;\n",
       "  display: block;\n",
       "  width: 100%;\n",
       "  margin-bottom: 0;\n",
       "  padding: 0.5em;\n",
       "  box-sizing: border-box;\n",
       "  text-align: center;\n",
       "}\n",
       "\n",
       "#sk-container-id-1 label.sk-toggleable__label-arrow:before {\n",
       "  /* Arrow on the left of the label */\n",
       "  content: \"▸\";\n",
       "  float: left;\n",
       "  margin-right: 0.25em;\n",
       "  color: var(--sklearn-color-icon);\n",
       "}\n",
       "\n",
       "#sk-container-id-1 label.sk-toggleable__label-arrow:hover:before {\n",
       "  color: var(--sklearn-color-text);\n",
       "}\n",
       "\n",
       "/* Toggleable content - dropdown */\n",
       "\n",
       "#sk-container-id-1 div.sk-toggleable__content {\n",
       "  max-height: 0;\n",
       "  max-width: 0;\n",
       "  overflow: hidden;\n",
       "  text-align: left;\n",
       "  /* unfitted */\n",
       "  background-color: var(--sklearn-color-unfitted-level-0);\n",
       "}\n",
       "\n",
       "#sk-container-id-1 div.sk-toggleable__content.fitted {\n",
       "  /* fitted */\n",
       "  background-color: var(--sklearn-color-fitted-level-0);\n",
       "}\n",
       "\n",
       "#sk-container-id-1 div.sk-toggleable__content pre {\n",
       "  margin: 0.2em;\n",
       "  border-radius: 0.25em;\n",
       "  color: var(--sklearn-color-text);\n",
       "  /* unfitted */\n",
       "  background-color: var(--sklearn-color-unfitted-level-0);\n",
       "}\n",
       "\n",
       "#sk-container-id-1 div.sk-toggleable__content.fitted pre {\n",
       "  /* unfitted */\n",
       "  background-color: var(--sklearn-color-fitted-level-0);\n",
       "}\n",
       "\n",
       "#sk-container-id-1 input.sk-toggleable__control:checked~div.sk-toggleable__content {\n",
       "  /* Expand drop-down */\n",
       "  max-height: 200px;\n",
       "  max-width: 100%;\n",
       "  overflow: auto;\n",
       "}\n",
       "\n",
       "#sk-container-id-1 input.sk-toggleable__control:checked~label.sk-toggleable__label-arrow:before {\n",
       "  content: \"▾\";\n",
       "}\n",
       "\n",
       "/* Pipeline/ColumnTransformer-specific style */\n",
       "\n",
       "#sk-container-id-1 div.sk-label input.sk-toggleable__control:checked~label.sk-toggleable__label {\n",
       "  color: var(--sklearn-color-text);\n",
       "  background-color: var(--sklearn-color-unfitted-level-2);\n",
       "}\n",
       "\n",
       "#sk-container-id-1 div.sk-label.fitted input.sk-toggleable__control:checked~label.sk-toggleable__label {\n",
       "  background-color: var(--sklearn-color-fitted-level-2);\n",
       "}\n",
       "\n",
       "/* Estimator-specific style */\n",
       "\n",
       "/* Colorize estimator box */\n",
       "#sk-container-id-1 div.sk-estimator input.sk-toggleable__control:checked~label.sk-toggleable__label {\n",
       "  /* unfitted */\n",
       "  background-color: var(--sklearn-color-unfitted-level-2);\n",
       "}\n",
       "\n",
       "#sk-container-id-1 div.sk-estimator.fitted input.sk-toggleable__control:checked~label.sk-toggleable__label {\n",
       "  /* fitted */\n",
       "  background-color: var(--sklearn-color-fitted-level-2);\n",
       "}\n",
       "\n",
       "#sk-container-id-1 div.sk-label label.sk-toggleable__label,\n",
       "#sk-container-id-1 div.sk-label label {\n",
       "  /* The background is the default theme color */\n",
       "  color: var(--sklearn-color-text-on-default-background);\n",
       "}\n",
       "\n",
       "/* On hover, darken the color of the background */\n",
       "#sk-container-id-1 div.sk-label:hover label.sk-toggleable__label {\n",
       "  color: var(--sklearn-color-text);\n",
       "  background-color: var(--sklearn-color-unfitted-level-2);\n",
       "}\n",
       "\n",
       "/* Label box, darken color on hover, fitted */\n",
       "#sk-container-id-1 div.sk-label.fitted:hover label.sk-toggleable__label.fitted {\n",
       "  color: var(--sklearn-color-text);\n",
       "  background-color: var(--sklearn-color-fitted-level-2);\n",
       "}\n",
       "\n",
       "/* Estimator label */\n",
       "\n",
       "#sk-container-id-1 div.sk-label label {\n",
       "  font-family: monospace;\n",
       "  font-weight: bold;\n",
       "  display: inline-block;\n",
       "  line-height: 1.2em;\n",
       "}\n",
       "\n",
       "#sk-container-id-1 div.sk-label-container {\n",
       "  text-align: center;\n",
       "}\n",
       "\n",
       "/* Estimator-specific */\n",
       "#sk-container-id-1 div.sk-estimator {\n",
       "  font-family: monospace;\n",
       "  border: 1px dotted var(--sklearn-color-border-box);\n",
       "  border-radius: 0.25em;\n",
       "  box-sizing: border-box;\n",
       "  margin-bottom: 0.5em;\n",
       "  /* unfitted */\n",
       "  background-color: var(--sklearn-color-unfitted-level-0);\n",
       "}\n",
       "\n",
       "#sk-container-id-1 div.sk-estimator.fitted {\n",
       "  /* fitted */\n",
       "  background-color: var(--sklearn-color-fitted-level-0);\n",
       "}\n",
       "\n",
       "/* on hover */\n",
       "#sk-container-id-1 div.sk-estimator:hover {\n",
       "  /* unfitted */\n",
       "  background-color: var(--sklearn-color-unfitted-level-2);\n",
       "}\n",
       "\n",
       "#sk-container-id-1 div.sk-estimator.fitted:hover {\n",
       "  /* fitted */\n",
       "  background-color: var(--sklearn-color-fitted-level-2);\n",
       "}\n",
       "\n",
       "/* Specification for estimator info (e.g. \"i\" and \"?\") */\n",
       "\n",
       "/* Common style for \"i\" and \"?\" */\n",
       "\n",
       ".sk-estimator-doc-link,\n",
       "a:link.sk-estimator-doc-link,\n",
       "a:visited.sk-estimator-doc-link {\n",
       "  float: right;\n",
       "  font-size: smaller;\n",
       "  line-height: 1em;\n",
       "  font-family: monospace;\n",
       "  background-color: var(--sklearn-color-background);\n",
       "  border-radius: 1em;\n",
       "  height: 1em;\n",
       "  width: 1em;\n",
       "  text-decoration: none !important;\n",
       "  margin-left: 1ex;\n",
       "  /* unfitted */\n",
       "  border: var(--sklearn-color-unfitted-level-1) 1pt solid;\n",
       "  color: var(--sklearn-color-unfitted-level-1);\n",
       "}\n",
       "\n",
       ".sk-estimator-doc-link.fitted,\n",
       "a:link.sk-estimator-doc-link.fitted,\n",
       "a:visited.sk-estimator-doc-link.fitted {\n",
       "  /* fitted */\n",
       "  border: var(--sklearn-color-fitted-level-1) 1pt solid;\n",
       "  color: var(--sklearn-color-fitted-level-1);\n",
       "}\n",
       "\n",
       "/* On hover */\n",
       "div.sk-estimator:hover .sk-estimator-doc-link:hover,\n",
       ".sk-estimator-doc-link:hover,\n",
       "div.sk-label-container:hover .sk-estimator-doc-link:hover,\n",
       ".sk-estimator-doc-link:hover {\n",
       "  /* unfitted */\n",
       "  background-color: var(--sklearn-color-unfitted-level-3);\n",
       "  color: var(--sklearn-color-background);\n",
       "  text-decoration: none;\n",
       "}\n",
       "\n",
       "div.sk-estimator.fitted:hover .sk-estimator-doc-link.fitted:hover,\n",
       ".sk-estimator-doc-link.fitted:hover,\n",
       "div.sk-label-container:hover .sk-estimator-doc-link.fitted:hover,\n",
       ".sk-estimator-doc-link.fitted:hover {\n",
       "  /* fitted */\n",
       "  background-color: var(--sklearn-color-fitted-level-3);\n",
       "  color: var(--sklearn-color-background);\n",
       "  text-decoration: none;\n",
       "}\n",
       "\n",
       "/* Span, style for the box shown on hovering the info icon */\n",
       ".sk-estimator-doc-link span {\n",
       "  display: none;\n",
       "  z-index: 9999;\n",
       "  position: relative;\n",
       "  font-weight: normal;\n",
       "  right: .2ex;\n",
       "  padding: .5ex;\n",
       "  margin: .5ex;\n",
       "  width: min-content;\n",
       "  min-width: 20ex;\n",
       "  max-width: 50ex;\n",
       "  color: var(--sklearn-color-text);\n",
       "  box-shadow: 2pt 2pt 4pt #999;\n",
       "  /* unfitted */\n",
       "  background: var(--sklearn-color-unfitted-level-0);\n",
       "  border: .5pt solid var(--sklearn-color-unfitted-level-3);\n",
       "}\n",
       "\n",
       ".sk-estimator-doc-link.fitted span {\n",
       "  /* fitted */\n",
       "  background: var(--sklearn-color-fitted-level-0);\n",
       "  border: var(--sklearn-color-fitted-level-3);\n",
       "}\n",
       "\n",
       ".sk-estimator-doc-link:hover span {\n",
       "  display: block;\n",
       "}\n",
       "\n",
       "/* \"?\"-specific style due to the `<a>` HTML tag */\n",
       "\n",
       "#sk-container-id-1 a.estimator_doc_link {\n",
       "  float: right;\n",
       "  font-size: 1rem;\n",
       "  line-height: 1em;\n",
       "  font-family: monospace;\n",
       "  background-color: var(--sklearn-color-background);\n",
       "  border-radius: 1rem;\n",
       "  height: 1rem;\n",
       "  width: 1rem;\n",
       "  text-decoration: none;\n",
       "  /* unfitted */\n",
       "  color: var(--sklearn-color-unfitted-level-1);\n",
       "  border: var(--sklearn-color-unfitted-level-1) 1pt solid;\n",
       "}\n",
       "\n",
       "#sk-container-id-1 a.estimator_doc_link.fitted {\n",
       "  /* fitted */\n",
       "  border: var(--sklearn-color-fitted-level-1) 1pt solid;\n",
       "  color: var(--sklearn-color-fitted-level-1);\n",
       "}\n",
       "\n",
       "/* On hover */\n",
       "#sk-container-id-1 a.estimator_doc_link:hover {\n",
       "  /* unfitted */\n",
       "  background-color: var(--sklearn-color-unfitted-level-3);\n",
       "  color: var(--sklearn-color-background);\n",
       "  text-decoration: none;\n",
       "}\n",
       "\n",
       "#sk-container-id-1 a.estimator_doc_link.fitted:hover {\n",
       "  /* fitted */\n",
       "  background-color: var(--sklearn-color-fitted-level-3);\n",
       "}\n",
       "</style><div id=\"sk-container-id-1\" class=\"sk-top-container\"><div class=\"sk-text-repr-fallback\"><pre>RandomForestRegressor(max_depth=10, max_features=None, min_samples_leaf=4,\n",
       "                      n_estimators=800, random_state=42)</pre><b>In a Jupyter environment, please rerun this cell to show the HTML representation or trust the notebook. <br />On GitHub, the HTML representation is unable to render, please try loading this page with nbviewer.org.</b></div><div class=\"sk-container\" hidden><div class=\"sk-item\"><div class=\"sk-estimator fitted sk-toggleable\"><input class=\"sk-toggleable__control sk-hidden--visually\" id=\"sk-estimator-id-1\" type=\"checkbox\" checked><label for=\"sk-estimator-id-1\" class=\"sk-toggleable__label fitted sk-toggleable__label-arrow fitted\">&nbsp;&nbsp;RandomForestRegressor<a class=\"sk-estimator-doc-link fitted\" rel=\"noreferrer\" target=\"_blank\" href=\"https://scikit-learn.org/1.5/modules/generated/sklearn.ensemble.RandomForestRegressor.html\">?<span>Documentation for RandomForestRegressor</span></a><span class=\"sk-estimator-doc-link fitted\">i<span>Fitted</span></span></label><div class=\"sk-toggleable__content fitted\"><pre>RandomForestRegressor(max_depth=10, max_features=None, min_samples_leaf=4,\n",
       "                      n_estimators=800, random_state=42)</pre></div> </div></div></div></div>"
      ],
      "text/plain": [
       "RandomForestRegressor(max_depth=10, max_features=None, min_samples_leaf=4,\n",
       "                      n_estimators=800, random_state=42)"
      ]
     },
     "execution_count": 12,
     "metadata": {},
     "output_type": "execute_result"
    }
   ],
   "source": [
    "# Recommended initial hyperparameter values\n",
    "n_estimators = 800\n",
    "max_depth = 10  # Let the tree grow until all leaves are pure or until they contain less than min_samples_split samples\n",
    "min_samples_split = 2\n",
    "min_samples_leaf = 4  # The minimum number of samples required to be at a leaf node\n",
    "# max_leaf_nodes = None  # Let the trees grow until all leaves are pure or until they contain less than min_samples_split samples\n",
    "random_state = 42  # Ensures reproducibility\n",
    "# criterion = 'squared_error'  # Default criterion for regression tasks\n",
    "max_features = None  # Consider sqrt of the number of features for each split\n",
    "bootstrap = True # Bootstrap samples by default\n",
    "\n",
    "# {'n_estimators': 800,\n",
    "#  'min_samples_split': 2,\n",
    "#  'min_samples_leaf': 4,\n",
    "#  'max_features': None,\n",
    "#  'max_depth': 10,\n",
    "#  'bootstrap': True}\n",
    "\n",
    "# Initialize and train the model with the recommended values\n",
    "model = RandomForestRegressor(\n",
    "    n_estimators=n_estimators,\n",
    "    max_depth=max_depth,\n",
    "    min_samples_leaf=min_samples_leaf,\n",
    "    # max_leaf_nodes=max_leaf_nodes,\n",
    "    random_state=random_state,\n",
    "    # criterion=criterion,\n",
    "    max_features=max_features,\n",
    "    bootstrap = bootstrap\n",
    ")\n",
    "\n",
    "# # Drop 'trip_time' from the training data\n",
    "# X_train_features = X_train.drop(columns=['trip_time'])\n",
    "# X_test_features = X_test.drop(columns=['trip_time'])\n",
    "\n",
    "\n",
    "model.fit(X_train.drop(columns=['trip_time']), y_train)"
   ]
  },
  {
   "cell_type": "markdown",
   "metadata": {},
   "source": [
    "#### Evaluate the model using RMSE"
   ]
  },
  {
   "cell_type": "code",
   "execution_count": 13,
   "metadata": {},
   "outputs": [
    {
     "name": "stdout",
     "output_type": "stream",
     "text": [
      "Root Mean Squared Error (RMSE): 22.804526908034514\n"
     ]
    },
    {
     "name": "stderr",
     "output_type": "stream",
     "text": [
      "C:\\Users\\nadab\\AppData\\Local\\Packages\\PythonSoftwareFoundation.Python.3.11_qbz5n2kfra8p0\\LocalCache\\local-packages\\Python311\\site-packages\\sklearn\\metrics\\_regression.py:492: FutureWarning: 'squared' is deprecated in version 1.4 and will be removed in 1.6. To calculate the root mean squared error, use the function'root_mean_squared_error'.\n",
      "  warnings.warn(\n"
     ]
    }
   ],
   "source": [
    "# Evaluate the model using RMSE\n",
    "y_pred = model.predict(X_test_features)\n",
    "mse = mean_squared_error(y_test, y_pred, squared=False)\n",
    "rmse = np.sqrt(mse)\n",
    "\n",
    "print(f'Root Mean Squared Error (RMSE): {rmse}')\n"
   ]
  },
  {
   "cell_type": "code",
   "execution_count": null,
   "metadata": {},
   "outputs": [],
   "source": [
    "from sklearn.cluster import KMeans\n",
    "\n",
    "# Assuming df already contains your lat/lon data\n",
    "\n",
    "# Set the number of clusters based on how granular you want the area division to be\n",
    "kmeans = KMeans(n_clusters=10, random_state=42)\n",
    "df['area_cluster'] = kmeans.fit_predict(df[['lat', 'lon']])\n",
    "\n",
    "# area_cluster is a categorical feature representing different geographic areas\n",
    "# Include it in your features\n",
    "features = df[['distance', 'bearing', 'area_cluster']]\n",
    "\n",
    "# Convert area_cluster to a categorical feature for RFR\n",
    "features = pd.get_dummies(features, columns=['area_cluster'], drop_first=True)\n",
    "\n",
    "# Train your RFR model as before with this additional feature\n",
    "X_train, X_test, y_train, y_test = train_test_split(features, target, test_size=0.2, random_state=42)\n",
    "rfr = RandomForestRegressor(n_estimators=100, random_state=42)\n",
    "rfr.fit(X_train, y_train)\n"
   ]
  },
  {
   "cell_type": "markdown",
   "metadata": {},
   "source": [
    "#### Feature Importance Analysis"
   ]
  },
  {
   "cell_type": "code",
   "execution_count": 14,
   "metadata": {},
   "outputs": [
    {
     "data": {
      "image/png": "[encoded data removed]",
      "text/plain": [
       "<Figure size 1000x600 with 1 Axes>"
      ]
     },
     "metadata": {},
     "output_type": "display_data"
    },
    {
     "data": {
      "text/html": [
       "<div>\n",
       "<style scoped>\n",
       "    .dataframe tbody tr th:only-of-type {\n",
       "        vertical-align: middle;\n",
       "    }\n",
       "\n",
       "    .dataframe tbody tr th {\n",
       "        vertical-align: top;\n",
       "    }\n",
       "\n",
       "    .dataframe thead th {\n",
       "        text-align: right;\n",
       "    }\n",
       "</style>\n",
       "<table border=\"1\" class=\"dataframe\">\n",
       "  <thead>\n",
       "    <tr style=\"text-align: right;\">\n",
       "      <th></th>\n",
       "      <th>Feature</th>\n",
       "      <th>Importance</th>\n",
       "    </tr>\n",
       "  </thead>\n",
       "  <tbody>\n",
       "    <tr>\n",
       "      <th>2</th>\n",
       "      <td>dist</td>\n",
       "      <td>0.730625</td>\n",
       "    </tr>\n",
       "    <tr>\n",
       "      <th>6</th>\n",
       "      <td>timeID</td>\n",
       "      <td>0.156357</td>\n",
       "    </tr>\n",
       "    <tr>\n",
       "      <th>4</th>\n",
       "      <td>driverID</td>\n",
       "      <td>0.046938</td>\n",
       "    </tr>\n",
       "    <tr>\n",
       "      <th>8</th>\n",
       "      <td>lngs</td>\n",
       "      <td>0.009847</td>\n",
       "    </tr>\n",
       "    <tr>\n",
       "      <th>3</th>\n",
       "      <td>lats</td>\n",
       "      <td>0.009845</td>\n",
       "    </tr>\n",
       "    <tr>\n",
       "      <th>0</th>\n",
       "      <td>trip_id</td>\n",
       "      <td>0.009828</td>\n",
       "    </tr>\n",
       "    <tr>\n",
       "      <th>7</th>\n",
       "      <td>dateID</td>\n",
       "      <td>0.009808</td>\n",
       "    </tr>\n",
       "    <tr>\n",
       "      <th>9</th>\n",
       "      <td>dist_gap</td>\n",
       "      <td>0.009763</td>\n",
       "    </tr>\n",
       "    <tr>\n",
       "      <th>1</th>\n",
       "      <td>time_gap</td>\n",
       "      <td>0.009714</td>\n",
       "    </tr>\n",
       "    <tr>\n",
       "      <th>5</th>\n",
       "      <td>weekID</td>\n",
       "      <td>0.007276</td>\n",
       "    </tr>\n",
       "  </tbody>\n",
       "</table>\n",
       "</div>"
      ],
      "text/plain": [
       "    Feature  Importance\n",
       "2      dist    0.730625\n",
       "6    timeID    0.156357\n",
       "4  driverID    0.046938\n",
       "8      lngs    0.009847\n",
       "3      lats    0.009845\n",
       "0   trip_id    0.009828\n",
       "7    dateID    0.009808\n",
       "9  dist_gap    0.009763\n",
       "1  time_gap    0.009714\n",
       "5    weekID    0.007276"
      ]
     },
     "execution_count": 14,
     "metadata": {},
     "output_type": "execute_result"
    }
   ],
   "source": [
    "feature_importances = model.feature_importances_\n",
    "\n",
    "# Step 6: Create a DataFrame for better visualization\n",
    "importance_df = pd.DataFrame({\n",
    "    'Feature': X_train_features.columns,\n",
    "    'Importance': feature_importances\n",
    "})\n",
    "\n",
    "# Step 7: Sort the features by importance\n",
    "importance_df = importance_df.sort_values(by='Importance', ascending=False)\n",
    "\n",
    "# Step 8: Plot feature importance\n",
    "plt.figure(figsize=(10, 6))\n",
    "plt.barh(importance_df['Feature'], importance_df['Importance'], color='skyblue')\n",
    "plt.xlabel('Importance')\n",
    "plt.ylabel('Feature')\n",
    "plt.title('Feature Importance in Random Forest Model')\n",
    "plt.gca().invert_yaxis()  # Invert y-axis to show the most important feature on top\n",
    "plt.show()\n",
    "\n",
    "# Output the importance DataFrame for review\n",
    "importance_df"
   ]
  },
  {
   "cell_type": "markdown",
   "metadata": {},
   "source": [
    "### Step 6: Evaluate the Model with Learning Curves"
   ]
  },
  {
   "cell_type": "code",
   "execution_count": 15,
   "metadata": {},
   "outputs": [
    {
     "name": "stdout",
     "output_type": "stream",
     "text": [
      "2024-08-16T20:59:47\n",
      "Model_Run_20240816T205947\n"
     ]
    }
   ],
   "source": [
    "# Get current timestamp in Cairo time\n",
    "cairo_tz = pytz.timezone('Africa/Cairo')\n",
    "timestamp = datetime.now(cairo_tz).strftime('%Y-%m-%dT%H:%M:%S')\n",
    "\n",
    "# Generate a unique label based on the timestamp\n",
    "label = 'Model_Run_' + timestamp.replace(':', '').replace('-', '').split('.')[0]\n",
    "# label = 'Model_Run_' + datetime.now().strftime(\"%Y%m%d_%H%M%S\")\n",
    "\n",
    "print(timestamp)\n",
    "print(label)"
   ]
  },
  {
   "cell_type": "code",
   "execution_count": 16,
   "metadata": {},
   "outputs": [
    {
     "data": {
      "application/vnd.plotly.v1+json": {
       "config": {
        "plotlyServerURL": "https://plot.ly"
       },
       "data": [
        {
         "name": "Training error",
         "type": "scatter",
         "x": [
          1485,
          2970,
          4455,
          5941,
          7426,
          8911,
          10397,
          11882,
          13367,
          14853
         ],
         "y": [
          374.8195759854457,
          456.7428785115638,
          444.8551147597972,
          445.5872102920422,
          448.9999357675979,
          452.1583454422847,
          453.8958049250414,
          458.9833127485393,
          459.7361876725862,
          463.6211725749373
         ]
        },
        {
         "name": "Validation error",
         "type": "scatter",
         "x": [
          1485,
          2970,
          4455,
          5941,
          7426,
          8911,
          10397,
          11882,
          13367,
          14853
         ],
         "y": [
          541.4256091822092,
          553.8904583163762,
          538.6250203296652,
          535.8839619225762,
          536.0161099954772,
          534.4384794861403,
          534.4582083568112,
          532.2643863061073,
          531.9310793576145,
          531.4829976838523
         ]
        }
       ],
       "layout": {
        "legend": {
         "title": {
          "text": "Error Type"
         }
        },
        "template": {
         "data": {
          "bar": [
           {
            "error_x": {
             "color": "#2a3f5f"
            },
            "error_y": {
             "color": "#2a3f5f"
            },
            "marker": {
             "line": {
              "color": "#E5ECF6",
              "width": 0.5
             },
             "pattern": {
              "fillmode": "overlay",
              "size": 10,
              "solidity": 0.2
             }
            },
            "type": "bar"
           }
          ],
          "barpolar": [
           {
            "marker": {
             "line": {
              "color": "#E5ECF6",
              "width": 0.5
             },
             "pattern": {
              "fillmode": "overlay",
              "size": 10,
              "solidity": 0.2
             }
            },
            "type": "barpolar"
           }
          ],
          "carpet": [
           {
            "aaxis": {
             "endlinecolor": "#2a3f5f",
             "gridcolor": "white",
             "linecolor": "white",
             "minorgridcolor": "white",
             "startlinecolor": "#2a3f5f"
            },
            "baxis": {
             "endlinecolor": "#2a3f5f",
             "gridcolor": "white",
             "linecolor": "white",
             "minorgridcolor": "white",
             "startlinecolor": "#2a3f5f"
            },
            "type": "carpet"
           }
          ],
          "choropleth": [
           {
            "colorbar": {
             "outlinewidth": 0,
             "ticks": ""
            },
            "type": "choropleth"
           }
          ],
          "contour": [
           {
            "colorbar": {
             "outlinewidth": 0,
             "ticks": ""
            },
            "colorscale": [
             [
              0,
              "#0d0887"
             ],
             [
              0.1111111111111111,
              "#46039f"
             ],
             [
              0.2222222222222222,
              "#7201a8"
             ],
             [
              0.3333333333333333,
              "#9c179e"
             ],
             [
              0.4444444444444444,
              "#bd3786"
             ],
             [
              0.5555555555555556,
              "#d8576b"
             ],
             [
              0.6666666666666666,
              "#ed7953"
             ],
             [
              0.7777777777777778,
              "#fb9f3a"
             ],
             [
              0.8888888888888888,
              "#fdca26"
             ],
             [
              1,
              "#f0f921"
             ]
            ],
            "type": "contour"
           }
          ],
          "contourcarpet": [
           {
            "colorbar": {
             "outlinewidth": 0,
             "ticks": ""
            },
            "type": "contourcarpet"
           }
          ],
          "heatmap": [
           {
            "colorbar": {
             "outlinewidth": 0,
             "ticks": ""
            },
            "colorscale": [
             [
              0,
              "#0d0887"
             ],
             [
              0.1111111111111111,
              "#46039f"
             ],
             [
              0.2222222222222222,
              "#7201a8"
             ],
             [
              0.3333333333333333,
              "#9c179e"
             ],
             [
              0.4444444444444444,
              "#bd3786"
             ],
             [
              0.5555555555555556,
              "#d8576b"
             ],
             [
              0.6666666666666666,
              "#ed7953"
             ],
             [
              0.7777777777777778,
              "#fb9f3a"
             ],
             [
              0.8888888888888888,
              "#fdca26"
             ],
             [
              1,
              "#f0f921"
             ]
            ],
            "type": "heatmap"
           }
          ],
          "heatmapgl": [
           {
            "colorbar": {
             "outlinewidth": 0,
             "ticks": ""
            },
            "colorscale": [
             [
              0,
              "#0d0887"
             ],
             [
              0.1111111111111111,
              "#46039f"
             ],
             [
              0.2222222222222222,
              "#7201a8"
             ],
             [
              0.3333333333333333,
              "#9c179e"
             ],
             [
              0.4444444444444444,
              "#bd3786"
             ],
             [
              0.5555555555555556,
              "#d8576b"
             ],
             [
              0.6666666666666666,
              "#ed7953"
             ],
             [
              0.7777777777777778,
              "#fb9f3a"
             ],
             [
              0.8888888888888888,
              "#fdca26"
             ],
             [
              1,
              "#f0f921"
             ]
            ],
            "type": "heatmapgl"
           }
          ],
          "histogram": [
           {
            "marker": {
             "pattern": {
              "fillmode": "overlay",
              "size": 10,
              "solidity": 0.2
             }
            },
            "type": "histogram"
           }
          ],
          "histogram2d": [
           {
            "colorbar": {
             "outlinewidth": 0,
             "ticks": ""
            },
            "colorscale": [
             [
              0,
              "#0d0887"
             ],
             [
              0.1111111111111111,
              "#46039f"
             ],
             [
              0.2222222222222222,
              "#7201a8"
             ],
             [
              0.3333333333333333,
              "#9c179e"
             ],
             [
              0.4444444444444444,
              "#bd3786"
             ],
             [
              0.5555555555555556,
              "#d8576b"
             ],
             [
              0.6666666666666666,
              "#ed7953"
             ],
             [
              0.7777777777777778,
              "#fb9f3a"
             ],
             [
              0.8888888888888888,
              "#fdca26"
             ],
             [
              1,
              "#f0f921"
             ]
            ],
            "type": "histogram2d"
           }
          ],
          "histogram2dcontour": [
           {
            "colorbar": {
             "outlinewidth": 0,
             "ticks": ""
            },
            "colorscale": [
             [
              0,
              "#0d0887"
             ],
             [
              0.1111111111111111,
              "#46039f"
             ],
             [
              0.2222222222222222,
              "#7201a8"
             ],
             [
              0.3333333333333333,
              "#9c179e"
             ],
             [
              0.4444444444444444,
              "#bd3786"
             ],
             [
              0.5555555555555556,
              "#d8576b"
             ],
             [
              0.6666666666666666,
              "#ed7953"
             ],
             [
              0.7777777777777778,
              "#fb9f3a"
             ],
             [
              0.8888888888888888,
              "#fdca26"
             ],
             [
              1,
              "#f0f921"
             ]
            ],
            "type": "histogram2dcontour"
           }
          ],
          "mesh3d": [
           {
            "colorbar": {
             "outlinewidth": 0,
             "ticks": ""
            },
            "type": "mesh3d"
           }
          ],
          "parcoords": [
           {
            "line": {
             "colorbar": {
              "outlinewidth": 0,
              "ticks": ""
             }
            },
            "type": "parcoords"
           }
          ],
          "pie": [
           {
            "automargin": true,
            "type": "pie"
           }
          ],
          "scatter": [
           {
            "fillpattern": {
             "fillmode": "overlay",
             "size": 10,
             "solidity": 0.2
            },
            "type": "scatter"
           }
          ],
          "scatter3d": [
           {
            "line": {
             "colorbar": {
              "outlinewidth": 0,
              "ticks": ""
             }
            },
            "marker": {
             "colorbar": {
              "outlinewidth": 0,
              "ticks": ""
             }
            },
            "type": "scatter3d"
           }
          ],
          "scattercarpet": [
           {
            "marker": {
             "colorbar": {
              "outlinewidth": 0,
              "ticks": ""
             }
            },
            "type": "scattercarpet"
           }
          ],
          "scattergeo": [
           {
            "marker": {
             "colorbar": {
              "outlinewidth": 0,
              "ticks": ""
             }
            },
            "type": "scattergeo"
           }
          ],
          "scattergl": [
           {
            "marker": {
             "colorbar": {
              "outlinewidth": 0,
              "ticks": ""
             }
            },
            "type": "scattergl"
           }
          ],
          "scattermapbox": [
           {
            "marker": {
             "colorbar": {
              "outlinewidth": 0,
              "ticks": ""
             }
            },
            "type": "scattermapbox"
           }
          ],
          "scatterpolar": [
           {
            "marker": {
             "colorbar": {
              "outlinewidth": 0,
              "ticks": ""
             }
            },
            "type": "scatterpolar"
           }
          ],
          "scatterpolargl": [
           {
            "marker": {
             "colorbar": {
              "outlinewidth": 0,
              "ticks": ""
             }
            },
            "type": "scatterpolargl"
           }
          ],
          "scatterternary": [
           {
            "marker": {
             "colorbar": {
              "outlinewidth": 0,
              "ticks": ""
             }
            },
            "type": "scatterternary"
           }
          ],
          "surface": [
           {
            "colorbar": {
             "outlinewidth": 0,
             "ticks": ""
            },
            "colorscale": [
             [
              0,
              "#0d0887"
             ],
             [
              0.1111111111111111,
              "#46039f"
             ],
             [
              0.2222222222222222,
              "#7201a8"
             ],
             [
              0.3333333333333333,
              "#9c179e"
             ],
             [
              0.4444444444444444,
              "#bd3786"
             ],
             [
              0.5555555555555556,
              "#d8576b"
             ],
             [
              0.6666666666666666,
              "#ed7953"
             ],
             [
              0.7777777777777778,
              "#fb9f3a"
             ],
             [
              0.8888888888888888,
              "#fdca26"
             ],
             [
              1,
              "#f0f921"
             ]
            ],
            "type": "surface"
           }
          ],
          "table": [
           {
            "cells": {
             "fill": {
              "color": "#EBF0F8"
             },
             "line": {
              "color": "white"
             }
            },
            "header": {
             "fill": {
              "color": "#C8D4E3"
             },
             "line": {
              "color": "white"
             }
            },
            "type": "table"
           }
          ]
         },
         "layout": {
          "annotationdefaults": {
           "arrowcolor": "#2a3f5f",
           "arrowhead": 0,
           "arrowwidth": 1
          },
          "autotypenumbers": "strict",
          "coloraxis": {
           "colorbar": {
            "outlinewidth": 0,
            "ticks": ""
           }
          },
          "colorscale": {
           "diverging": [
            [
             0,
             "#8e0152"
            ],
            [
             0.1,
             "#c51b7d"
            ],
            [
             0.2,
             "#de77ae"
            ],
            [
             0.3,
             "#f1b6da"
            ],
            [
             0.4,
             "#fde0ef"
            ],
            [
             0.5,
             "#f7f7f7"
            ],
            [
             0.6,
             "#e6f5d0"
            ],
            [
             0.7,
             "#b8e186"
            ],
            [
             0.8,
             "#7fbc41"
            ],
            [
             0.9,
             "#4d9221"
            ],
            [
             1,
             "#276419"
            ]
           ],
           "sequential": [
            [
             0,
             "#0d0887"
            ],
            [
             0.1111111111111111,
             "#46039f"
            ],
            [
             0.2222222222222222,
             "#7201a8"
            ],
            [
             0.3333333333333333,
             "#9c179e"
            ],
            [
             0.4444444444444444,
             "#bd3786"
            ],
            [
             0.5555555555555556,
             "#d8576b"
            ],
            [
             0.6666666666666666,
             "#ed7953"
            ],
            [
             0.7777777777777778,
             "#fb9f3a"
            ],
            [
             0.8888888888888888,
             "#fdca26"
            ],
            [
             1,
             "#f0f921"
            ]
           ],
           "sequentialminus": [
            [
             0,
             "#0d0887"
            ],
            [
             0.1111111111111111,
             "#46039f"
            ],
            [
             0.2222222222222222,
             "#7201a8"
            ],
            [
             0.3333333333333333,
             "#9c179e"
            ],
            [
             0.4444444444444444,
             "#bd3786"
            ],
            [
             0.5555555555555556,
             "#d8576b"
            ],
            [
             0.6666666666666666,
             "#ed7953"
            ],
            [
             0.7777777777777778,
             "#fb9f3a"
            ],
            [
             0.8888888888888888,
             "#fdca26"
            ],
            [
             1,
             "#f0f921"
            ]
           ]
          },
          "colorway": [
           "#636efa",
           "#EF553B",
           "#00cc96",
           "#ab63fa",
           "#FFA15A",
           "#19d3f3",
           "#FF6692",
           "#B6E880",
           "#FF97FF",
           "#FECB52"
          ],
          "font": {
           "color": "#2a3f5f"
          },
          "geo": {
           "bgcolor": "white",
           "lakecolor": "white",
           "landcolor": "#E5ECF6",
           "showlakes": true,
           "showland": true,
           "subunitcolor": "white"
          },
          "hoverlabel": {
           "align": "left"
          },
          "hovermode": "closest",
          "mapbox": {
           "style": "light"
          },
          "paper_bgcolor": "white",
          "plot_bgcolor": "#E5ECF6",
          "polar": {
           "angularaxis": {
            "gridcolor": "white",
            "linecolor": "white",
            "ticks": ""
           },
           "bgcolor": "#E5ECF6",
           "radialaxis": {
            "gridcolor": "white",
            "linecolor": "white",
            "ticks": ""
           }
          },
          "scene": {
           "xaxis": {
            "backgroundcolor": "#E5ECF6",
            "gridcolor": "white",
            "gridwidth": 2,
            "linecolor": "white",
            "showbackground": true,
            "ticks": "",
            "zerolinecolor": "white"
           },
           "yaxis": {
            "backgroundcolor": "#E5ECF6",
            "gridcolor": "white",
            "gridwidth": 2,
            "linecolor": "white",
            "showbackground": true,
            "ticks": "",
            "zerolinecolor": "white"
           },
           "zaxis": {
            "backgroundcolor": "#E5ECF6",
            "gridcolor": "white",
            "gridwidth": 2,
            "linecolor": "white",
            "showbackground": true,
            "ticks": "",
            "zerolinecolor": "white"
           }
          },
          "shapedefaults": {
           "line": {
            "color": "#2a3f5f"
           }
          },
          "ternary": {
           "aaxis": {
            "gridcolor": "white",
            "linecolor": "white",
            "ticks": ""
           },
           "baxis": {
            "gridcolor": "white",
            "linecolor": "white",
            "ticks": ""
           },
           "bgcolor": "#E5ECF6",
           "caxis": {
            "gridcolor": "white",
            "linecolor": "white",
            "ticks": ""
           }
          },
          "title": {
           "x": 0.05
          },
          "xaxis": {
           "automargin": true,
           "gridcolor": "white",
           "linecolor": "white",
           "ticks": "",
           "title": {
            "standoff": 15
           },
           "zerolinecolor": "white",
           "zerolinewidth": 2
          },
          "yaxis": {
           "automargin": true,
           "gridcolor": "white",
           "linecolor": "white",
           "ticks": "",
           "title": {
            "standoff": 15
           },
           "zerolinecolor": "white",
           "zerolinewidth": 2
          }
         }
        },
        "title": {
         "text": "Learning Curve: Model_Run_20240816T205947"
        },
        "xaxis": {
         "title": {
          "text": "Number of Training Examples"
         }
        },
        "yaxis": {
         "title": {
          "text": "Root Mean Squared Error (RMSE)"
         }
        }
       }
      }
     },
     "metadata": {},
     "output_type": "display_data"
    }
   ],
   "source": [
    "train_sizes, train_scores, valid_scores = learning_curve(\n",
    "    model, X_train.drop(columns=['trip_time']), y_train, train_sizes=np.linspace(0.1, 1, 10), cv=5, scoring='neg_root_mean_squared_error')\n",
    "\n",
    "\n",
    "fig = go.Figure()\n",
    "fig.add_trace(go.Scatter(x=train_sizes, y=-np.mean(train_scores, axis=1), name='Training error'))\n",
    "fig.add_trace(go.Scatter(x=train_sizes, y=-np.mean(valid_scores, axis=1), name='Validation error'))\n",
    "fig.update_layout(\n",
    "    title='Learning Curve: ' + label,\n",
    "    xaxis_title='Number of Training Examples',\n",
    "    yaxis_title='Root Mean Squared Error (RMSE)',\n",
    "    legend_title='Error Type'\n",
    ")\n",
    "fig.show()\n",
    "\n",
    "# Specify the directory and file name\n",
    "output_directory = 'Careem_RFR_Figures/'  # Replace with your directory path\n",
    "if not os.path.exists(output_directory):\n",
    "    os.makedirs(output_directory)  # Create the directory if it doesn't exist\n",
    "output_file = os.path.join(output_directory, f'learning_curve_v2.1_{label}.png')\n",
    "\n",
    "# Save the figure\n",
    "fig.write_image(output_file)"
   ]
  },
  {
   "cell_type": "markdown",
   "metadata": {},
   "source": [
    "### Step 7: Make Predictions and Calculate Errors"
   ]
  },
  {
   "cell_type": "code",
   "execution_count": 18,
   "metadata": {},
   "outputs": [
    {
     "data": {
      "image/png": "[encoded data removed]",
      "text/plain": [
       "<Figure size 1000x500 with 1 Axes>"
      ]
     },
     "metadata": {},
     "output_type": "display_data"
    },
    {
     "name": "stdout",
     "output_type": "stream",
     "text": [
      "Mean Absolute Error (MAE): 390.49572726804627\n",
      "R^2 Score: 0.4040463724914317\n"
     ]
    }
   ],
   "source": [
    "def estimations(test_data, model, feature_names):\n",
    "    features_data = test_data[feature_names]\n",
    "    test_data['trip_time_estimate'] = model.predict(features_data)\n",
    "    test_data['error'] = test_data['trip_time'] - test_data['trip_time_estimate']\n",
    "    test_data = test_data.query(\"error < 3600\")\n",
    "    return test_data\n",
    "\n",
    "# Get the feature names used during training\n",
    "feature_names = X_train.drop(columns=['trip_time']).columns.tolist()\n",
    "\n",
    "def plot_graphs(plot_df):\n",
    "    plt.figure(figsize=(10, 5))\n",
    "    plt.scatter(plot_df['trip_time'], plot_df['trip_time_estimate'], alpha=0.5)\n",
    "    plt.plot([plot_df['trip_time'].min(), plot_df['trip_time'].max()], \n",
    "             [plot_df['trip_time'].min(), plot_df['trip_time'].max()], 'r--')\n",
    "    plt.xlabel('Actual Trip Time')\n",
    "    plt.ylabel('Estimated Trip Time')\n",
    "    plt.title('Actual vs. Estimated Trip Time: ' + label)\n",
    "\n",
    "    # Save the figure\n",
    "    if not os.path.exists(output_directory):\n",
    "        os.makedirs(output_directory)  # Create the directory if it doesn't exist\n",
    "    output_file = os.path.join(output_directory, f'actual_vs_estimated_v2.1_{label}.png')\n",
    "    plt.savefig(output_file)\n",
    "    plt.show()\n",
    "    plt.close()\n",
    "\n",
    "def get_metrics(plot_df):\n",
    "    mae = mean_absolute_error(plot_df['trip_time'], plot_df['trip_time_estimate'])\n",
    "    r2 = r2_score(plot_df['trip_time'], plot_df['trip_time_estimate'])\n",
    "    print(f'Mean Absolute Error (MAE): {mae}')\n",
    "    print(f'R^2 Score: {r2}')\n",
    "    return mae, r2\n",
    "\n",
    "# Assuming plot_df is defined from the previous estimations step\n",
    "plot_df = estimations(X_test, model, feature_names)\n",
    "plot_graphs(plot_df)\n",
    "mae, r2 = get_metrics(plot_df)"
   ]
  },
  {
   "cell_type": "markdown",
   "metadata": {},
   "source": [
    "### Step 8: Log the results"
   ]
  },
  {
   "cell_type": "code",
   "execution_count": 21,
   "metadata": {},
   "outputs": [],
   "source": [
    "# Define the log file path\n",
    "log_file_path = 'model_training_results_v2.1_log_.csv'\n",
    "\n",
    "# Create a log file with headers if it doesn't exist\n",
    "if not os.path.exists(log_file_path):\n",
    "    with open(log_file_path, mode='w', newline='') as file:\n",
    "        writer = csv.writer(file)\n",
    "        writer.writerow(['Timestamp', 'Label', 'n_estimators', 'max_depth', 'min_samples_leaf', 'max_leaf_nodes', 'random_state', 'criterion', 'max_features', 'RMSE', 'MAE', 'R2_Score', 'Input_Data_Files', 'Contributor'])\n",
    "\n",
    "def log_model_training(n_estimators, max_depth, min_samples_leaf, max_leaf_nodes, random_state, criterion, max_features, RMSE, MAE, R2_Score, input_data_files):\n",
    "    # Log details into CSV file\n",
    "    with open(log_file_path, mode='a', newline='') as file:\n",
    "        writer = csv.writer(file)\n",
    "        writer.writerow([timestamp, label, n_estimators, max_depth, min_samples_leaf, max_leaf_nodes, random_state, criterion, max_features, RMSE, MAE, R2_Score, input_data_files, contributor])\n",
    "\n",
    "\n",
    "# Example usage\n",
    "RMSE = rmse\n",
    "MAE = mae\n",
    "R2_Score = r2\n",
    "# Convert list of files to a comma-separated string\n",
    "input_data_files = ', '.join(files_names)\n",
    "max_leaf_nodes = \"Default\"\n",
    "criterion = \"Default\"\n",
    "# input_data_files = 'clean_2024-01-25.json, clean_2024-01-26.json, clean_2024-01-27.json, clean_2024-01-28.json, clean_2024-01-29.json'\n",
    "\n",
    "log_model_training(n_estimators, max_depth, min_samples_leaf, max_leaf_nodes, random_state, criterion, max_features, RMSE, MAE, R2_Score, input_data_files)\n"
   ]
  },
  {
   "cell_type": "code",
   "execution_count": 22,
   "metadata": {},
   "outputs": [
    {
     "data": {
      "text/plain": [
       "[Text(0.5223511464497042, 0.9545454545454546, 'x[2] <= 7.22\\nsquared_error = 475296.511\\nsamples = 11772\\nvalue = 1745.377'),\n",
       " Text(0.25737333579881655, 0.8636363636363636, 'x[2] <= 4.052\\nsquared_error = 284669.619\\nsamples = 6619\\nvalue = 1443.2'),\n",
       " Text(0.3898622411242604, 0.9090909090909092, 'True  '),\n",
       " Text(0.11281897189349112, 0.7727272727272727, 'x[2] <= 2.21\\nsquared_error = 222138.411\\nsamples = 2863\\nvalue = 1216.339'),\n",
       " Text(0.04571930473372781, 0.6818181818181818, 'x[2] <= 0.887\\nsquared_error = 199776.172\\nsamples = 912\\nvalue = 1048.645'),\n",
       " Text(0.011926775147928994, 0.5909090909090909, 'x[4] <= 119.0\\nsquared_error = 154802.722\\nsamples = 125\\nvalue = 797.264'),\n",
       " Text(0.004807692307692308, 0.5, 'x[5] <= 1.5\\nsquared_error = 57997.652\\nsamples = 11\\nvalue = 526.812'),\n",
       " Text(0.0033284023668639054, 0.4090909090909091, 'squared_error = 27656.543\\nsamples = 6\\nvalue = 370.111'),\n",
       " Text(0.00628698224852071, 0.4090909090909091, 'squared_error = 24845.061\\nsamples = 5\\nvalue = 728.286'),\n",
       " Text(0.01904585798816568, 0.5, 'x[3] <= 9209.0\\nsquared_error = 156403.8\\nsamples = 114\\nvalue = 823.331'),\n",
       " Text(0.009245562130177515, 0.4090909090909091, 'x[2] <= 0.428\\nsquared_error = 111756.353\\nsamples = 57\\nvalue = 739.306'),\n",
       " Text(0.0029585798816568047, 0.3181818181818182, 'x[2] <= 0.055\\nsquared_error = 99676.49\\nsamples = 20\\nvalue = 594.714'),\n",
       " Text(0.0014792899408284023, 0.22727272727272727, 'squared_error = 126809.083\\nsamples = 7\\nvalue = 775.5'),\n",
       " Text(0.004437869822485207, 0.22727272727272727, 'x[6] <= 984.0\\nsquared_error = 36429.984\\nsamples = 13\\nvalue = 459.125'),\n",
       " Text(0.0029585798816568047, 0.13636363636363635, 'squared_error = 38295.429\\nsamples = 6\\nvalue = 576.0'),\n",
       " Text(0.005917159763313609, 0.13636363636363635, 'squared_error = 16091.506\\nsamples = 7\\nvalue = 368.222'),\n",
       " Text(0.015532544378698224, 0.3181818181818182, 'x[4] <= 1485.5\\nsquared_error = 102375.45\\nsamples = 37\\nvalue = 810.333'),\n",
       " Text(0.011834319526627219, 0.22727272727272727, 'x[2] <= 0.656\\nsquared_error = 104880.1\\nsamples = 28\\nvalue = 861.826'),\n",
       " Text(0.008875739644970414, 0.13636363636363635, 'x[6] <= 1000.5\\nsquared_error = 83526.09\\nsamples = 8\\nvalue = 1168.9'),\n",
       " Text(0.0073964497041420114, 0.045454545454545456, 'squared_error = 31501.139\\nsamples = 4\\nvalue = 1281.833'),\n",
       " Text(0.010355029585798817, 0.045454545454545456, 'squared_error = 113736.25\\nsamples = 4\\nvalue = 999.5'),\n",
       " Text(0.014792899408284023, 0.13636363636363635, 'x[2] <= 0.678\\nsquared_error = 77343.083\\nsamples = 20\\nvalue = 776.528'),\n",
       " Text(0.013313609467455622, 0.045454545454545456, 'squared_error = 15091.358\\nsamples = 4\\nvalue = 469.444'),\n",
       " Text(0.016272189349112426, 0.045454545454545456, 'squared_error = 56182.469\\nsamples = 16\\nvalue = 878.889'),\n",
       " Text(0.019230769230769232, 0.22727272727272727, 'x[2] <= 0.716\\nsquared_error = 34444.909\\nsamples = 9\\nvalue = 595.0'),\n",
       " Text(0.01775147928994083, 0.13636363636363635, 'squared_error = 38070.694\\nsamples = 5\\nvalue = 640.143'),\n",
       " Text(0.020710059171597635, 0.13636363636363635, 'squared_error = 18292.5\\nsamples = 4\\nvalue = 516.0'),\n",
       " Text(0.028846153846153848, 0.4090909090909091, 'x[0] <= 9842.5\\nsquared_error = 188072.324\\nsamples = 57\\nvalue = 911.506'),\n",
       " Text(0.027366863905325445, 0.3181818181818182, 'squared_error = 143607.174\\nsamples = 5\\nvalue = 1377.909'),\n",
       " Text(0.030325443786982247, 0.3181818181818182, 'x[2] <= 0.411\\nsquared_error = 155504.454\\nsamples = 52\\nvalue = 838.214'),\n",
       " Text(0.02514792899408284, 0.22727272727272727, 'x[2] <= 0.103\\nsquared_error = 155736.688\\nsamples = 14\\nvalue = 1002.913'),\n",
       " Text(0.023668639053254437, 0.13636363636363635, 'squared_error = 70563.951\\nsamples = 4\\nvalue = 700.778'),\n",
       " Text(0.026627218934911243, 0.13636363636363635, 'x[2] <= 0.292\\nsquared_error = 114081.694\\nsamples = 10\\nvalue = 1197.143'),\n",
       " Text(0.02514792899408284, 0.045454545454545456, 'squared_error = 107634.025\\nsamples = 6\\nvalue = 1090.444'),\n",
       " Text(0.028106508875739646, 0.045454545454545456, 'squared_error = 68309.36\\nsamples = 4\\nvalue = 1389.2'),\n",
       " Text(0.03550295857988166, 0.22727272727272727, 'x[0] <= 14703.0\\nsquared_error = 135620.619\\nsamples = 38\\nvalue = 757.617'),\n",
       " Text(0.03254437869822485, 0.13636363636363635, 'x[4] <= 2131.5\\nsquared_error = 67123.316\\nsamples = 22\\nvalue = 616.571'),\n",
       " Text(0.03106508875739645, 0.045454545454545456, 'squared_error = 44062.129\\nsamples = 17\\nvalue = 562.957'),\n",
       " Text(0.034023668639053255, 0.045454545454545456, 'squared_error = 99156.16\\nsamples = 5\\nvalue = 863.2'),\n",
       " Text(0.038461538461538464, 0.13636363636363635, 'x[4] <= 1450.5\\nsquared_error = 164042.355\\nsamples = 16\\nvalue = 965.474'),\n",
       " Text(0.03698224852071006, 0.045454545454545456, 'squared_error = 178776.793\\nsamples = 9\\nvalue = 825.545'),\n",
       " Text(0.03994082840236687, 0.045454545454545456, 'squared_error = 79841.859\\nsamples = 7\\nvalue = 1157.875'),\n",
       " Text(0.07951183431952663, 0.5909090909090909, 'x[2] <= 0.9\\nsquared_error = 195723.242\\nsamples = 787\\nvalue = 1085.661'),\n",
       " Text(0.07803254437869822, 0.5, 'squared_error = 750234.234\\nsamples = 5\\nvalue = 2018.375'),\n",
       " Text(0.08099112426035503, 0.5, 'x[6] <= 587.0\\nsquared_error = 186406.409\\nsamples = 782\\nvalue = 1079.585'),\n",
       " Text(0.0613905325443787, 0.4090909090909091, 'x[4] <= 1220.5\\nsquared_error = 125301.682\\nsamples = 151\\nvalue = 954.053'),\n",
       " Text(0.05325443786982249, 0.3181818181818182, 'x[2] <= 1.751\\nsquared_error = 111479.391\\nsamples = 102\\nvalue = 906.975'),\n",
       " Text(0.047337278106508875, 0.22727272727272727, 'x[6] <= 375.0\\nsquared_error = 89656.265\\nsamples = 58\\nvalue = 835.901'),\n",
       " Text(0.04437869822485207, 0.13636363636363635, 'x[7] <= 28.5\\nsquared_error = 96109.46\\nsamples = 13\\nvalue = 1032.389'),\n",
       " Text(0.042899408284023666, 0.045454545454545456, 'squared_error = 95959.347\\nsamples = 6\\nvalue = 1210.286'),\n",
       " Text(0.04585798816568047, 0.045454545454545456, 'squared_error = 63249.967\\nsamples = 7\\nvalue = 919.182'),\n",
       " Text(0.05029585798816568, 0.13636363636363635, 'x[6] <= 529.0\\nsquared_error = 76198.111\\nsamples = 45\\nvalue = 787.452'),\n",
       " Text(0.04881656804733728, 0.045454545454545456, 'squared_error = 51877.24\\nsamples = 30\\nvalue = 735.6'),\n",
       " Text(0.051775147928994084, 0.045454545454545456, 'squared_error = 110518.491\\nsamples = 15\\nvalue = 900.174'),\n",
       " Text(0.05917159763313609, 0.22727272727272727, 'x[6] <= 410.5\\nsquared_error = 124745.405\\nsamples = 44\\nvalue = 999.371'),\n",
       " Text(0.05621301775147929, 0.13636363636363635, 'x[2] <= 1.961\\nsquared_error = 75168.64\\nsamples = 9\\nvalue = 753.4'),\n",
       " Text(0.05473372781065089, 0.045454545454545456, 'squared_error = 61923.359\\nsamples = 4\\nvalue = 918.125'),\n",
       " Text(0.057692307692307696, 0.045454545454545456, 'squared_error = 23854.694\\nsamples = 5\\nvalue = 565.143'),\n",
       " Text(0.0621301775147929, 0.13636363636363635, 'x[6] <= 563.0\\nsquared_error = 117265.666\\nsamples = 35\\nvalue = 1066.455'),\n",
       " Text(0.060650887573964495, 0.045454545454545456, 'squared_error = 115636.409\\nsamples = 27\\nvalue = 1154.927'),\n",
       " Text(0.06360946745562131, 0.045454545454545456, 'squared_error = 31982.658\\nsamples = 8\\nvalue = 807.357'),\n",
       " Text(0.0695266272189349, 0.3181818181818182, 'x[5] <= 0.5\\nsquared_error = 139475.029\\nsamples = 49\\nvalue = 1045.373'),\n",
       " Text(0.06656804733727811, 0.22727272727272727, 'x[4] <= 1528.5\\nsquared_error = 43243.877\\nsamples = 12\\nvalue = 797.889'),\n",
       " Text(0.0650887573964497, 0.13636363636363635, 'squared_error = 82534.96\\nsamples = 4\\nvalue = 994.2'),\n",
       " Text(0.06804733727810651, 0.13636363636363635, 'x[2] <= 1.734\\nsquared_error = 7608.698\\nsamples = 8\\nvalue = 722.385'),\n",
       " Text(0.06656804733727811, 0.045454545454545456, 'squared_error = 7098.583\\nsamples = 4\\nvalue = 756.5'),\n",
       " Text(0.0695266272189349, 0.045454545454545456, 'squared_error = 6193.265\\nsamples = 4\\nvalue = 693.143'),\n",
       " Text(0.07248520710059171, 0.22727272727272727, 'x[1] <= 3913.0\\nsquared_error = 144465.561\\nsamples = 37\\nvalue = 1113.908'),\n",
       " Text(0.07100591715976332, 0.13636363636363635, 'squared_error = 16636.816\\nsamples = 5\\nvalue = 631.571'),\n",
       " Text(0.07396449704142012, 0.13636363636363635, 'x[3] <= 4611.5\\nsquared_error = 128426.175\\nsamples = 32\\nvalue = 1172.121'),\n",
       " Text(0.07248520710059171, 0.045454545454545456, 'squared_error = 117370.359\\nsamples = 4\\nvalue = 1601.875'),\n",
       " Text(0.07544378698224852, 0.045454545454545456, 'squared_error = 95916.87\\nsamples = 28\\nvalue = 1103.36'),\n",
       " Text(0.10059171597633136, 0.4090909090909091, 'x[6] <= 1028.5\\nsquared_error = 196681.955\\nsamples = 631\\nvalue = 1110.712'),\n",
       " Text(0.08875739644970414, 0.3181818181818182, 'x[2] <= 1.2\\nsquared_error = 222916.264\\nsamples = 364\\nvalue = 1180.315'),\n",
       " Text(0.08284023668639054, 0.22727272727272727, 'x[0] <= 2769.5\\nsquared_error = 103716.07\\nsamples = 47\\nvalue = 955.478'),\n",
       " Text(0.07988165680473373, 0.13636363636363635, 'x[8] <= 1457.5\\nsquared_error = 194837.639\\nsamples = 10\\nvalue = 1138.833'),\n",
       " Text(0.07840236686390532, 0.045454545454545456, 'squared_error = 23977.188\\nsamples = 6\\nvalue = 876.75'),\n",
       " Text(0.08136094674556213, 0.045454545454545456, 'squared_error = 124432.5\\nsamples = 4\\nvalue = 1663.0'),\n",
       " Text(0.08579881656804733, 0.13636363636363635, 'x[9] <= 5853.5\\nsquared_error = 74899.486\\nsamples = 37\\nvalue = 915.473'),\n",
       " Text(0.08431952662721894, 0.045454545454545456, 'squared_error = 66625.75\\nsamples = 11\\nvalue = 774.0'),\n",
       " Text(0.08727810650887574, 0.045454545454545456, 'squared_error = 66714.096\\nsamples = 26\\nvalue = 973.513'),\n",
       " Text(0.09467455621301775, 0.22727272727272727, 'x[2] <= 1.351\\nsquared_error = 231048.081\\nsamples = 317\\nvalue = 1209.795'),\n",
       " Text(0.09171597633136094, 0.13636363636363635, 'x[8] <= 4000.0\\nsquared_error = 451946.43\\nsamples = 30\\nvalue = 1439.849'),\n",
       " Text(0.09023668639053255, 0.045454545454545456, 'squared_error = 1290283.09\\nsamples = 6\\nvalue = 2130.1'),\n",
       " Text(0.09319526627218935, 0.045454545454545456, 'squared_error = 120415.15\\nsamples = 24\\nvalue = 1279.326'),\n",
       " Text(0.09763313609467456, 0.13636363636363635, 'x[4] <= 39.0\\nsquared_error = 198652.357\\nsamples = 287\\nvalue = 1183.172'),\n",
       " Text(0.09615384615384616, 0.045454545454545456, 'squared_error = 160220.122\\nsamples = 6\\nvalue = 1698.857'),\n",
       " Text(0.09911242603550297, 0.045454545454545456, 'squared_error = 195057.275\\nsamples = 281\\nvalue = 1175.169'),\n",
       " Text(0.11242603550295859, 0.3181818181818182, 'x[7] <= 29.5\\nsquared_error = 142618.067\\nsamples = 267\\nvalue = 1011.623'),\n",
       " Text(0.10650887573964497, 0.22727272727272727, 'x[2] <= 1.931\\nsquared_error = 151469.745\\nsamples = 188\\nvalue = 1057.074'),\n",
       " Text(0.10355029585798817, 0.13636363636363635, 'x[9] <= 15627.0\\nsquared_error = 158477.757\\nsamples = 136\\nvalue = 1010.316'),\n",
       " Text(0.10207100591715976, 0.045454545454545456, 'squared_error = 162242.149\\nsamples = 122\\nvalue = 1037.121'),\n",
       " Text(0.10502958579881656, 0.045454545454545456, 'squared_error = 41796.404\\nsamples = 14\\nvalue = 742.263'),\n",
       " Text(0.10946745562130178, 0.13636363636363635, 'x[9] <= 8774.5\\nsquared_error = 109651.488\\nsamples = 52\\nvalue = 1185.658'),\n",
       " Text(0.10798816568047337, 0.045454545454545456, 'squared_error = 113184.894\\nsamples = 20\\nvalue = 1280.121'),\n",
       " Text(0.11094674556213018, 0.045454545454545456, 'squared_error = 94836.136\\nsamples = 32\\nvalue = 1113.163'),\n",
       " Text(0.11834319526627218, 0.22727272727272727, 'x[4] <= 1033.5\\nsquared_error = 105443.138\\nsamples = 79\\nvalue = 904.57'),\n",
       " Text(0.11538461538461539, 0.13636363636363635, 'x[4] <= 792.5\\nsquared_error = 80800.946\\nsamples = 39\\nvalue = 806.138'),\n",
       " Text(0.11390532544378698, 0.045454545454545456, 'squared_error = 74673.485\\nsamples = 28\\nvalue = 899.718'),\n",
       " Text(0.11686390532544379, 0.045454545454545456, 'squared_error = 38506.26\\nsamples = 11\\nvalue = 614.053'),\n",
       " Text(0.12130177514792899, 0.13636363636363635, 'x[4] <= 1206.0\\nsquared_error = 110997.615\\nsamples = 40\\nvalue = 995.19'),\n",
       " Text(0.11982248520710059, 0.045454545454545456, 'squared_error = 82379.16\\nsamples = 8\\nvalue = 1265.2'),\n",
       " Text(0.1227810650887574, 0.045454545454545456, 'squared_error = 100046.223\\nsamples = 32\\nvalue = 944.245'),\n",
       " Text(0.17991863905325445, 0.6818181818181818, 'x[2] <= 3.232\\nsquared_error = 213507.639\\nsamples = 1951\\nvalue = 1293.643'),\n",
       " Text(0.14201183431952663, 0.5909090909090909, 'x[0] <= 18406.5\\nsquared_error = 204271.413\\nsamples = 1094\\nvalue = 1228.621'),\n",
       " Text(0.1390532544378698, 0.5, 'x[0] <= 163.5\\nsquared_error = 200017.871\\nsamples = 1086\\nvalue = 1224.214'),\n",
       " Text(0.13757396449704143, 0.4090909090909091, 'squared_error = 163948.234\\nsamples = 5\\nvalue = 1978.625'),\n",
       " Text(0.14053254437869822, 0.4090909090909091, 'x[6] <= 1228.5\\nsquared_error = 197523.268\\nsamples = 1081\\nvalue = 1220.701'),\n",
       " Text(0.13239644970414202, 0.3181818181818182, 'x[6] <= 420.0\\nsquared_error = 203821.894\\nsamples = 978\\nvalue = 1235.29'),\n",
       " Text(0.128698224852071, 0.22727272727272727, 'x[4] <= 2024.5\\nsquared_error = 148377.472\\nsamples = 65\\nvalue = 1062.559'),\n",
       " Text(0.12721893491124261, 0.13636363636363635, 'x[3] <= 2461.5\\nsquared_error = 88133.266\\nsamples = 61\\nvalue = 1002.294'),\n",
       " Text(0.1257396449704142, 0.045454545454545456, 'squared_error = 145154.107\\nsamples = 11\\nvalue = 1270.6'),\n",
       " Text(0.128698224852071, 0.045454545454545456, 'squared_error = 57182.931\\nsamples = 50\\nvalue = 944.8'),\n",
       " Text(0.1301775147928994, 0.13636363636363635, 'squared_error = 339879.109\\nsamples = 4\\nvalue = 1702.875'),\n",
       " Text(0.13609467455621302, 0.22727272727272727, 'x[6] <= 437.5\\nsquared_error = 205326.373\\nsamples = 913\\nvalue = 1246.248'),\n",
       " Text(0.13313609467455623, 0.13636363636363635, 'x[7] <= 28.5\\nsquared_error = 348494.715\\nsamples = 11\\nvalue = 1643.312'),\n",
       " Text(0.13165680473372782, 0.045454545454545456, 'squared_error = 18217.36\\nsamples = 4\\nvalue = 1067.8'),\n",
       " Text(0.1346153846153846, 0.045454545454545456, 'squared_error = 279635.901\\nsamples = 7\\nvalue = 1904.909'),\n",
       " Text(0.1390532544378698, 0.13636363636363635, 'x[9] <= 2317.0\\nsquared_error = 201987.686\\nsamples = 902\\nvalue = 1241.866'),\n",
       " Text(0.13757396449704143, 0.045454545454545456, 'squared_error = 446015.985\\nsamples = 108\\nvalue = 1363.533'),\n",
       " Text(0.14053254437869822, 0.045454545454545456, 'squared_error = 168046.481\\nsamples = 794\\nvalue = 1226.03'),\n",
       " Text(0.14866863905325445, 0.3181818181818182, 'x[2] <= 2.722\\nsquared_error = 113217.545\\nsamples = 103\\nvalue = 1077.66'),\n",
       " Text(0.14349112426035504, 0.22727272727272727, 'x[2] <= 2.297\\nsquared_error = 61226.36\\nsamples = 41\\nvalue = 911.967'),\n",
       " Text(0.14201183431952663, 0.13636363636363635, 'squared_error = 77866.0\\nsamples = 5\\nvalue = 1179.0'),\n",
       " Text(0.14497041420118342, 0.13636363636363635, 'x[9] <= 13754.5\\nsquared_error = 50783.628\\nsamples = 36\\nvalue = 882.836'),\n",
       " Text(0.14349112426035504, 0.045454545454545456, 'squared_error = 50786.96\\nsamples = 26\\nvalue = 934.8'),\n",
       " Text(0.14644970414201183, 0.045454545454545456, 'squared_error = 24372.596\\nsamples = 10\\nvalue = 744.267'),\n",
       " Text(0.15384615384615385, 0.22727272727272727, 'x[4] <= 294.0\\nsquared_error = 117853.611\\nsamples = 62\\nvalue = 1180.796'),\n",
       " Text(0.15088757396449703, 0.13636363636363635, 'x[6] <= 1322.5\\nsquared_error = 55769.384\\nsamples = 10\\nvalue = 953.706'),\n",
       " Text(0.14940828402366865, 0.045454545454545456, 'squared_error = 9456.173\\nsamples = 5\\nvalue = 819.778'),\n",
       " Text(0.15236686390532544, 0.045454545454545456, 'squared_error = 64991.734\\nsamples = 5\\nvalue = 1104.375'),\n",
       " Text(0.15680473372781065, 0.13636363636363635, 'x[6] <= 1377.5\\nsquared_error = 117788.767\\nsamples = 52\\nvalue = 1228.457'),\n",
       " Text(0.15532544378698224, 0.045454545454545456, 'squared_error = 123810.293\\nsamples = 44\\nvalue = 1268.377'),\n",
       " Text(0.15828402366863906, 0.045454545454545456, 'squared_error = 21313.076\\nsamples = 8\\nvalue = 998.917'),\n",
       " Text(0.14497041420118342, 0.5, 'x[2] <= 3.01\\nsquared_error = 390513.355\\nsamples = 8\\nvalue = 1920.091'),\n",
       " Text(0.14349112426035504, 0.4090909090909091, 'squared_error = 225566.4\\nsamples = 4\\nvalue = 2252.0'),\n",
       " Text(0.14644970414201183, 0.4090909090909091, 'squared_error = 359663.583\\nsamples = 4\\nvalue = 1643.5'),\n",
       " Text(0.21782544378698224, 0.5909090909090909, 'x[6] <= 1206.5\\nsquared_error = 212889.863\\nsamples = 857\\nvalue = 1377.993'),\n",
       " Text(0.18953402366863906, 0.5, 'x[4] <= 614.0\\nsquared_error = 214024.179\\nsamples = 763\\nvalue = 1404.312'),\n",
       " Text(0.17307692307692307, 0.4090909090909091, 'x[2] <= 3.389\\nsquared_error = 196001.429\\nsamples = 275\\nvalue = 1334.131'),\n",
       " Text(0.16715976331360946, 0.3181818181818182, 'x[6] <= 708.0\\nsquared_error = 202722.76\\nsamples = 60\\nvalue = 1447.2'),\n",
       " Text(0.16420118343195267, 0.22727272727272727, 'x[4] <= 467.0\\nsquared_error = 214091.596\\nsamples = 23\\nvalue = 1248.871'),\n",
       " Text(0.16272189349112426, 0.13636363636363635, 'x[3] <= 7309.0\\nsquared_error = 96750.873\\nsamples = 19\\nvalue = 1079.292'),\n",
       " Text(0.16124260355029585, 0.045454545454545456, 'squared_error = 94137.302\\nsamples = 11\\nvalue = 1209.923'),\n",
       " Text(0.16420118343195267, 0.045454545454545456, 'squared_error = 55838.446\\nsamples = 8\\nvalue = 924.909'),\n",
       " Text(0.16568047337278108, 0.13636363636363635, 'squared_error = 179763.633\\nsamples = 4\\nvalue = 1830.286'),\n",
       " Text(0.17011834319526628, 0.22727272727272727, 'x[4] <= 470.0\\nsquared_error = 165223.021\\nsamples = 37\\nvalue = 1551.407'),\n",
       " Text(0.16863905325443787, 0.13636363636363635, 'x[4] <= 277.5\\nsquared_error = 146652.286\\nsamples = 30\\nvalue = 1633.44'),\n",
       " Text(0.16715976331360946, 0.045454545454545456, 'squared_error = 114678.529\\nsamples = 18\\nvalue = 1738.933'),\n",
       " Text(0.17011834319526628, 0.045454545454545456, 'squared_error = 152879.76\\nsamples = 12\\nvalue = 1475.2'),\n",
       " Text(0.17159763313609466, 0.13636363636363635, 'squared_error = 23308.889\\nsamples = 7\\nvalue = 1095.667'),\n",
       " Text(0.17899408284023668, 0.3181818181818182, 'x[2] <= 3.447\\nsquared_error = 189859.399\\nsamples = 215\\nvalue = 1303.845'),\n",
       " Text(0.1760355029585799, 0.22727272727272727, 'x[6] <= 854.0\\nsquared_error = 38030.25\\nsamples = 18\\nvalue = 1047.519'),\n",
       " Text(0.17455621301775148, 0.13636363636363635, 'x[7] <= 29.5\\nsquared_error = 30890.934\\nsamples = 11\\nvalue = 1116.647'),\n",
       " Text(0.17307692307692307, 0.045454545454545456, 'squared_error = 16779.714\\nsamples = 5\\nvalue = 1202.0'),\n",
       " Text(0.1760355029585799, 0.045454545454545456, 'squared_error = 32099.49\\nsamples = 6\\nvalue = 1056.9'),\n",
       " Text(0.17751479289940827, 0.13636363636363635, 'squared_error = 28232.6\\nsamples = 7\\nvalue = 930.0'),\n",
       " Text(0.1819526627218935, 0.22727272727272727, 'x[2] <= 3.458\\nsquared_error = 196883.304\\nsamples = 197\\nvalue = 1326.243'),\n",
       " Text(0.1804733727810651, 0.13636363636363635, 'squared_error = 11863.359\\nsamples = 4\\nvalue = 1751.125'),\n",
       " Text(0.1834319526627219, 0.13636363636363635, 'x[6] <= 915.5\\nsquared_error = 196875.25\\nsamples = 193\\nvalue = 1314.95'),\n",
       " Text(0.1819526627218935, 0.045454545454545456, 'squared_error = 240195.397\\nsamples = 130\\nvalue = 1361.621'),\n",
       " Text(0.1849112426035503, 0.045454545454545456, 'squared_error = 101363.266\\nsamples = 63\\nvalue = 1225.233'),\n",
       " Text(0.20599112426035504, 0.4090909090909091, 'x[6] <= 524.0\\nsquared_error = 219762.764\\nsamples = 488\\nvalue = 1443.139'),\n",
       " Text(0.19600591715976332, 0.3181818181818182, 'x[0] <= 15836.5\\nsquared_error = 223973.904\\nsamples = 75\\nvalue = 1308.209'),\n",
       " Text(0.19230769230769232, 0.22727272727272727, 'x[3] <= 12844.5\\nsquared_error = 85937.457\\nsamples = 57\\nvalue = 1176.157'),\n",
       " Text(0.1893491124260355, 0.13636363636363635, 'x[4] <= 2202.5\\nsquared_error = 79745.674\\nsamples = 48\\nvalue = 1135.868'),\n",
       " Text(0.1878698224852071, 0.045454545454545456, 'squared_error = 73650.782\\nsamples = 44\\nvalue = 1105.629'),\n",
       " Text(0.1908284023668639, 0.045454545454545456, 'squared_error = 35642.889\\nsamples = 4\\nvalue = 1448.333'),\n",
       " Text(0.1952662721893491, 0.13636363636363635, 'x[6] <= 421.5\\nsquared_error = 73289.76\\nsamples = 9\\nvalue = 1358.8'),\n",
       " Text(0.1937869822485207, 0.045454545454545456, 'squared_error = 53445.837\\nsamples = 4\\nvalue = 1570.857'),\n",
       " Text(0.19674556213017752, 0.045454545454545456, 'squared_error = 16877.188\\nsamples = 5\\nvalue = 1173.25'),\n",
       " Text(0.1997041420118343, 0.22727272727272727, 'x[4] <= 1004.5\\nsquared_error = 419463.64\\nsamples = 18\\nvalue = 1650.719'),\n",
       " Text(0.19822485207100593, 0.13636363636363635, 'squared_error = 682801.556\\nsamples = 4\\nvalue = 2273.333'),\n",
       " Text(0.20118343195266272, 0.13636363636363635, 'x[8] <= 17950.5\\nsquared_error = 105373.21\\nsamples = 14\\nvalue = 1407.087'),\n",
       " Text(0.1997041420118343, 0.045454545454545456, 'squared_error = 102101.763\\nsamples = 8\\nvalue = 1581.923'),\n",
       " Text(0.20266272189349113, 0.045454545454545456, 'squared_error = 18228.76\\nsamples = 6\\nvalue = 1179.8'),\n",
       " Text(0.21597633136094674, 0.3181818181818182, 'x[6] <= 923.5\\nsquared_error = 215265.681\\nsamples = 413\\nvalue = 1466.829'),\n",
       " Text(0.21005917159763313, 0.22727272727272727, 'x[8] <= 10890.0\\nsquared_error = 230454.327\\nsamples = 225\\nvalue = 1534.474'),\n",
       " Text(0.20710059171597633, 0.13636363636363635, 'x[6] <= 876.5\\nsquared_error = 259115.783\\nsamples = 122\\nvalue = 1606.106'),\n",
       " Text(0.20562130177514792, 0.045454545454545456, 'squared_error = 224492.137\\nsamples = 103\\nvalue = 1541.819'),\n",
       " Text(0.20857988165680474, 0.045454545454545456, 'squared_error = 291186.133\\nsamples = 19\\nvalue = 1998.714'),\n",
       " Text(0.21301775147928995, 0.13636363636363635, 'x[6] <= 646.5\\nsquared_error = 180487.348\\nsamples = 103\\nvalue = 1445.381'),\n",
       " Text(0.21153846153846154, 0.045454545454545456, 'squared_error = 126075.45\\nsamples = 27\\nvalue = 1621.63'),\n",
       " Text(0.21449704142011836, 0.045454545454545456, 'squared_error = 184850.738\\nsamples = 76\\nvalue = 1374.263'),\n",
       " Text(0.22189349112426035, 0.22727272727272727, 'x[2] <= 4.009\\nsquared_error = 184563.769\\nsamples = 188\\nvalue = 1384.787'),\n",
       " Text(0.21893491124260356, 0.13636363636363635, 'x[2] <= 3.34\\nsquared_error = 180984.315\\nsamples = 177\\nvalue = 1410.351'),\n",
       " Text(0.21745562130177515, 0.045454545454545456, 'squared_error = 58289.534\\nsamples = 20\\nvalue = 1113.419'),\n",
       " Text(0.22041420118343194, 0.045454545454545456, 'squared_error = 183941.345\\nsamples = 157\\nvalue = 1447.922'),\n",
       " Text(0.22485207100591717, 0.13636363636363635, 'x[8] <= 6765.5\\nsquared_error = 100482.7\\nsamples = 11\\nvalue = 1032.0'),\n",
       " Text(0.22337278106508876, 0.045454545454545456, 'squared_error = 111664.234\\nsamples = 5\\nvalue = 1279.625'),\n",
       " Text(0.22633136094674555, 0.045454545454545456, 'squared_error = 24897.076\\nsamples = 6\\nvalue = 866.917'),\n",
       " Text(0.24611686390532544, 0.5, 'x[5] <= 4.0\\nsquared_error = 149154.101\\nsamples = 94\\nvalue = 1157.867'),\n",
       " Text(0.23927514792899407, 0.4090909090909091, 'x[6] <= 1367.0\\nsquared_error = 106298.717\\nsamples = 74\\nvalue = 1085.421'),\n",
       " Text(0.23446745562130178, 0.3181818181818182, 'x[8] <= 7195.0\\nsquared_error = 106878.953\\nsamples = 63\\nvalue = 1136.936'),\n",
       " Text(0.22928994082840237, 0.22727272727272727, 'x[4] <= 296.0\\nsquared_error = 82378.19\\nsamples = 24\\nvalue = 964.471'),\n",
       " Text(0.22781065088757396, 0.13636363636363635, 'squared_error = 84865.2\\nsamples = 5\\nvalue = 1173.0'),\n",
       " Text(0.23076923076923078, 0.13636363636363635, 'x[4] <= 386.5\\nsquared_error = 73159.422\\nsamples = 19\\nvalue = 928.517'),\n",
       " Text(0.22928994082840237, 0.045454545454545456, 'squared_error = 8919.609\\nsamples = 4\\nvalue = 709.125'),\n",
       " Text(0.23224852071005916, 0.045454545454545456, 'squared_error = 72310.086\\nsamples = 15\\nvalue = 1012.095'),\n",
       " Text(0.23964497041420119, 0.22727272727272727, 'x[8] <= 10122.5\\nsquared_error = 94356.322\\nsamples = 39\\nvalue = 1234.667'),\n",
       " Text(0.23668639053254437, 0.13636363636363635, 'x[4] <= 849.0\\nsquared_error = 71457.454\\nsamples = 10\\nvalue = 1412.214'),\n",
       " Text(0.23520710059171598, 0.045454545454545456, 'squared_error = 22513.472\\nsamples = 4\\nvalue = 1544.833'),\n",
       " Text(0.23816568047337278, 0.045454545454545456, 'squared_error = 85081.438\\nsamples = 6\\nvalue = 1312.75'),\n",
       " Text(0.24260355029585798, 0.13636363636363635, 'x[8] <= 11980.5\\nsquared_error = 88811.624\\nsamples = 29\\nvalue = 1180.63'),\n",
       " Text(0.2411242603550296, 0.045454545454545456, 'squared_error = 27409.654\\nsamples = 6\\nvalue = 882.889'),\n",
       " Text(0.2440828402366864, 0.045454545454545456, 'squared_error = 76938.538\\nsamples = 23\\nvalue = 1253.054'),\n",
       " Text(0.2440828402366864, 0.3181818181818182, 'x[5] <= 1.5\\nsquared_error = 32476.11\\nsamples = 11\\nvalue = 843.3'),\n",
       " Text(0.24260355029585798, 0.22727272727272727, 'squared_error = 13329.25\\nsamples = 5\\nvalue = 997.0'),\n",
       " Text(0.2455621301775148, 0.22727272727272727, 'squared_error = 18992.139\\nsamples = 6\\nvalue = 740.833'),\n",
       " Text(0.2529585798816568, 0.4090909090909091, 'x[6] <= 1303.5\\nsquared_error = 215884.088\\nsamples = 20\\nvalue = 1442.655'),\n",
       " Text(0.25, 0.3181818181818182, 'x[6] <= 1263.0\\nsquared_error = 243908.809\\nsamples = 11\\nvalue = 1654.062'),\n",
       " Text(0.2485207100591716, 0.22727272727272727, 'squared_error = 79020.691\\nsamples = 7\\nvalue = 1398.556'),\n",
       " Text(0.2514792899408284, 0.22727272727272727, 'squared_error = 264053.388\\nsamples = 4\\nvalue = 1982.571'),\n",
       " Text(0.2559171597633136, 0.3181818181818182, 'x[9] <= 6019.5\\nsquared_error = 58684.556\\nsamples = 9\\nvalue = 1182.462'),\n",
       " Text(0.25443786982248523, 0.22727272727272727, 'squared_error = 74024.0\\nsamples = 4\\nvalue = 1276.0'),\n",
       " Text(0.257396449704142, 0.22727272727272727, 'squared_error = 18671.889\\nsamples = 5\\nvalue = 1073.333'),\n",
       " Text(0.401927699704142, 0.7727272727272727, 'x[2] <= 5.764\\nsquared_error = 263776.877\\nsamples = 3756\\nvalue = 1614.174'),\n",
       " Text(0.34652366863905326, 0.6818181818181818, 'x[6] <= 1172.5\\nsquared_error = 247585.439\\nsamples = 2166\\nvalue = 1538.615'),\n",
       " Text(0.3025147928994083, 0.5909090909090909, 'x[6] <= 497.5\\nsquared_error = 249039.081\\nsamples = 1832\\nvalue = 1574.123'),\n",
       " Text(0.27773668639053256, 0.5, 'x[6] <= 343.0\\nsquared_error = 176854.735\\nsamples = 254\\nvalue = 1366.878'),\n",
       " Text(0.26590236686390534, 0.4090909090909091, 'x[0] <= 4523.5\\nsquared_error = 167899.993\\nsamples = 74\\nvalue = 1264.125'),\n",
       " Text(0.2618343195266272, 0.3181818181818182, 'x[2] <= 5.281\\nsquared_error = 65151.087\\nsamples = 18\\nvalue = 1066.394'),\n",
       " Text(0.2603550295857988, 0.22727272727272727, 'x[4] <= 388.5\\nsquared_error = 62115.714\\nsamples = 12\\nvalue = 967.0'),\n",
       " Text(0.2588757396449704, 0.13636363636363635, 'squared_error = 12458.777\\nsamples = 5\\nvalue = 883.364'),\n",
       " Text(0.2618343195266272, 0.13636363636363635, 'squared_error = 100579.8\\nsamples = 7\\nvalue = 1059.0'),\n",
       " Text(0.26331360946745563, 0.22727272727272727, 'squared_error = 22919.556\\nsamples = 6\\nvalue = 1240.333'),\n",
       " Text(0.26997041420118345, 0.3181818181818182, 'x[4] <= 388.0\\nsquared_error = 186418.386\\nsamples = 56\\nvalue = 1339.126'),\n",
       " Text(0.26627218934911245, 0.22727272727272727, 'x[7] <= 29.5\\nsquared_error = 92708.529\\nsamples = 20\\nvalue = 1191.108'),\n",
       " Text(0.26479289940828404, 0.13636363636363635, 'x[5] <= 0.5\\nsquared_error = 76817.832\\nsamples = 16\\nvalue = 1266.033'),\n",
       " Text(0.26331360946745563, 0.045454545454545456, 'squared_error = 92527.5\\nsamples = 5\\nvalue = 1479.0'),\n",
       " Text(0.26627218934911245, 0.045454545454545456, 'squared_error = 48615.242\\nsamples = 11\\nvalue = 1188.591'),\n",
       " Text(0.2677514792899408, 0.13636363636363635, 'squared_error = 33642.0\\nsamples = 4\\nvalue = 870.0'),\n",
       " Text(0.27366863905325445, 0.22727272727272727, 'x[4] <= 1820.5\\nsquared_error = 227553.104\\nsamples = 36\\nvalue = 1448.66'),\n",
       " Text(0.27071005917159763, 0.13636363636363635, 'x[6] <= 314.5\\nsquared_error = 267211.076\\nsamples = 24\\nvalue = 1565.121'),\n",
       " Text(0.2692307692307692, 0.045454545454545456, 'squared_error = 255560.32\\nsamples = 18\\nvalue = 1654.4'),\n",
       " Text(0.27218934911242604, 0.045454545454545456, 'squared_error = 200872.359\\nsamples = 6\\nvalue = 1286.125'),\n",
       " Text(0.27662721893491127, 0.13636363636363635, 'x[4] <= 2439.0\\nsquared_error = 73132.948\\nsamples = 12\\nvalue = 1222.588'),\n",
       " Text(0.27514792899408286, 0.045454545454545456, 'squared_error = 33010.484\\nsamples = 5\\nvalue = 1051.625'),\n",
       " Text(0.2781065088757396, 0.045454545454545456, 'squared_error = 59722.469\\nsamples = 7\\nvalue = 1374.556'),\n",
       " Text(0.2895710059171598, 0.4090909090909091, 'x[6] <= 444.5\\nsquared_error = 174398.064\\nsamples = 180\\nvalue = 1409.251'),\n",
       " Text(0.28550295857988167, 0.3181818181818182, 'x[4] <= 2653.5\\nsquared_error = 176124.636\\nsamples = 102\\nvalue = 1482.074'),\n",
       " Text(0.28402366863905326, 0.22727272727272727, 'x[4] <= 2394.0\\nsquared_error = 173302.345\\nsamples = 98\\nvalue = 1513.603'),\n",
       " Text(0.28254437869822485, 0.13636363636363635, 'x[6] <= 437.5\\nsquared_error = 157858.623\\nsamples = 94\\nvalue = 1494.354'),\n",
       " Text(0.28106508875739644, 0.045454545454545456, 'squared_error = 130245.087\\nsamples = 86\\nvalue = 1462.788'),\n",
       " Text(0.28402366863905326, 0.045454545454545456, 'squared_error = 335503.96\\nsamples = 8\\nvalue = 1926.8'),\n",
       " Text(0.28550295857988167, 0.13636363636363635, 'squared_error = 226831.5\\nsamples = 4\\nvalue = 2221.0'),\n",
       " Text(0.2869822485207101, 0.22727272727272727, 'squared_error = 13904.38\\nsamples = 4\\nvalue = 1049.273'),\n",
       " Text(0.29363905325443784, 0.3181818181818182, 'x[4] <= 232.5\\nsquared_error = 157206.409\\nsamples = 78\\nvalue = 1317.798'),\n",
       " Text(0.28994082840236685, 0.22727272727272727, 'x[2] <= 5.005\\nsquared_error = 202731.855\\nsamples = 13\\nvalue = 1566.048'),\n",
       " Text(0.28846153846153844, 0.13636363636363635, 'squared_error = 174064.444\\nsamples = 6\\nvalue = 1322.333'),\n",
       " Text(0.29142011834319526, 0.13636363636363635, 'squared_error = 146274.306\\nsamples = 7\\nvalue = 1748.833'),\n",
       " Text(0.2973372781065089, 0.22727272727272727, 'x[4] <= 1906.0\\nsquared_error = 134041.027\\nsamples = 65\\nvalue = 1269.528'),\n",
       " Text(0.2943786982248521, 0.13636363636363635, 'x[4] <= 1184.5\\nsquared_error = 111113.616\\nsamples = 47\\nvalue = 1195.5'),\n",
       " Text(0.29289940828402367, 0.045454545454545456, 'squared_error = 116842.931\\nsamples = 32\\nvalue = 1276.737'),\n",
       " Text(0.2958579881656805, 0.045454545454545456, 'squared_error = 48697.642\\nsamples = 15\\nvalue = 1010.28'),\n",
       " Text(0.30029585798816566, 0.13636363636363635, 'x[1] <= 10353.0\\nsquared_error = 134557.846\\nsamples = 18\\nvalue = 1503.0'),\n",
       " Text(0.2988165680473373, 0.045454545454545456, 'squared_error = 133902.889\\nsamples = 7\\nvalue = 1792.333'),\n",
       " Text(0.30177514792899407, 0.045454545454545456, 'squared_error = 67122.498\\nsamples = 11\\nvalue = 1349.824'),\n",
       " Text(0.32729289940828404, 0.5, 'x[6] <= 970.5\\nsquared_error = 252687.263\\nsamples = 1578\\nvalue = 1608.235'),\n",
       " Text(0.3099112426035503, 0.4090909090909091, 'x[2] <= 4.058\\nsquared_error = 282195.301\\nsamples = 1041\\nvalue = 1660.959'),\n",
       " Text(0.3084319526627219, 0.3181818181818182, 'squared_error = 642078.109\\nsamples = 4\\nvalue = 2804.125'),\n",
       " Text(0.3113905325443787, 0.3181818181818182, 'x[2] <= 4.355\\nsquared_error = 274068.723\\nsamples = 1037\\nvalue = 1655.406'),\n",
       " Text(0.3076923076923077, 0.22727272727272727, 'x[3] <= 18159.0\\nsquared_error = 246793.302\\nsamples = 161\\nvalue = 1492.321'),\n",
       " Text(0.3062130177514793, 0.13636363636363635, 'x[9] <= 13090.5\\nsquared_error = 240192.169\\nsamples = 156\\nvalue = 1513.581'),\n",
       " Text(0.3047337278106509, 0.045454545454545456, 'squared_error = 181258.297\\nsamples = 118\\nvalue = 1458.114'),\n",
       " Text(0.3076923076923077, 0.045454545454545456, 'squared_error = 388444.338\\nsamples = 38\\nvalue = 1692.632'),\n",
       " Text(0.3091715976331361, 0.13636363636363635, 'squared_error = 21865.359\\nsamples = 5\\nvalue = 851.875'),\n",
       " Text(0.3150887573964497, 0.22727272727272727, 'x[4] <= 2386.5\\nsquared_error = 273345.867\\nsamples = 876\\nvalue = 1684.454'),\n",
       " Text(0.3121301775147929, 0.13636363636363635, 'x[6] <= 777.5\\nsquared_error = 268946.005\\nsamples = 818\\nvalue = 1668.399'),\n",
       " Text(0.3106508875739645, 0.045454545454545456, 'squared_error = 285078.244\\nsamples = 450\\nvalue = 1625.517'),\n",
       " Text(0.3136094674556213, 0.045454545454545456, 'squared_error = 243026.813\\nsamples = 368\\nvalue = 1723.105'),\n",
       " Text(0.3180473372781065, 0.13636363636363635, 'x[6] <= 601.0\\nsquared_error = 281203.865\\nsamples = 58\\nvalue = 1907.17'),\n",
       " Text(0.3165680473372781, 0.045454545454545456, 'squared_error = 262780.25\\nsamples = 9\\nvalue = 2344.0'),\n",
       " Text(0.31952662721893493, 0.045454545454545456, 'squared_error = 237811.195\\nsamples = 49\\nvalue = 1817.564'),\n",
       " Text(0.34467455621301774, 0.4090909090909091, 'x[2] <= 4.416\\nsquared_error = 178484.339\\nsamples = 537\\nvalue = 1504.605'),\n",
       " Text(0.3328402366863905, 0.3181818181818182, 'x[6] <= 1038.0\\nsquared_error = 172160.386\\nsamples = 102\\nvalue = 1397.954'),\n",
       " Text(0.3269230769230769, 0.22727272727272727, 'x[2] <= 4.262\\nsquared_error = 112704.332\\nsamples = 32\\nvalue = 1270.292'),\n",
       " Text(0.3239644970414201, 0.13636363636363635, 'x[2] <= 4.146\\nsquared_error = 58176.056\\nsamples = 18\\nvalue = 1163.333'),\n",
       " Text(0.3224852071005917, 0.045454545454545456, 'squared_error = 59779.905\\nsamples = 10\\nvalue = 1295.692'),\n",
       " Text(0.3254437869822485, 0.045454545454545456, 'squared_error = 11107.901\\nsamples = 8\\nvalue = 1006.909'),\n",
       " Text(0.32988165680473375, 0.13636363636363635, 'x[2] <= 4.289\\nsquared_error = 144352.438\\nsamples = 14\\nvalue = 1377.25'),\n",
       " Text(0.32840236686390534, 0.045454545454545456, 'squared_error = 187978.776\\nsamples = 4\\nvalue = 1712.714'),\n",
       " Text(0.33136094674556216, 0.045454545454545456, 'squared_error = 60969.633\\nsamples = 10\\nvalue = 1239.118'),\n",
       " Text(0.33875739644970415, 0.22727272727272727, 'x[6] <= 1085.5\\nsquared_error = 188607.956\\nsamples = 70\\nvalue = 1456.875'),\n",
       " Text(0.33579881656804733, 0.13636363636363635, 'x[4] <= 608.0\\nsquared_error = 130752.812\\nsamples = 28\\nvalue = 1618.595'),\n",
       " Text(0.3343195266272189, 0.045454545454545456, 'squared_error = 90866.744\\nsamples = 15\\nvalue = 1491.727'),\n",
       " Text(0.33727810650887574, 0.045454545454545456, 'squared_error = 137446.927\\nsamples = 13\\nvalue = 1758.15'),\n",
       " Text(0.34171597633136097, 0.13636363636363635, 'x[6] <= 1132.0\\nsquared_error = 198081.573\\nsamples = 42\\nvalue = 1347.323'),\n",
       " Text(0.34023668639053256, 0.045454545454545456, 'squared_error = 106127.84\\nsamples = 27\\nvalue = 1268.209'),\n",
       " Text(0.3431952662721893, 0.045454545454545456, 'squared_error = 359965.075\\nsamples = 15\\nvalue = 1526.368'),\n",
       " Text(0.35650887573964496, 0.3181818181818182, 'x[0] <= 2103.0\\nsquared_error = 176819.819\\nsamples = 435\\nvalue = 1528.099'),\n",
       " Text(0.3505917159763314, 0.22727272727272727, 'x[9] <= 1647.5\\nsquared_error = 202426.019\\nsamples = 49\\nvalue = 1394.859'),\n",
       " Text(0.34763313609467456, 0.13636363636363635, 'x[4] <= 358.0\\nsquared_error = 220730.57\\nsamples = 40\\nvalue = 1453.452'),\n",
       " Text(0.34615384615384615, 0.045454545454545456, 'squared_error = 153411.355\\nsamples = 19\\nvalue = 1312.909'),\n",
       " Text(0.34911242603550297, 0.045454545454545456, 'squared_error = 249281.684\\nsamples = 21\\nvalue = 1613.379'),\n",
       " Text(0.35355029585798814, 0.13636363636363635, 'x[2] <= 5.085\\nsquared_error = 66642.527\\nsamples = 9\\nvalue = 1167.812'),\n",
       " Text(0.3520710059171598, 0.045454545454545456, 'squared_error = 32069.21\\nsamples = 5\\nvalue = 1065.3'),\n",
       " Text(0.35502958579881655, 0.045454545454545456, 'squared_error = 77558.889\\nsamples = 4\\nvalue = 1338.667'),\n",
       " Text(0.3624260355029586, 0.22727272727272727, 'x[5] <= 1.5\\nsquared_error = 171005.302\\nsamples = 386\\nvalue = 1545.08'),\n",
       " Text(0.3594674556213018, 0.13636363636363635, 'x[2] <= 5.178\\nsquared_error = 175974.636\\nsamples = 195\\nvalue = 1589.161'),\n",
       " Text(0.35798816568047337, 0.045454545454545456, 'squared_error = 152309.409\\nsamples = 117\\nvalue = 1642.387'),\n",
       " Text(0.3609467455621302, 0.045454545454545456, 'squared_error = 202588.902\\nsamples = 78\\nvalue = 1501.549'),\n",
       " Text(0.36538461538461536, 0.13636363636363635, 'x[2] <= 5.191\\nsquared_error = 162628.91\\nsamples = 191\\nvalue = 1502.971'),\n",
       " Text(0.363905325443787, 0.045454545454545456, 'squared_error = 130198.129\\nsamples = 115\\nvalue = 1426.516'),\n",
       " Text(0.3668639053254438, 0.045454545454545456, 'squared_error = 188281.819\\nsamples = 76\\nvalue = 1609.191'),\n",
       " Text(0.3905325443786982, 0.5909090909090909, 'x[6] <= 1397.5\\nsquared_error = 196563.734\\nsamples = 334\\nvalue = 1347.747'),\n",
       " Text(0.3801775147928994, 0.5, 'x[4] <= 67.0\\nsquared_error = 192513.197\\nsamples = 320\\nvalue = 1371.723'),\n",
       " Text(0.371301775147929, 0.4090909090909091, 'x[8] <= 14565.0\\nsquared_error = 78389.932\\nsamples = 13\\nvalue = 1054.143'),\n",
       " Text(0.3698224852071006, 0.3181818181818182, 'x[3] <= 9544.0\\nsquared_error = 45984.64\\nsamples = 9\\nvalue = 927.4'),\n",
       " Text(0.3683431952662722, 0.22727272727272727, 'squared_error = 27165.84\\nsamples = 4\\nvalue = 1186.4'),\n",
       " Text(0.371301775147929, 0.22727272727272727, 'squared_error = 5083.29\\nsamples = 5\\nvalue = 797.9'),\n",
       " Text(0.3727810650887574, 0.3181818181818182, 'squared_error = 18845.333\\nsamples = 4\\nvalue = 1371.0'),\n",
       " Text(0.3890532544378698, 0.4090909090909091, 'x[4] <= 2236.5\\nsquared_error = 192896.102\\nsamples = 307\\nvalue = 1385.305'),\n",
       " Text(0.3801775147928994, 0.3181818181818182, 'x[3] <= 2040.0\\nsquared_error = 198663.621\\nsamples = 285\\nvalue = 1400.253'),\n",
       " Text(0.3742603550295858, 0.22727272727272727, 'x[5] <= 0.5\\nsquared_error = 150982.24\\nsamples = 23\\nvalue = 1177.6'),\n",
       " Text(0.371301775147929, 0.13636363636363635, 'x[6] <= 1219.5\\nsquared_error = 39016.984\\nsamples = 8\\nvalue = 1514.625'),\n",
       " Text(0.3698224852071006, 0.045454545454545456, 'squared_error = 28008.188\\nsamples = 4\\nvalue = 1384.25'),\n",
       " Text(0.3727810650887574, 0.045454545454545456, 'squared_error = 16030.5\\nsamples = 4\\nvalue = 1645.0'),\n",
       " Text(0.3772189349112426, 0.13636363636363635, 'x[6] <= 1212.0\\nsquared_error = 135373.316\\nsamples = 15\\nvalue = 1055.045'),\n",
       " Text(0.3757396449704142, 0.045454545454545456, 'squared_error = 163520.75\\nsamples = 4\\nvalue = 1566.5'),\n",
       " Text(0.378698224852071, 0.045454545454545456, 'squared_error = 58070.349\\nsamples = 11\\nvalue = 941.389'),\n",
       " Text(0.386094674556213, 0.22727272727272727, 'x[4] <= 911.5\\nsquared_error = 198287.364\\nsamples = 262\\nvalue = 1415.86'),\n",
       " Text(0.3831360946745562, 0.13636363636363635, 'x[4] <= 752.5\\nsquared_error = 262891.636\\nsamples = 126\\nvalue = 1478.538'),\n",
       " Text(0.3816568047337278, 0.045454545454545456, 'squared_error = 217852.948\\nsamples = 104\\nvalue = 1410.907'),\n",
       " Text(0.38461538461538464, 0.045454545454545456, 'squared_error = 352380.282\\nsamples = 22\\nvalue = 1774.649'),\n",
       " Text(0.3890532544378698, 0.13636363636363635, 'x[2] <= 5.344\\nsquared_error = 135766.038\\nsamples = 136\\nvalue = 1361.393'),\n",
       " Text(0.3875739644970414, 0.045454545454545456, 'squared_error = 123370.163\\nsamples = 107\\nvalue = 1314.83'),\n",
       " Text(0.3905325443786982, 0.045454545454545456, 'squared_error = 142859.911\\nsamples = 29\\nvalue = 1541.702'),\n",
       " Text(0.3979289940828402, 0.3181818181818182, 'x[2] <= 4.946\\nsquared_error = 66710.492\\nsamples = 22\\nvalue = 1177.848'),\n",
       " Text(0.39644970414201186, 0.22727272727272727, 'x[6] <= 1219.5\\nsquared_error = 32020.635\\nsamples = 15\\nvalue = 1107.87'),\n",
       " Text(0.39497041420118345, 0.13636363636363635, 'x[9] <= 7484.5\\nsquared_error = 33076.996\\nsamples = 9\\nvalue = 1157.933'),\n",
       " Text(0.39349112426035504, 0.045454545454545456, 'squared_error = 37238.688\\nsamples = 4\\nvalue = 1077.75'),\n",
       " Text(0.39644970414201186, 0.045454545454545456, 'squared_error = 28375.537\\nsamples = 5\\nvalue = 1187.091'),\n",
       " Text(0.3979289940828402, 0.13636363636363635, 'squared_error = 16529.0\\nsamples = 6\\nvalue = 1014.0'),\n",
       " Text(0.3994082840236686, 0.22727272727272727, 'squared_error = 109328.56\\nsamples = 7\\nvalue = 1338.8'),\n",
       " Text(0.40088757396449703, 0.5, 'x[6] <= 1411.5\\nsquared_error = 78746.109\\nsamples = 14\\nvalue = 924.448'),\n",
       " Text(0.3994082840236686, 0.4090909090909091, 'squared_error = 211641.609\\nsamples = 6\\nvalue = 1100.875'),\n",
       " Text(0.40236686390532544, 0.4090909090909091, 'x[4] <= 478.5\\nsquared_error = 11744.372\\nsamples = 8\\nvalue = 857.238'),\n",
       " Text(0.40088757396449703, 0.3181818181818182, 'squared_error = 3537.471\\nsamples = 4\\nvalue = 907.727'),\n",
       " Text(0.40384615384615385, 0.3181818181818182, 'squared_error = 14883.41\\nsamples = 4\\nvalue = 801.7'),\n",
       " Text(0.4573317307692308, 0.6818181818181818, 'x[6] <= 1222.5\\nsquared_error = 267412.201\\nsamples = 1590\\nvalue = 1717.834'),\n",
       " Text(0.4312130177514793, 0.5909090909090909, 'x[6] <= 379.5\\nsquared_error = 266159.811\\nsamples = 1428\\nvalue = 1751.487'),\n",
       " Text(0.41272189349112426, 0.5, 'x[6] <= 327.5\\nsquared_error = 137643.598\\nsamples = 55\\nvalue = 1449.465'),\n",
       " Text(0.40828402366863903, 0.4090909090909091, 'x[8] <= 15579.0\\nsquared_error = 119103.328\\nsamples = 33\\nvalue = 1368.074'),\n",
       " Text(0.4068047337278107, 0.3181818181818182, 'x[4] <= 237.5\\nsquared_error = 83032.589\\nsamples = 26\\nvalue = 1265.359'),\n",
       " Text(0.40532544378698226, 0.22727272727272727, 'squared_error = 28019.859\\nsamples = 5\\nvalue = 953.875'),\n",
       " Text(0.40828402366863903, 0.22727272727272727, 'x[6] <= 145.0\\nsquared_error = 65729.998\\nsamples = 21\\nvalue = 1345.742'),\n",
       " Text(0.40532544378698226, 0.13636363636363635, 'x[2] <= 6.693\\nsquared_error = 18489.938\\nsamples = 11\\nvalue = 1201.25'),\n",
       " Text(0.40384615384615385, 0.045454545454545456, 'squared_error = 10955.222\\nsamples = 5\\nvalue = 1096.667'),\n",
       " Text(0.4068047337278107, 0.045454545454545456, 'squared_error = 12510.6\\nsamples = 6\\nvalue = 1264.0'),\n",
       " Text(0.41124260355029585, 0.13636363636363635, 'x[9] <= 8294.0\\nsquared_error = 70095.182\\nsamples = 10\\nvalue = 1499.867'),\n",
       " Text(0.40976331360946744, 0.045454545454545456, 'squared_error = 53607.877\\nsamples = 6\\nvalue = 1603.111'),\n",
       " Text(0.41272189349112426, 0.045454545454545456, 'squared_error = 54853.333\\nsamples = 4\\nvalue = 1345.0'),\n",
       " Text(0.40976331360946744, 0.3181818181818182, 'squared_error = 114135.582\\nsamples = 7\\nvalue = 1635.133'),\n",
       " Text(0.4171597633136095, 0.4090909090909091, 'x[8] <= 10342.0\\nsquared_error = 138887.152\\nsamples = 22\\nvalue = 1586.812'),\n",
       " Text(0.41420118343195267, 0.3181818181818182, 'x[8] <= 1525.5\\nsquared_error = 114049.324\\nsamples = 13\\nvalue = 1766.211'),\n",
       " Text(0.41272189349112426, 0.22727272727272727, 'squared_error = 31968.484\\nsamples = 4\\nvalue = 1564.625'),\n",
       " Text(0.4156804733727811, 0.22727272727272727, 'x[2] <= 6.607\\nsquared_error = 122696.694\\nsamples = 9\\nvalue = 1912.818'),\n",
       " Text(0.41420118343195267, 0.13636363636363635, 'squared_error = 26279.0\\nsamples = 5\\nvalue = 2092.0'),\n",
       " Text(0.4171597633136095, 0.13636363636363635, 'squared_error = 153637.76\\nsamples = 4\\nvalue = 1697.8'),\n",
       " Text(0.42011834319526625, 0.3181818181818182, 'x[2] <= 6.522\\nsquared_error = 59403.621\\nsamples = 9\\nvalue = 1324.615'),\n",
       " Text(0.41863905325443784, 0.22727272727272727, 'squared_error = 40327.102\\nsamples = 5\\nvalue = 1200.429'),\n",
       " Text(0.42159763313609466, 0.22727272727272727, 'squared_error = 42675.25\\nsamples = 4\\nvalue = 1469.5'),\n",
       " Text(0.44970414201183434, 0.5, 'x[6] <= 900.5\\nsquared_error = 267492.564\\nsamples = 1373\\nvalue = 1763.434'),\n",
       " Text(0.4386094674556213, 0.4090909090909091, 'x[1] <= 16570.0\\nsquared_error = 292133.014\\nsamples = 723\\nvalue = 1830.515'),\n",
       " Text(0.43047337278106507, 0.3181818181818182, 'x[2] <= 6.181\\nsquared_error = 255523.096\\nsamples = 635\\nvalue = 1798.999'),\n",
       " Text(0.4245562130177515, 0.22727272727272727, 'x[2] <= 5.901\\nsquared_error = 206113.119\\nsamples = 207\\nvalue = 1698.287'),\n",
       " Text(0.42159763313609466, 0.13636363636363635, 'x[6] <= 455.5\\nsquared_error = 240362.626\\nsamples = 72\\nvalue = 1837.136'),\n",
       " Text(0.42011834319526625, 0.045454545454545456, 'squared_error = 181390.69\\nsamples = 7\\nvalue = 1479.1'),\n",
       " Text(0.4230769230769231, 0.045454545454545456, 'squared_error = 232854.575\\nsamples = 65\\nvalue = 1870.287'),\n",
       " Text(0.4275147928994083, 0.13636363636363635, 'x[4] <= 1883.5\\nsquared_error = 167594.043\\nsamples = 135\\nvalue = 1615.955'),\n",
       " Text(0.4260355029585799, 0.045454545454545456, 'squared_error = 155665.889\\nsamples = 112\\nvalue = 1566.206'),\n",
       " Text(0.4289940828402367, 0.045454545454545456, 'squared_error = 164721.177\\nsamples = 23\\nvalue = 1820.051'),\n",
       " Text(0.4363905325443787, 0.22727272727272727, 'x[6] <= 600.0\\nsquared_error = 271542.883\\nsamples = 428\\nvalue = 1845.674'),\n",
       " Text(0.4334319526627219, 0.13636363636363635, 'x[6] <= 391.0\\nsquared_error = 231804.097\\nsamples = 163\\nvalue = 1732.859'),\n",
       " Text(0.4319526627218935, 0.045454545454545456, 'squared_error = 138250.0\\nsamples = 4\\nvalue = 2411.0'),\n",
       " Text(0.4349112426035503, 0.045454545454545456, 'squared_error = 221142.484\\nsamples = 159\\nvalue = 1713.795'),\n",
       " Text(0.4393491124260355, 0.13636363636363635, 'x[6] <= 628.5\\nsquared_error = 283146.119\\nsamples = 265\\nvalue = 1913.152'),\n",
       " Text(0.4378698224852071, 0.045454545454545456, 'squared_error = 265699.795\\nsamples = 24\\nvalue = 2179.5'),\n",
       " Text(0.4408284023668639, 0.045454545454545456, 'squared_error = 276085.071\\nsamples = 241\\nvalue = 1882.633'),\n",
       " Text(0.4467455621301775, 0.3181818181818182, 'x[1] <= 16742.0\\nsquared_error = 501615.271\\nsamples = 88\\nvalue = 2064.2'),\n",
       " Text(0.4452662721893491, 0.22727272727272727, 'squared_error = 794972.204\\nsamples = 4\\nvalue = 3448.286'),\n",
       " Text(0.44822485207100593, 0.22727272727272727, 'x[2] <= 5.905\\nsquared_error = 375078.531\\nsamples = 84\\nvalue = 1988.508'),\n",
       " Text(0.4452662721893491, 0.13636363636363635, 'x[0] <= 18106.5\\nsquared_error = 183156.734\\nsamples = 12\\nvalue = 1554.625'),\n",
       " Text(0.4437869822485207, 0.045454545454545456, 'squared_error = 68408.49\\nsamples = 8\\nvalue = 1407.1'),\n",
       " Text(0.4467455621301775, 0.045454545454545456, 'squared_error = 277676.583\\nsamples = 4\\nvalue = 1800.5'),\n",
       " Text(0.4511834319526627, 0.13636363636363635, 'x[2] <= 6.592\\nsquared_error = 371760.536\\nsamples = 72\\nvalue = 2050.491'),\n",
       " Text(0.44970414201183434, 0.045454545454545456, 'squared_error = 389753.843\\nsamples = 36\\nvalue = 2245.891'),\n",
       " Text(0.4526627218934911, 0.045454545454545456, 'squared_error = 282008.436\\nsamples = 36\\nvalue = 1861.947'),\n",
       " Text(0.46079881656804733, 0.4090909090909091, 'x[3] <= 18341.0\\nsquared_error = 230211.473\\nsamples = 650\\nvalue = 1690.02'),\n",
       " Text(0.4593195266272189, 0.3181818181818182, 'x[2] <= 5.779\\nsquared_error = 220497.696\\nsamples = 645\\nvalue = 1681.503'),\n",
       " Text(0.4556213017751479, 0.22727272727272727, 'x[6] <= 1026.0\\nsquared_error = 260595.5\\nsamples = 9\\nvalue = 2197.5'),\n",
       " Text(0.4541420118343195, 0.13636363636363635, 'squared_error = 584457.76\\nsamples = 4\\nvalue = 2009.2'),\n",
       " Text(0.45710059171597633, 0.13636363636363635, 'squared_error = 89942.81\\nsamples = 5\\nvalue = 2283.091'),\n",
       " Text(0.4630177514792899, 0.22727272727272727, 'x[0] <= 11624.5\\nsquared_error = 215592.572\\nsamples = 636\\nvalue = 1673.353'),\n",
       " Text(0.46005917159763315, 0.13636363636363635, 'x[5] <= 1.5\\nsquared_error = 227377.92\\nsamples = 414\\nvalue = 1714.832'),\n",
       " Text(0.45857988165680474, 0.045454545454545456, 'squared_error = 247399.285\\nsamples = 214\\nvalue = 1779.432'),\n",
       " Text(0.46153846153846156, 0.045454545454545456, 'squared_error = 195389.653\\nsamples = 200\\nvalue = 1643.144'),\n",
       " Text(0.46597633136094674, 0.13636363636363635, 'x[9] <= 13543.0\\nsquared_error = 182118.005\\nsamples = 222\\nvalue = 1591.25'),\n",
       " Text(0.46449704142011833, 0.045454545454545456, 'squared_error = 132110.628\\nsamples = 61\\nvalue = 1462.591'),\n",
       " Text(0.46745562130177515, 0.045454545454545456, 'squared_error = 191781.853\\nsamples = 161\\nvalue = 1636.179'),\n",
       " Text(0.46227810650887574, 0.3181818181818182, 'squared_error = 384322.84\\nsamples = 5\\nvalue = 2663.778'),\n",
       " Text(0.48345044378698226, 0.5909090909090909, 'x[2] <= 6.241\\nsquared_error = 178821.469\\nsamples = 162\\nvalue = 1418.406'),\n",
       " Text(0.4770710059171598, 0.5, 'x[4] <= 2088.0\\nsquared_error = 120458.181\\nsamples = 62\\nvalue = 1273.83'),\n",
       " Text(0.4755917159763314, 0.4090909090909091, 'x[6] <= 1275.0\\nsquared_error = 125575.628\\nsamples = 56\\nvalue = 1307.591'),\n",
       " Text(0.4718934911242604, 0.3181818181818182, 'x[2] <= 6.073\\nsquared_error = 120903.534\\nsamples = 20\\nvalue = 1410.919'),\n",
       " Text(0.47041420118343197, 0.22727272727272727, 'x[5] <= 1.5\\nsquared_error = 146258.491\\nsamples = 13\\nvalue = 1520.174'),\n",
       " Text(0.46893491124260356, 0.13636363636363635, 'squared_error = 126147.0\\nsamples = 6\\nvalue = 1291.0'),\n",
       " Text(0.4718934911242604, 0.13636363636363635, 'squared_error = 90251.018\\nsamples = 7\\nvalue = 1696.462'),\n",
       " Text(0.47337278106508873, 0.22727272727272727, 'squared_error = 27421.959\\nsamples = 7\\nvalue = 1231.429'),\n",
       " Text(0.47928994082840237, 0.3181818181818182, 'x[3] <= 11241.5\\nsquared_error = 115599.842\\nsamples = 36\\nvalue = 1232.627'),\n",
       " Text(0.47781065088757396, 0.22727272727272727, 'x[6] <= 1365.5\\nsquared_error = 96116.853\\nsamples = 29\\nvalue = 1271.167'),\n",
       " Text(0.47485207100591714, 0.13636363636363635, 'x[4] <= 860.5\\nsquared_error = 103130.554\\nsamples = 19\\nvalue = 1364.08'),\n",
       " Text(0.47337278106508873, 0.045454545454545456, 'squared_error = 67395.21\\nsamples = 7\\nvalue = 1178.3'),\n",
       " Text(0.47633136094674555, 0.045454545454545456, 'squared_error = 88604.996\\nsamples = 12\\nvalue = 1487.933'),\n",
       " Text(0.4807692307692308, 0.13636363636363635, 'x[4] <= 663.5\\nsquared_error = 54437.426\\nsamples = 10\\nvalue = 1134.529'),\n",
       " Text(0.47928994082840237, 0.045454545454545456, 'squared_error = 72838.889\\nsamples = 4\\nvalue = 1334.333'),\n",
       " Text(0.4822485207100592, 0.045454545454545456, 'squared_error = 10747.339\\nsamples = 6\\nvalue = 1025.545'),\n",
       " Text(0.4807692307692308, 0.22727272727272727, 'squared_error = 167243.284\\nsamples = 7\\nvalue = 1052.778'),\n",
       " Text(0.47855029585798814, 0.4090909090909091, 'squared_error = 13275.854\\nsamples = 6\\nvalue = 1026.25'),\n",
       " Text(0.48982988165680474, 0.5, 'x[4] <= 144.5\\nsquared_error = 194333.438\\nsamples = 100\\nvalue = 1512.286'),\n",
       " Text(0.48372781065088755, 0.4090909090909091, 'x[6] <= 1308.5\\nsquared_error = 93203.229\\nsamples = 12\\nvalue = 1201.095'),\n",
       " Text(0.4822485207100592, 0.3181818181818182, 'squared_error = 80426.4\\nsamples = 7\\nvalue = 1385.0'),\n",
       " Text(0.48520710059171596, 0.3181818181818182, 'squared_error = 46120.992\\nsamples = 5\\nvalue = 1033.909'),\n",
       " Text(0.4959319526627219, 0.4090909090909091, 'x[1] <= 6755.5\\nsquared_error = 192596.635\\nsamples = 88\\nvalue = 1561.421'),\n",
       " Text(0.4881656804733728, 0.3181818181818182, 'x[1] <= 1784.0\\nsquared_error = 215076.659\\nsamples = 27\\nvalue = 1723.125'),\n",
       " Text(0.48668639053254437, 0.22727272727272727, 'squared_error = 39186.444\\nsamples = 5\\nvalue = 1423.667'),\n",
       " Text(0.4896449704142012, 0.22727272727272727, 'x[0] <= 3784.5\\nsquared_error = 232548.318\\nsamples = 22\\nvalue = 1810.065'),\n",
       " Text(0.48668639053254437, 0.13636363636363635, 'x[2] <= 6.529\\nsquared_error = 199046.916\\nsamples = 10\\nvalue = 1983.467'),\n",
       " Text(0.48520710059171596, 0.045454545454545456, 'squared_error = 88841.25\\nsamples = 4\\nvalue = 1411.5'),\n",
       " Text(0.4881656804733728, 0.045454545454545456, 'squared_error = 76900.612\\nsamples = 6\\nvalue = 2191.455'),\n",
       " Text(0.492603550295858, 0.13636363636363635, 'x[9] <= 4256.0\\nsquared_error = 209339.625\\nsamples = 12\\nvalue = 1647.5'),\n",
       " Text(0.4911242603550296, 0.045454545454545456, 'squared_error = 58294.16\\nsamples = 4\\nvalue = 1162.2'),\n",
       " Text(0.4940828402366864, 0.045454545454545456, 'squared_error = 122283.537\\nsamples = 8\\nvalue = 1868.091'),\n",
       " Text(0.503698224852071, 0.3181818181818182, 'x[1] <= 10950.0\\nsquared_error = 166844.069\\nsamples = 61\\nvalue = 1491.871'),\n",
       " Text(0.5, 0.22727272727272727, 'x[2] <= 6.982\\nsquared_error = 58180.242\\nsamples = 22\\nvalue = 1318.412'),\n",
       " Text(0.4985207100591716, 0.13636363636363635, 'x[2] <= 6.626\\nsquared_error = 60475.28\\nsamples = 16\\nvalue = 1372.0'),\n",
       " Text(0.4970414201183432, 0.045454545454545456, 'squared_error = 38151.227\\nsamples = 10\\nvalue = 1277.2'),\n",
       " Text(0.5, 0.045454545454545456, 'squared_error = 60259.96\\nsamples = 6\\nvalue = 1514.2'),\n",
       " Text(0.5014792899408284, 0.13636363636363635, 'squared_error = 21670.025\\nsamples = 6\\nvalue = 1169.556'),\n",
       " Text(0.507396449704142, 0.22727272727272727, 'x[2] <= 6.744\\nsquared_error = 202133.09\\nsamples = 39\\nvalue = 1591.831'),\n",
       " Text(0.5044378698224852, 0.13636363636363635, 'x[8] <= 16022.0\\nsquared_error = 176593.897\\nsamples = 20\\nvalue = 1716.5'),\n",
       " Text(0.5029585798816568, 0.045454545454545456, 'squared_error = 173254.802\\nsamples = 15\\nvalue = 1860.261'),\n",
       " Text(0.5059171597633136, 0.045454545454545456, 'squared_error = 50007.537\\nsamples = 5\\nvalue = 1415.909'),\n",
       " Text(0.5103550295857988, 0.13636363636363635, 'x[2] <= 7.013\\nsquared_error = 186981.242\\nsamples = 19\\nvalue = 1422.28'),\n",
       " Text(0.5088757396449705, 0.045454545454545456, 'squared_error = 10088.98\\nsamples = 6\\nvalue = 997.143'),\n",
       " Text(0.5118343195266272, 0.045454545454545456, 'squared_error = 158149.904\\nsamples = 13\\nvalue = 1587.611'),\n",
       " Text(0.7873289571005917, 0.8636363636363636, 'x[2] <= 12.33\\nsquared_error = 451545.837\\nsamples = 5153\\nvalue = 2135.003'),\n",
       " Text(0.6548400517751479, 0.9090909090909092, '  False'),\n",
       " Text(0.6725221893491125, 0.7727272727272727, 'x[6] <= 1058.5\\nsquared_error = 336813.07\\nsamples = 3746\\nvalue = 1999.829'),\n",
       " Text(0.5931952662721893, 0.6818181818181818, 'x[2] <= 9.741\\nsquared_error = 353737.792\\nsamples = 2620\\nvalue = 2088.402'),\n",
       " Text(0.5500184911242604, 0.5909090909090909, 'x[6] <= 438.5\\nsquared_error = 308677.239\\nsamples = 1667\\nvalue = 1999.958'),\n",
       " Text(0.5269970414201184, 0.5, 'x[9] <= 475.0\\nsquared_error = 166366.582\\nsamples = 146\\nvalue = 1706.163'),\n",
       " Text(0.5255177514792899, 0.4090909090909091, 'squared_error = 711286.688\\nsamples = 4\\nvalue = 2372.75'),\n",
       " Text(0.5284763313609467, 0.4090909090909091, 'x[2] <= 7.763\\nsquared_error = 146200.231\\nsamples = 142\\nvalue = 1692.697'),\n",
       " Text(0.5207100591715976, 0.3181818181818182, 'x[4] <= 741.5\\nsquared_error = 101949.959\\nsamples = 37\\nvalue = 1544.429'),\n",
       " Text(0.5177514792899408, 0.22727272727272727, 'x[3] <= 12988.5\\nsquared_error = 57244.346\\nsamples = 13\\nvalue = 1382.353'),\n",
       " Text(0.5162721893491125, 0.13636363636363635, 'x[4] <= 178.0\\nsquared_error = 42407.868\\nsamples = 9\\nvalue = 1264.364'),\n",
       " Text(0.514792899408284, 0.045454545454545456, 'squared_error = 19026.889\\nsamples = 5\\nvalue = 1415.667'),\n",
       " Text(0.5177514792899408, 0.045454545454545456, 'squared_error = 10028.56\\nsamples = 4\\nvalue = 1082.8'),\n",
       " Text(0.5192307692307693, 0.13636363636363635, 'squared_error = 12130.222\\nsamples = 4\\nvalue = 1598.667'),\n",
       " Text(0.5236686390532544, 0.22727272727272727, 'x[4] <= 939.5\\nsquared_error = 104330.999\\nsamples = 24\\nvalue = 1630.531'),\n",
       " Text(0.522189349112426, 0.13636363636363635, 'squared_error = 132831.061\\nsamples = 5\\nvalue = 1972.714'),\n",
       " Text(0.5251479289940828, 0.13636363636363635, 'x[4] <= 1100.5\\nsquared_error = 54386.202\\nsamples = 19\\nvalue = 1534.72'),\n",
       " Text(0.5236686390532544, 0.045454545454545456, 'squared_error = 29144.204\\nsamples = 5\\nvalue = 1343.286'),\n",
       " Text(0.5266272189349113, 0.045454545454545456, 'squared_error = 44408.583\\nsamples = 14\\nvalue = 1609.167'),\n",
       " Text(0.5362426035502958, 0.3181818181818182, 'x[6] <= 303.5\\nsquared_error = 151145.376\\nsamples = 105\\nvalue = 1741.456'),\n",
       " Text(0.5325443786982249, 0.22727272727272727, 'x[9] <= 16114.0\\nsquared_error = 149533.333\\nsamples = 38\\nvalue = 1612.333'),\n",
       " Text(0.5310650887573964, 0.13636363636363635, 'x[4] <= 262.5\\nsquared_error = 90623.361\\nsamples = 33\\nvalue = 1519.841'),\n",
       " Text(0.5295857988165681, 0.045454545454545456, 'squared_error = 126385.556\\nsamples = 7\\nvalue = 1771.333'),\n",
       " Text(0.5325443786982249, 0.045454545454545456, 'squared_error = 60981.342\\nsamples = 26\\nvalue = 1455.171'),\n",
       " Text(0.5340236686390533, 0.13636363636363635, 'squared_error = 205474.01\\nsamples = 5\\nvalue = 2019.3'),\n",
       " Text(0.5399408284023669, 0.22727272727272727, 'x[6] <= 376.5\\nsquared_error = 137197.536\\nsamples = 67\\nvalue = 1814.853'),\n",
       " Text(0.5369822485207101, 0.13636363636363635, 'x[8] <= 12077.0\\nsquared_error = 131140.426\\nsamples = 25\\nvalue = 2009.242'),\n",
       " Text(0.5355029585798816, 0.045454545454545456, 'squared_error = 124630.741\\nsamples = 20\\nvalue = 2073.0'),\n",
       " Text(0.5384615384615384, 0.045454545454545456, 'squared_error = 59824.556\\nsamples = 5\\nvalue = 1722.333'),\n",
       " Text(0.5428994082840237, 0.13636363636363635, 'x[6] <= 385.0\\nsquared_error = 109603.721\\nsamples = 42\\nvalue = 1711.387'),\n",
       " Text(0.5414201183431953, 0.045454545454545456, 'squared_error = 190099.143\\nsamples = 5\\nvalue = 1332.0'),\n",
       " Text(0.5443786982248521, 0.045454545454545456, 'squared_error = 78708.402\\nsamples = 37\\nvalue = 1759.673'),\n",
       " Text(0.5730399408284024, 0.5, 'x[2] <= 7.753\\nsquared_error = 312794.763\\nsamples = 1521\\nvalue = 2024.8'),\n",
       " Text(0.5562130177514792, 0.4090909090909091, 'x[6] <= 670.0\\nsquared_error = 307949.445\\nsamples = 348\\nvalue = 1904.615'),\n",
       " Text(0.5502958579881657, 0.3181818181818182, 'x[6] <= 468.0\\nsquared_error = 206640.397\\nsamples = 88\\nvalue = 1721.763'),\n",
       " Text(0.5488165680473372, 0.22727272727272727, 'squared_error = 172768.56\\nsamples = 6\\nvalue = 1273.8'),\n",
       " Text(0.5517751479289941, 0.22727272727272727, 'x[6] <= 527.5\\nsquared_error = 192504.389\\nsamples = 82\\nvalue = 1756.488'),\n",
       " Text(0.5488165680473372, 0.13636363636363635, 'x[5] <= 1.5\\nsquared_error = 348505.075\\nsamples = 12\\nvalue = 2151.632'),\n",
       " Text(0.5473372781065089, 0.045454545454545456, 'squared_error = 388910.09\\nsamples = 6\\nvalue = 2424.9'),\n",
       " Text(0.5502958579881657, 0.045454545454545456, 'squared_error = 128445.556\\nsamples = 6\\nvalue = 1848.0'),\n",
       " Text(0.5547337278106509, 0.13636363636363635, 'x[3] <= 12619.5\\nsquared_error = 133931.162\\nsamples = 70\\nvalue = 1688.236'),\n",
       " Text(0.5532544378698225, 0.045454545454545456, 'squared_error = 136946.064\\nsamples = 38\\nvalue = 1598.627'),\n",
       " Text(0.5562130177514792, 0.045454545454545456, 'squared_error = 110407.383\\nsamples = 32\\nvalue = 1791.902'),\n",
       " Text(0.5621301775147929, 0.3181818181818182, 'x[6] <= 866.5\\nsquared_error = 327536.998\\nsamples = 260\\nvalue = 1968.316'),\n",
       " Text(0.5591715976331361, 0.22727272727272727, 'x[6] <= 678.0\\nsquared_error = 346621.287\\nsamples = 115\\nvalue = 2132.93'),\n",
       " Text(0.5576923076923077, 0.13636363636363635, 'squared_error = 840951.76\\nsamples = 6\\nvalue = 2694.8'),\n",
       " Text(0.5606508875739645, 0.13636363636363635, 'x[2] <= 7.248\\nsquared_error = 299303.083\\nsamples = 109\\nvalue = 2100.823'),\n",
       " Text(0.5591715976331361, 0.045454545454545456, 'squared_error = 406835.254\\nsamples = 7\\nvalue = 2601.769'),\n",
       " Text(0.5621301775147929, 0.045454545454545456, 'squared_error = 268920.222\\nsamples = 102\\nvalue = 2060.623'),\n",
       " Text(0.5650887573964497, 0.22727272727272727, 'x[8] <= 670.0\\nsquared_error = 267362.149\\nsamples = 145\\nvalue = 1826.009'),\n",
       " Text(0.5636094674556213, 0.13636363636363635, 'squared_error = 203593.109\\nsamples = 6\\nvalue = 1328.875'),\n",
       " Text(0.5665680473372781, 0.13636363636363635, 'x[4] <= 2473.0\\nsquared_error = 259868.119\\nsamples = 139\\nvalue = 1845.316'),\n",
       " Text(0.5650887573964497, 0.045454545454545456, 'squared_error = 240177.028\\nsamples = 131\\nvalue = 1827.5'),\n",
       " Text(0.5680473372781065, 0.045454545454545456, 'squared_error = 544943.938\\nsamples = 8\\nvalue = 2286.25'),\n",
       " Text(0.5898668639053254, 0.4090909090909091, 'x[6] <= 725.0\\nsquared_error = 308784.514\\nsamples = 1173\\nvalue = 2059.732'),\n",
       " Text(0.5806213017751479, 0.3181818181818182, 'x[9] <= 17798.5\\nsquared_error = 264031.308\\nsamples = 406\\nvalue = 1990.072'),\n",
       " Text(0.5754437869822485, 0.22727272727272727, 'x[4] <= 1256.5\\nsquared_error = 263577.091\\nsamples = 389\\nvalue = 2006.173'),\n",
       " Text(0.5724852071005917, 0.13636363636363635, 'x[2] <= 9.05\\nsquared_error = 255164.759\\nsamples = 251\\nvalue = 1955.422'),\n",
       " Text(0.5710059171597633, 0.045454545454545456, 'squared_error = 233488.702\\nsamples = 188\\nvalue = 1899.24'),\n",
       " Text(0.5739644970414202, 0.045454545454545456, 'squared_error = 282015.198\\nsamples = 63\\nvalue = 2138.01'),\n",
       " Text(0.5784023668639053, 0.13636363636363635, 'x[4] <= 2895.0\\nsquared_error = 265194.231\\nsamples = 138\\nvalue = 2104.776'),\n",
       " Text(0.5769230769230769, 0.045454545454545456, 'squared_error = 260258.537\\nsamples = 134\\nvalue = 2121.015'),\n",
       " Text(0.5798816568047337, 0.045454545454545456, 'squared_error = 178917.551\\nsamples = 4\\nvalue = 1633.857'),\n",
       " Text(0.5857988165680473, 0.22727272727272727, 'x[2] <= 9.321\\nsquared_error = 176764.309\\nsamples = 17\\nvalue = 1688.545'),\n",
       " Text(0.584319526627219, 0.13636363636363635, 'x[4] <= 1347.5\\nsquared_error = 166305.948\\nsamples = 13\\nvalue = 1788.115'),\n",
       " Text(0.5828402366863905, 0.045454545454545456, 'squared_error = 87558.608\\nsamples = 9\\nvalue = 1647.944'),\n",
       " Text(0.5857988165680473, 0.045454545454545456, 'squared_error = 199812.25\\nsamples = 4\\nvalue = 2103.5'),\n",
       " Text(0.5872781065088757, 0.13636363636363635, 'squared_error = 42010.49\\nsamples = 4\\nvalue = 1318.714'),\n",
       " Text(0.599112426035503, 0.3181818181818182, 'x[6] <= 913.0\\nsquared_error = 329002.531\\nsamples = 767\\nvalue = 2097.522'),\n",
       " Text(0.5931952662721893, 0.22727272727272727, 'x[1] <= 17601.5\\nsquared_error = 357167.2\\nsamples = 395\\nvalue = 2199.003'),\n",
       " Text(0.5902366863905325, 0.13636363636363635, 'x[0] <= 6930.0\\nsquared_error = 363174.768\\nsamples = 376\\nvalue = 2221.473'),\n",
       " Text(0.5887573964497042, 0.045454545454545456, 'squared_error = 315976.539\\nsamples = 142\\nvalue = 2129.553'),\n",
       " Text(0.591715976331361, 0.045454545454545456, 'squared_error = 384213.666\\nsamples = 234\\nvalue = 2279.319'),\n",
       " Text(0.5961538461538461, 0.13636363636363635, 'x[8] <= 18380.5\\nsquared_error = 147591.141\\nsamples = 19\\nvalue = 1863.737'),\n",
       " Text(0.5946745562130178, 0.045454545454545456, 'squared_error = 115877.51\\nsamples = 15\\nvalue = 1742.276'),\n",
       " Text(0.5976331360946746, 0.045454545454545456, 'squared_error = 49068.988\\nsamples = 4\\nvalue = 2255.111'),\n",
       " Text(0.6050295857988166, 0.22727272727272727, 'x[4] <= 539.5\\nsquared_error = 279245.645\\nsamples = 372\\nvalue = 1994.336'),\n",
       " Text(0.6020710059171598, 0.13636363636363635, 'x[2] <= 9.561\\nsquared_error = 266044.689\\nsamples = 86\\nvalue = 2159.826'),\n",
       " Text(0.6005917159763313, 0.045454545454545456, 'squared_error = 255391.717\\nsamples = 81\\nvalue = 2131.944'),\n",
       " Text(0.6035502958579881, 0.045454545454545456, 'squared_error = 194501.347\\nsamples = 5\\nvalue = 2657.714'),\n",
       " Text(0.6079881656804734, 0.13636363636363635, 'x[7] <= 28.5\\nsquared_error = 272975.285\\nsamples = 286\\nvalue = 1947.156'),\n",
       " Text(0.606508875739645, 0.045454545454545456, 'squared_error = 265873.256\\nsamples = 128\\nvalue = 2014.083'),\n",
       " Text(0.6094674556213018, 0.045454545454545456, 'squared_error = 271803.405\\nsamples = 158\\nvalue = 1888.118'),\n",
       " Text(0.6363720414201184, 0.5909090909090909, 'x[6] <= 423.5\\nsquared_error = 394342.845\\nsamples = 953\\nvalue = 2237.982'),\n",
       " Text(0.6198224852071006, 0.5, 'x[2] <= 11.714\\nsquared_error = 241147.083\\nsamples = 61\\nvalue = 1778.481'),\n",
       " Text(0.6168639053254438, 0.4090909090909091, 'x[4] <= 1618.5\\nsquared_error = 244687.502\\nsamples = 48\\nvalue = 1880.229'),\n",
       " Text(0.6153846153846154, 0.3181818181818182, 'x[3] <= 1851.5\\nsquared_error = 237781.184\\nsamples = 41\\nvalue = 1794.147'),\n",
       " Text(0.613905325443787, 0.22727272727272727, 'squared_error = 185927.265\\nsamples = 6\\nvalue = 2428.143'),\n",
       " Text(0.6168639053254438, 0.22727272727272727, 'x[4] <= 590.5\\nsquared_error = 192313.058\\nsamples = 35\\nvalue = 1721.393'),\n",
       " Text(0.613905325443787, 0.13636363636363635, 'x[2] <= 10.739\\nsquared_error = 324832.712\\nsamples = 14\\nvalue = 1922.048'),\n",
       " Text(0.6124260355029586, 0.045454545454545456, 'squared_error = 106775.265\\nsamples = 4\\nvalue = 1567.143'),\n",
       " Text(0.6153846153846154, 0.045454545454545456, 'squared_error = 339393.393\\nsamples = 10\\nvalue = 2099.5'),\n",
       " Text(0.6198224852071006, 0.13636363636363635, 'x[4] <= 1218.0\\nsquared_error = 90505.397\\nsamples = 21\\nvalue = 1616.05'),\n",
       " Text(0.6183431952662722, 0.045454545454545456, 'squared_error = 50903.168\\nsamples = 17\\nvalue = 1545.727'),\n",
       " Text(0.621301775147929, 0.045454545454545456, 'squared_error = 143981.673\\nsamples = 4\\nvalue = 1947.571'),\n",
       " Text(0.6183431952662722, 0.3181818181818182, 'squared_error = 90118.249\\nsamples = 7\\nvalue = 2270.467'),\n",
       " Text(0.6227810650887574, 0.4090909090909091, 'x[7] <= 28.5\\nsquared_error = 80912.618\\nsamples = 13\\nvalue = 1440.68'),\n",
       " Text(0.621301775147929, 0.3181818181818182, 'squared_error = 16168.243\\nsamples = 4\\nvalue = 1241.083'),\n",
       " Text(0.6242603550295858, 0.3181818181818182, 'x[8] <= 8820.0\\nsquared_error = 69956.84\\nsamples = 9\\nvalue = 1624.923'),\n",
       " Text(0.6227810650887574, 0.22727272727272727, 'squared_error = 46208.122\\nsamples = 4\\nvalue = 1462.143'),\n",
       " Text(0.6257396449704142, 0.22727272727272727, 'squared_error = 30684.139\\nsamples = 5\\nvalue = 1814.833'),\n",
       " Text(0.6529215976331361, 0.5, 'x[6] <= 693.5\\nsquared_error = 388733.609\\nsamples = 892\\nvalue = 2272.832'),\n",
       " Text(0.6386834319526628, 0.4090909090909091, 'x[1] <= 17058.0\\nsquared_error = 298460.462\\nsamples = 270\\nvalue = 2145.913'),\n",
       " Text(0.632396449704142, 0.3181818181818182, 'x[6] <= 681.5\\nsquared_error = 256207.66\\nsamples = 246\\nvalue = 2106.072'),\n",
       " Text(0.628698224852071, 0.22727272727272727, 'x[1] <= 7197.5\\nsquared_error = 257549.451\\nsamples = 234\\nvalue = 2134.228'),\n",
       " Text(0.6257396449704142, 0.13636363636363635, 'x[6] <= 667.5\\nsquared_error = 200101.655\\nsamples = 93\\nvalue = 2020.432'),\n",
       " Text(0.6242603550295858, 0.045454545454545456, 'squared_error = 191935.05\\nsamples = 87\\nvalue = 1992.344'),\n",
       " Text(0.6272189349112426, 0.045454545454545456, 'squared_error = 109362.984\\nsamples = 6\\nvalue = 2480.375'),\n",
       " Text(0.6316568047337278, 0.13636363636363635, 'x[1] <= 7579.5\\nsquared_error = 280097.227\\nsamples = 141\\nvalue = 2204.529'),\n",
       " Text(0.6301775147928994, 0.045454545454545456, 'squared_error = 506450.173\\nsamples = 7\\nvalue = 2718.778'),\n",
       " Text(0.6331360946745562, 0.045454545454545456, 'squared_error = 259187.906\\nsamples = 134\\nvalue = 2183.102'),\n",
       " Text(0.636094674556213, 0.22727272727272727, 'x[4] <= 1157.5\\nsquared_error = 41478.707\\nsamples = 12\\nvalue = 1679.042'),\n",
       " Text(0.6346153846153846, 0.13636363636363635, 'squared_error = 32624.188\\nsamples = 4\\nvalue = 1544.75'),\n",
       " Text(0.6375739644970414, 0.13636363636363635, 'x[4] <= 1970.5\\nsquared_error = 32380.277\\nsamples = 8\\nvalue = 1746.188'),\n",
       " Text(0.636094674556213, 0.045454545454545456, 'squared_error = 15563.959\\nsamples = 4\\nvalue = 1838.429'),\n",
       " Text(0.6390532544378699, 0.045454545454545456, 'squared_error = 33694.914\\nsamples = 4\\nvalue = 1674.444'),\n",
       " Text(0.6449704142011834, 0.3181818181818182, 'x[7] <= 29.5\\nsquared_error = 552366.323\\nsamples = 24\\nvalue = 2575.306'),\n",
       " Text(0.6420118343195266, 0.22727272727272727, 'x[4] <= 324.0\\nsquared_error = 319407.04\\nsamples = 16\\nvalue = 2281.958'),\n",
       " Text(0.6405325443786982, 0.13636363636363635, 'squared_error = 743160.5\\nsamples = 4\\nvalue = 2787.0'),\n",
       " Text(0.643491124260355, 0.13636363636363635, 'x[4] <= 566.0\\nsquared_error = 173440.248\\nsamples = 12\\nvalue = 2180.95'),\n",
       " Text(0.6420118343195266, 0.045454545454545456, 'squared_error = 43756.776\\nsamples = 4\\nvalue = 1944.286'),\n",
       " Text(0.6449704142011834, 0.045454545454545456, 'squared_error = 196871.006\\nsamples = 8\\nvalue = 2308.385'),\n",
       " Text(0.6479289940828402, 0.22727272727272727, 'x[4] <= 1235.5\\nsquared_error = 501969.333\\nsamples = 8\\nvalue = 3162.0'),\n",
       " Text(0.6464497041420119, 0.13636363636363635, 'squared_error = 412079.673\\nsamples = 4\\nvalue = 3519.429'),\n",
       " Text(0.6494082840236687, 0.13636363636363635, 'squared_error = 198557.44\\nsamples = 4\\nvalue = 2661.6'),\n",
       " Text(0.6671597633136095, 0.4090909090909091, 'x[6] <= 872.0\\nsquared_error = 417283.473\\nsamples = 622\\nvalue = 2326.646'),\n",
       " Text(0.6590236686390533, 0.3181818181818182, 'x[6] <= 822.5\\nsquared_error = 447817.286\\nsamples = 284\\nvalue = 2423.134'),\n",
       " Text(0.6553254437869822, 0.22727272727272727, 'x[4] <= 2337.0\\nsquared_error = 410586.986\\nsamples = 196\\nvalue = 2328.957'),\n",
       " Text(0.6523668639053254, 0.13636363636363635, 'x[4] <= 419.0\\nsquared_error = 387426.435\\nsamples = 178\\nvalue = 2283.296'),\n",
       " Text(0.650887573964497, 0.045454545454545456, 'squared_error = 479075.375\\nsamples = 53\\nvalue = 2488.107'),\n",
       " Text(0.6538461538461539, 0.045454545454545456, 'squared_error = 335981.407\\nsamples = 125\\nvalue = 2212.181'),\n",
       " Text(0.658284023668639, 0.13636363636363635, 'x[6] <= 723.5\\nsquared_error = 424707.276\\nsamples = 18\\nvalue = 2757.581'),\n",
       " Text(0.6568047337278107, 0.045454545454545456, 'squared_error = 411438.247\\nsamples = 4\\nvalue = 3297.444'),\n",
       " Text(0.6597633136094675, 0.045454545454545456, 'squared_error = 262128.562\\nsamples = 14\\nvalue = 2536.727'),\n",
       " Text(0.6627218934911243, 0.22727272727272727, 'x[6] <= 825.5\\nsquared_error = 468457.165\\nsamples = 88\\nvalue = 2618.781'),\n",
       " Text(0.6612426035502958, 0.13636363636363635, 'squared_error = 300950.768\\nsamples = 7\\nvalue = 3369.765'),\n",
       " Text(0.6642011834319527, 0.13636363636363635, 'x[3] <= 703.5\\nsquared_error = 411058.008\\nsamples = 81\\nvalue = 2526.268'),\n",
       " Text(0.6627218934911243, 0.045454545454545456, 'squared_error = 165585.802\\nsamples = 5\\nvalue = 1744.444'),\n",
       " Text(0.665680473372781, 0.045454545454545456, 'squared_error = 382563.5\\nsamples = 76\\nvalue = 2580.814'),\n",
       " Text(0.6752958579881657, 0.3181818181818182, 'x[6] <= 878.0\\nsquared_error = 373199.828\\nsamples = 338\\nvalue = 2238.644'),\n",
       " Text(0.6715976331360947, 0.22727272727272727, 'x[2] <= 11.752\\nsquared_error = 201772.534\\nsamples = 14\\nvalue = 1839.654'),\n",
       " Text(0.6701183431952663, 0.13636363636363635, 'x[1] <= 10533.5\\nsquared_error = 49889.773\\nsamples = 9\\nvalue = 1612.263'),\n",
       " Text(0.6686390532544378, 0.045454545454545456, 'squared_error = 50400.727\\nsamples = 5\\nvalue = 1503.0'),\n",
       " Text(0.6715976331360947, 0.045454545454545456, 'squared_error = 10200.75\\nsamples = 4\\nvalue = 1762.5'),\n",
       " Text(0.6730769230769231, 0.13636363636363635, 'squared_error = 92739.551\\nsamples = 5\\nvalue = 2456.857'),\n",
       " Text(0.6789940828402367, 0.22727272727272727, 'x[6] <= 892.5\\nsquared_error = 373404.157\\nsamples = 324\\nvalue = 2259.517'),\n",
       " Text(0.6760355029585798, 0.13636363636363635, 'x[2] <= 12.024\\nsquared_error = 351327.34\\nsamples = 26\\nvalue = 2566.6'),\n",
       " Text(0.6745562130177515, 0.045454545454545456, 'squared_error = 326045.264\\nsamples = 22\\nvalue = 2463.971'),\n",
       " Text(0.6775147928994083, 0.045454545454545456, 'squared_error = 96686.806\\nsamples = 4\\nvalue = 3148.167'),\n",
       " Text(0.6819526627218935, 0.13636363636363635, 'x[1] <= 18333.5\\nsquared_error = 366360.226\\nsamples = 298\\nvalue = 2232.639'),\n",
       " Text(0.6804733727810651, 0.045454545454545456, 'squared_error = 348705.195\\nsamples = 294\\nvalue = 2216.778'),\n",
       " Text(0.6834319526627219, 0.045454545454545456, 'squared_error = 445474.204\\nsamples = 4\\nvalue = 3252.286'),\n",
       " Text(0.7518491124260355, 0.6818181818181818, 'x[2] <= 10.435\\nsquared_error = 236949.393\\nsamples = 1126\\nvalue = 1794.092'),\n",
       " Text(0.7161612426035503, 0.5909090909090909, 'x[6] <= 1171.5\\nsquared_error = 218847.059\\nsamples = 809\\nvalue = 1728.001'),\n",
       " Text(0.6956360946745562, 0.5, 'x[9] <= 3689.0\\nsquared_error = 241685.564\\nsamples = 370\\nvalue = 1818.649'),\n",
       " Text(0.6886094674556213, 0.4090909090909091, 'x[6] <= 1070.5\\nsquared_error = 283237.991\\nsamples = 85\\nvalue = 1978.092'),\n",
       " Text(0.6871301775147929, 0.3181818181818182, 'squared_error = 62251.432\\nsamples = 6\\nvalue = 1568.111'),\n",
       " Text(0.6900887573964497, 0.3181818181818182, 'x[6] <= 1075.5\\nsquared_error = 286242.937\\nsamples = 79\\nvalue = 2008.587'),\n",
       " Text(0.6863905325443787, 0.22727272727272727, 'x[2] <= 8.777\\nsquared_error = 435593.806\\nsamples = 8\\nvalue = 2536.167'),\n",
       " Text(0.6849112426035503, 0.13636363636363635, 'squared_error = 512592.56\\nsamples = 4\\nvalue = 3019.8'),\n",
       " Text(0.6878698224852071, 0.13636363636363635, 'squared_error = 94185.061\\nsamples = 4\\nvalue = 2190.714'),\n",
       " Text(0.6937869822485208, 0.22727272727272727, 'x[9] <= 2992.0\\nsquared_error = 235784.103\\nsamples = 71\\nvalue = 1950.505'),\n",
       " Text(0.6908284023668639, 0.13636363636363635, 'x[4] <= 668.5\\nsquared_error = 224198.018\\nsamples = 61\\nvalue = 1905.495'),\n",
       " Text(0.6893491124260355, 0.045454545454545456, 'squared_error = 290350.521\\nsamples = 30\\nvalue = 2049.116'),\n",
       " Text(0.6923076923076923, 0.045454545454545456, 'squared_error = 138333.043\\nsamples = 31\\nvalue = 1786.731'),\n",
       " Text(0.6967455621301775, 0.13636363636363635, 'x[4] <= 1187.0\\nsquared_error = 207373.066\\nsamples = 10\\nvalue = 2255.929'),\n",
       " Text(0.6952662721893491, 0.045454545454545456, 'squared_error = 121591.609\\nsamples = 6\\nvalue = 2015.125'),\n",
       " Text(0.6982248520710059, 0.045454545454545456, 'squared_error = 141346.333\\nsamples = 4\\nvalue = 2577.0'),\n",
       " Text(0.7026627218934911, 0.4090909090909091, 'x[2] <= 7.249\\nsquared_error = 220320.098\\nsamples = 285\\nvalue = 1772.792'),\n",
       " Text(0.7011834319526628, 0.3181818181818182, 'squared_error = 118268.5\\nsamples = 4\\nvalue = 2295.5'),\n",
       " Text(0.7041420118343196, 0.3181818181818182, 'x[2] <= 7.278\\nsquared_error = 217147.216\\nsamples = 281\\nvalue = 1763.374'),\n",
       " Text(0.7026627218934911, 0.22727272727272727, 'squared_error = 19115.633\\nsamples = 4\\nvalue = 1180.714'),\n",
       " Text(0.7056213017751479, 0.22727272727272727, 'x[5] <= 0.5\\nsquared_error = 214794.148\\nsamples = 277\\nvalue = 1772.707'),\n",
       " Text(0.7026627218934911, 0.13636363636363635, 'x[4] <= 135.5\\nsquared_error = 188928.668\\nsamples = 75\\nvalue = 1887.906'),\n",
       " Text(0.7011834319526628, 0.045454545454545456, 'squared_error = 9904.694\\nsamples = 6\\nvalue = 1365.182'),\n",
       " Text(0.7041420118343196, 0.045454545454545456, 'squared_error = 177537.336\\nsamples = 69\\nvalue = 1937.474'),\n",
       " Text(0.7085798816568047, 0.13636363636363635, 'x[0] <= 4299.5\\nsquared_error = 217726.663\\nsamples = 202\\nvalue = 1725.513'),\n",
       " Text(0.7071005917159763, 0.045454545454545456, 'squared_error = 49554.196\\nsamples = 9\\nvalue = 1447.733'),\n",
       " Text(0.7100591715976331, 0.045454545454545456, 'squared_error = 222154.841\\nsamples = 193\\nvalue = 1739.637'),\n",
       " Text(0.7366863905325444, 0.5, 'x[2] <= 9.347\\nsquared_error = 187186.007\\nsamples = 439\\nvalue = 1652.308'),\n",
       " Text(0.7248520710059172, 0.4090909090909091, 'x[4] <= 2770.5\\nsquared_error = 168425.842\\nsamples = 337\\nvalue = 1600.841'),\n",
       " Text(0.7233727810650887, 0.3181818181818182, 'x[6] <= 1191.5\\nsquared_error = 157541.317\\nsamples = 333\\nvalue = 1588.881'),\n",
       " Text(0.7174556213017751, 0.22727272727272727, 'x[2] <= 8.931\\nsquared_error = 48967.068\\nsamples = 42\\nvalue = 1442.551'),\n",
       " Text(0.7144970414201184, 0.13636363636363635, 'x[0] <= 15534.5\\nsquared_error = 48553.85\\nsamples = 32\\nvalue = 1499.037'),\n",
       " Text(0.7130177514792899, 0.045454545454545456, 'squared_error = 38194.042\\nsamples = 28\\nvalue = 1474.28'),\n",
       " Text(0.7159763313609467, 0.045454545454545456, 'squared_error = 74622.75\\nsamples = 4\\nvalue = 1808.5'),\n",
       " Text(0.7204142011834319, 0.13636363636363635, 'x[4] <= 973.5\\nsquared_error = 26565.248\\nsamples = 10\\nvalue = 1315.458'),\n",
       " Text(0.7189349112426036, 0.045454545454545456, 'squared_error = 2448.09\\nsamples = 4\\nvalue = 1189.9'),\n",
       " Text(0.7218934911242604, 0.045454545454545456, 'squared_error = 24487.837\\nsamples = 6\\nvalue = 1405.143'),\n",
       " Text(0.7292899408284024, 0.22727272727272727, 'x[6] <= 1210.5\\nsquared_error = 172006.069\\nsamples = 291\\nvalue = 1614.244'),\n",
       " Text(0.7263313609467456, 0.13636363636363635, 'x[2] <= 8.832\\nsquared_error = 179785.022\\nsamples = 47\\nvalue = 1779.304'),\n",
       " Text(0.7248520710059172, 0.045454545454545456, 'squared_error = 171154.297\\nsamples = 40\\nvalue = 1710.875'),\n",
       " Text(0.727810650887574, 0.045454545454545456, 'squared_error = 111388.462\\nsamples = 7\\nvalue = 2071.267'),\n",
       " Text(0.7322485207100592, 0.13636363636363635, 'x[7] <= 28.5\\nsquared_error = 163312.885\\nsamples = 244\\nvalue = 1579.097'),\n",
       " Text(0.7307692307692307, 0.045454545454545456, 'squared_error = 175422.404\\nsamples = 127\\nvalue = 1642.888'),\n",
       " Text(0.7337278106508875, 0.045454545454545456, 'squared_error = 139779.225\\nsamples = 117\\nvalue = 1506.874'),\n",
       " Text(0.7263313609467456, 0.3181818181818182, 'squared_error = 254196.688\\nsamples = 4\\nvalue = 2390.25'),\n",
       " Text(0.7485207100591716, 0.4090909090909091, 'x[6] <= 1305.0\\nsquared_error = 211464.985\\nsamples = 102\\nvalue = 1823.652'),\n",
       " Text(0.742603550295858, 0.3181818181818182, 'x[6] <= 1296.5\\nsquared_error = 198972.977\\nsamples = 76\\nvalue = 1899.729'),\n",
       " Text(0.7411242603550295, 0.22727272727272727, 'x[6] <= 1234.5\\nsquared_error = 164696.151\\nsamples = 71\\nvalue = 1834.783'),\n",
       " Text(0.7381656804733728, 0.13636363636363635, 'x[6] <= 1222.0\\nsquared_error = 135072.587\\nsamples = 42\\nvalue = 1754.25'),\n",
       " Text(0.7366863905325444, 0.045454545454545456, 'squared_error = 107988.163\\nsamples = 32\\nvalue = 1823.478'),\n",
       " Text(0.7396449704142012, 0.045454545454545456, 'squared_error = 156577.311\\nsamples = 10\\nvalue = 1526.786'),\n",
       " Text(0.7440828402366864, 0.13636363636363635, 'x[6] <= 1280.5\\nsquared_error = 183842.1\\nsamples = 29\\nvalue = 1939.826'),\n",
       " Text(0.742603550295858, 0.045454545454545456, 'squared_error = 130470.518\\nsamples = 20\\nvalue = 2098.414'),\n",
       " Text(0.7455621301775148, 0.045454545454545456, 'squared_error = 158797.149\\nsamples = 9\\nvalue = 1669.294'),\n",
       " Text(0.7440828402366864, 0.22727272727272727, 'squared_error = 135375.243\\nsamples = 5\\nvalue = 2473.417'),\n",
       " Text(0.7544378698224852, 0.3181818181818182, 'x[4] <= 1158.0\\nsquared_error = 186278.707\\nsamples = 26\\nvalue = 1614.884'),\n",
       " Text(0.7514792899408284, 0.22727272727272727, 'x[6] <= 1372.5\\nsquared_error = 89931.746\\nsamples = 15\\nvalue = 1486.846'),\n",
       " Text(0.75, 0.13636363636363635, 'x[7] <= 29.5\\nsquared_error = 83170.0\\nsamples = 11\\nvalue = 1568.0'),\n",
       " Text(0.7485207100591716, 0.045454545454545456, 'squared_error = 55413.471\\nsamples = 7\\nvalue = 1719.273'),\n",
       " Text(0.7514792899408284, 0.045454545454545456, 'squared_error = 34319.633\\nsamples = 4\\nvalue = 1330.286'),\n",
       " Text(0.7529585798816568, 0.13636363636363635, 'squared_error = 56985.938\\nsamples = 4\\nvalue = 1304.25'),\n",
       " Text(0.757396449704142, 0.22727272727272727, 'x[1] <= 13619.0\\nsquared_error = 270213.972\\nsamples = 11\\nvalue = 1810.706'),\n",
       " Text(0.7559171597633136, 0.13636363636363635, 'squared_error = 148656.071\\nsamples = 7\\nvalue = 1749.077'),\n",
       " Text(0.7588757396449705, 0.13636363636363635, 'squared_error = 612815.5\\nsamples = 4\\nvalue = 2011.0'),\n",
       " Text(0.7875369822485208, 0.5909090909090909, 'x[6] <= 1376.5\\nsquared_error = 243320.633\\nsamples = 317\\nvalue = 1964.516'),\n",
       " Text(0.7821745562130178, 0.5, 'x[2] <= 12.271\\nsquared_error = 237950.412\\nsamples = 301\\nvalue = 1987.254'),\n",
       " Text(0.775887573964497, 0.4090909090909091, 'x[2] <= 12.227\\nsquared_error = 238492.584\\nsamples = 289\\nvalue = 2003.638'),\n",
       " Text(0.7707100591715976, 0.3181818181818182, 'x[6] <= 1161.5\\nsquared_error = 235528.853\\nsamples = 280\\nvalue = 1990.995'),\n",
       " Text(0.764792899408284, 0.22727272727272727, 'x[2] <= 11.452\\nsquared_error = 227017.861\\nsamples = 120\\nvalue = 2079.772'),\n",
       " Text(0.7618343195266272, 0.13636363636363635, 'x[4] <= 1782.5\\nsquared_error = 167264.082\\nsamples = 65\\nvalue = 1941.042'),\n",
       " Text(0.7603550295857988, 0.045454545454545456, 'squared_error = 147507.986\\nsamples = 48\\nvalue = 1854.986'),\n",
       " Text(0.7633136094674556, 0.045454545454545456, 'squared_error = 125020.886\\nsamples = 17\\nvalue = 2230.5'),\n",
       " Text(0.7677514792899408, 0.13636363636363635, 'x[0] <= 11845.5\\nsquared_error = 248303.76\\nsamples = 55\\nvalue = 2231.114'),\n",
       " Text(0.7662721893491125, 0.045454545454545456, 'squared_error = 267889.055\\nsamples = 42\\nvalue = 2350.836'),\n",
       " Text(0.7692307692307693, 0.045454545454545456, 'squared_error = 98510.9\\nsamples = 13\\nvalue = 1960.63'),\n",
       " Text(0.7766272189349113, 0.22727272727272727, 'x[3] <= 7571.0\\nsquared_error = 231723.114\\nsamples = 160\\nvalue = 1925.656'),\n",
       " Text(0.7736686390532544, 0.13636363636363635, 'x[2] <= 10.671\\nsquared_error = 178212.467\\nsamples = 63\\nvalue = 1819.45'),\n",
       " Text(0.772189349112426, 0.045454545454545456, 'squared_error = 73872.857\\nsamples = 5\\nvalue = 1376.0'),\n",
       " Text(0.7751479289940828, 0.045454545454545456, 'squared_error = 170150.444\\nsamples = 58\\nvalue = 1852.828'),\n",
       " Text(0.7795857988165681, 0.13636363636363635, 'x[4] <= 2259.5\\nsquared_error = 254863.862\\nsamples = 97\\nvalue = 1996.46'),\n",
       " Text(0.7781065088757396, 0.045454545454545456, 'squared_error = 259595.435\\nsamples = 80\\nvalue = 2047.607'),\n",
       " Text(0.7810650887573964, 0.045454545454545456, 'squared_error = 173186.167\\nsamples = 17\\nvalue = 1773.607'),\n",
       " Text(0.7810650887573964, 0.3181818181818182, 'x[6] <= 1140.0\\nsquared_error = 171801.531\\nsamples = 9\\nvalue = 2395.571'),\n",
       " Text(0.7795857988165681, 0.22727272727272727, 'squared_error = 51701.04\\nsamples = 4\\nvalue = 1996.4'),\n",
       " Text(0.7825443786982249, 0.22727272727272727, 'squared_error = 100824.667\\nsamples = 5\\nvalue = 2617.333'),\n",
       " Text(0.7884615384615384, 0.4090909090909091, 'x[7] <= 29.5\\nsquared_error = 85100.587\\nsamples = 12\\nvalue = 1620.25'),\n",
       " Text(0.7869822485207101, 0.3181818181818182, 'x[6] <= 1212.0\\nsquared_error = 24316.379\\nsamples = 8\\nvalue = 1775.923'),\n",
       " Text(0.7855029585798816, 0.22727272727272727, 'squared_error = 43072.583\\nsamples = 4\\nvalue = 1728.5'),\n",
       " Text(0.7884615384615384, 0.22727272727272727, 'squared_error = 4659.673\\nsamples = 4\\nvalue = 1816.571'),\n",
       " Text(0.7899408284023669, 0.3181818181818182, 'squared_error = 69396.408\\nsamples = 4\\nvalue = 1331.143'),\n",
       " Text(0.7928994082840237, 0.5, 'x[6] <= 1388.0\\nsquared_error = 179998.963\\nsamples = 16\\nvalue = 1584.464'),\n",
       " Text(0.7914201183431953, 0.4090909090909091, 'squared_error = 46504.81\\nsamples = 4\\nvalue = 1212.7'),\n",
       " Text(0.7943786982248521, 0.4090909090909091, 'x[2] <= 11.321\\nsquared_error = 134722.778\\nsamples = 12\\nvalue = 1791.0'),\n",
       " Text(0.7928994082840237, 0.3181818181818182, 'squared_error = 339561.0\\nsamples = 4\\nvalue = 2056.0'),\n",
       " Text(0.7958579881656804, 0.3181818181818182, 'x[2] <= 11.841\\nsquared_error = 50400.633\\nsamples = 8\\nvalue = 1715.286'),\n",
       " Text(0.7943786982248521, 0.22727272727272727, 'squared_error = 17114.472\\nsamples = 4\\nvalue = 1476.833'),\n",
       " Text(0.7973372781065089, 0.22727272727272727, 'squared_error = 737.109\\nsamples = 4\\nvalue = 1894.125'),\n",
       " Text(0.902135724852071, 0.7727272727272727, 'x[6] <= 1016.0\\nsquared_error = 578842.103\\nsamples = 1407\\nvalue = 2495.425'),\n",
       " Text(0.8557230029585798, 0.6818181818181818, 'x[2] <= 14.624\\nsquared_error = 640774.49\\nsamples = 906\\nvalue = 2652.236'),\n",
       " Text(0.8245192307692307, 0.5909090909090909, 'x[6] <= 484.5\\nsquared_error = 443912.246\\nsamples = 499\\nvalue = 2482.256'),\n",
       " Text(0.8091715976331361, 0.5, 'x[5] <= 1.5\\nsquared_error = 303509.563\\nsamples = 66\\nvalue = 2076.317'),\n",
       " Text(0.8002958579881657, 0.4090909090909091, 'x[4] <= 376.5\\nsquared_error = 138166.307\\nsamples = 29\\nvalue = 1849.234'),\n",
       " Text(0.7988165680473372, 0.3181818181818182, 'squared_error = 103921.061\\nsamples = 4\\nvalue = 1447.286'),\n",
       " Text(0.8017751479289941, 0.3181818181818182, 'x[6] <= 99.0\\nsquared_error = 110937.944\\nsamples = 25\\nvalue = 1919.575'),\n",
       " Text(0.8002958579881657, 0.22727272727272727, 'squared_error = 51600.248\\nsamples = 6\\nvalue = 1675.455'),\n",
       " Text(0.8032544378698225, 0.22727272727272727, 'x[3] <= 4356.0\\nsquared_error = 102266.143\\nsamples = 19\\nvalue = 2012.172'),\n",
       " Text(0.8017751479289941, 0.13636363636363635, 'squared_error = 41312.734\\nsamples = 5\\nvalue = 1748.625'),\n",
       " Text(0.8047337278106509, 0.13636363636363635, 'x[2] <= 13.647\\nsquared_error = 88946.626\\nsamples = 14\\nvalue = 2112.571'),\n",
       " Text(0.8032544378698225, 0.045454545454545456, 'squared_error = 86043.234\\nsamples = 10\\nvalue = 2027.375'),\n",
       " Text(0.8062130177514792, 0.045454545454545456, 'squared_error = 684.16\\nsamples = 4\\nvalue = 2385.2'),\n",
       " Text(0.8180473372781065, 0.4090909090909091, 'x[2] <= 14.03\\nsquared_error = 362264.878\\nsamples = 37\\nvalue = 2263.561'),\n",
       " Text(0.8150887573964497, 0.3181818181818182, 'x[4] <= 1957.5\\nsquared_error = 176310.356\\nsamples = 28\\nvalue = 2132.239'),\n",
       " Text(0.8136094674556213, 0.22727272727272727, 'x[2] <= 12.855\\nsquared_error = 93982.439\\nsamples = 24\\nvalue = 2066.0'),\n",
       " Text(0.8106508875739645, 0.13636363636363635, 'x[2] <= 12.586\\nsquared_error = 60602.284\\nsamples = 8\\nvalue = 1824.154'),\n",
       " Text(0.8091715976331361, 0.045454545454545456, 'squared_error = 122923.188\\nsamples = 4\\nvalue = 1975.75'),\n",
       " Text(0.8121301775147929, 0.045454545454545456, 'squared_error = 18150.617\\nsamples = 4\\nvalue = 1756.778'),\n",
       " Text(0.8165680473372781, 0.13636363636363635, 'x[2] <= 13.478\\nsquared_error = 69716.418\\nsamples = 16\\nvalue = 2178.286'),\n",
       " Text(0.8150887573964497, 0.045454545454545456, 'squared_error = 56859.875\\nsamples = 8\\nvalue = 2311.5'),\n",
       " Text(0.8180473372781065, 0.045454545454545456, 'squared_error = 31648.556\\nsamples = 8\\nvalue = 2000.667'),\n",
       " Text(0.8165680473372781, 0.22727272727272727, 'squared_error = 520397.04\\nsamples = 4\\nvalue = 2675.4'),\n",
       " Text(0.8210059171597633, 0.3181818181818182, 'x[6] <= 205.5\\nsquared_error = 766192.017\\nsamples = 9\\nvalue = 2812.727'),\n",
       " Text(0.8195266272189349, 0.22727272727272727, 'squared_error = 395438.556\\nsamples = 4\\nvalue = 2268.667'),\n",
       " Text(0.8224852071005917, 0.22727272727272727, 'squared_error = 429651.04\\nsamples = 5\\nvalue = 3465.6'),\n",
       " Text(0.8398668639053254, 0.5, 'x[6] <= 489.5\\nsquared_error = 436428.275\\nsamples = 433\\nvalue = 2543.797'),\n",
       " Text(0.838387573964497, 0.4090909090909091, 'squared_error = 1491979.959\\nsamples = 4\\nvalue = 3630.571'),\n",
       " Text(0.8413461538461539, 0.4090909090909091, 'x[4] <= 1575.5\\nsquared_error = 413244.713\\nsamples = 429\\nvalue = 2532.594'),\n",
       " Text(0.8313609467455622, 0.3181818181818182, 'x[6] <= 879.5\\nsquared_error = 326642.134\\nsamples = 302\\nvalue = 2472.415'),\n",
       " Text(0.8254437869822485, 0.22727272727272727, 'x[6] <= 745.0\\nsquared_error = 346483.77\\nsamples = 196\\nvalue = 2550.417'),\n",
       " Text(0.8224852071005917, 0.13636363636363635, 'x[6] <= 731.5\\nsquared_error = 263699.508\\nsamples = 115\\nvalue = 2380.302'),\n",
       " Text(0.8210059171597633, 0.045454545454545456, 'squared_error = 256077.157\\nsamples = 109\\nvalue = 2408.512'),\n",
       " Text(0.8239644970414202, 0.045454545454545456, 'squared_error = 145695.49\\nsamples = 6\\nvalue = 1895.1'),\n",
       " Text(0.8284023668639053, 0.13636363636363635, 'x[4] <= 297.0\\nsquared_error = 360690.111\\nsamples = 81\\nvalue = 2812.797'),\n",
       " Text(0.8269230769230769, 0.045454545454545456, 'squared_error = 320445.5\\nsamples = 24\\nvalue = 2590.0'),\n",
       " Text(0.8298816568047337, 0.045454545454545456, 'squared_error = 350322.188\\nsamples = 57\\nvalue = 2895.698'),\n",
       " Text(0.8372781065088757, 0.22727272727272727, 'x[2] <= 13.243\\nsquared_error = 265221.521\\nsamples = 106\\nvalue = 2340.209'),\n",
       " Text(0.834319526627219, 0.13636363636363635, 'x[2] <= 12.565\\nsquared_error = 165267.331\\nsamples = 60\\nvalue = 2224.701'),\n",
       " Text(0.8328402366863905, 0.045454545454545456, 'squared_error = 163990.625\\nsamples = 14\\nvalue = 2448.172'),\n",
       " Text(0.8357988165680473, 0.045454545454545456, 'squared_error = 140271.544\\nsamples = 46\\nvalue = 2141.615'),\n",
       " Text(0.8402366863905325, 0.13636363636363635, 'x[4] <= 693.5\\nsquared_error = 366439.976\\nsamples = 46\\nvalue = 2516.771'),\n",
       " Text(0.8387573964497042, 0.045454545454545456, 'squared_error = 574817.732\\nsamples = 16\\nvalue = 2857.913'),\n",
       " Text(0.841715976331361, 0.045454545454545456, 'squared_error = 179647.631\\nsamples = 30\\nvalue = 2349.83'),\n",
       " Text(0.8513313609467456, 0.3181818181818182, 'x[4] <= 1670.5\\nsquared_error = 589001.528\\nsamples = 127\\nvalue = 2674.698'),\n",
       " Text(0.8476331360946746, 0.22727272727272727, 'x[6] <= 927.5\\nsquared_error = 1382788.41\\nsamples = 16\\nvalue = 3110.25'),\n",
       " Text(0.8461538461538461, 0.13636363636363635, 'x[6] <= 878.5\\nsquared_error = 434606.956\\nsamples = 12\\nvalue = 2815.333'),\n",
       " Text(0.8446745562130178, 0.045454545454545456, 'squared_error = 530244.543\\nsamples = 8\\nvalue = 3044.111'),\n",
       " Text(0.8476331360946746, 0.045454545454545456, 'squared_error = 94878.306\\nsamples = 4\\nvalue = 2472.167'),\n",
       " Text(0.849112426035503, 0.13636363636363635, 'squared_error = 3514420.472\\nsamples = 4\\nvalue = 4584.833'),\n",
       " Text(0.8550295857988166, 0.22727272727272727, 'x[6] <= 973.5\\nsquared_error = 366791.882\\nsamples = 111\\nvalue = 2580.241'),\n",
       " Text(0.8520710059171598, 0.13636363636363635, 'x[6] <= 963.0\\nsquared_error = 372122.667\\nsamples = 96\\nvalue = 2654.596'),\n",
       " Text(0.8505917159763313, 0.045454545454545456, 'squared_error = 346245.173\\nsamples = 91\\nvalue = 2621.992'),\n",
       " Text(0.8535502958579881, 0.045454545454545456, 'squared_error = 510617.556\\nsamples = 5\\nvalue = 3114.667'),\n",
       " Text(0.8579881656804734, 0.13636363636363635, 'x[5] <= 0.5\\nsquared_error = 203943.539\\nsamples = 15\\nvalue = 2243.167'),\n",
       " Text(0.856508875739645, 0.045454545454545456, 'squared_error = 43785.21\\nsamples = 4\\nvalue = 1771.889'),\n",
       " Text(0.8594674556213018, 0.045454545454545456, 'squared_error = 136601.551\\nsamples = 11\\nvalue = 2445.143'),\n",
       " Text(0.886926775147929, 0.5909090909090909, 'x[6] <= 521.5\\nsquared_error = 802424.008\\nsamples = 407\\nvalue = 2859.146'),\n",
       " Text(0.8727810650887574, 0.5, 'x[2] <= 17.2\\nsquared_error = 237757.497\\nsamples = 54\\nvalue = 2248.947'),\n",
       " Text(0.8698224852071006, 0.4090909090909091, 'x[1] <= 13493.5\\nsquared_error = 144392.214\\nsamples = 32\\nvalue = 2067.089'),\n",
       " Text(0.8683431952662722, 0.3181818181818182, 'x[9] <= 12324.0\\nsquared_error = 109490.272\\nsamples = 26\\nvalue = 1997.868'),\n",
       " Text(0.8668639053254438, 0.22727272727272727, 'x[4] <= 1185.0\\nsquared_error = 92155.802\\nsamples = 22\\nvalue = 2079.065'),\n",
       " Text(0.863905325443787, 0.13636363636363635, 'x[7] <= 29.5\\nsquared_error = 57361.823\\nsamples = 13\\nvalue = 1942.421'),\n",
       " Text(0.8624260355029586, 0.045454545454545456, 'squared_error = 28943.89\\nsamples = 8\\nvalue = 2059.1'),\n",
       " Text(0.8653846153846154, 0.045454545454545456, 'squared_error = 57003.284\\nsamples = 5\\nvalue = 1812.778'),\n",
       " Text(0.8698224852071006, 0.13636363636363635, 'x[1] <= 6515.0\\nsquared_error = 70874.91\\nsamples = 9\\nvalue = 2295.417'),\n",
       " Text(0.8683431952662722, 0.045454545454545456, 'squared_error = 55614.222\\nsamples = 4\\nvalue = 2432.333'),\n",
       " Text(0.871301775147929, 0.045454545454545456, 'squared_error = 48643.25\\nsamples = 5\\nvalue = 2158.5'),\n",
       " Text(0.8698224852071006, 0.22727272727272727, 'squared_error = 27760.776\\nsamples = 4\\nvalue = 1638.286'),\n",
       " Text(0.871301775147929, 0.3181818181818182, 'squared_error = 166647.265\\nsamples = 6\\nvalue = 2442.857'),\n",
       " Text(0.8757396449704142, 0.4090909090909091, 'x[8] <= 5923.5\\nsquared_error = 255589.544\\nsamples = 22\\nvalue = 2512.935'),\n",
       " Text(0.8742603550295858, 0.3181818181818182, 'squared_error = 127619.537\\nsamples = 7\\nvalue = 2877.091'),\n",
       " Text(0.8772189349112426, 0.3181818181818182, 'x[4] <= 1287.0\\nsquared_error = 212923.728\\nsamples = 15\\nvalue = 2312.65'),\n",
       " Text(0.8757396449704142, 0.22727272727272727, 'x[6] <= 205.5\\nsquared_error = 78412.265\\nsamples = 10\\nvalue = 2118.857'),\n",
       " Text(0.8742603550295858, 0.13636363636363635, 'squared_error = 17652.984\\nsamples = 5\\nvalue = 1988.625'),\n",
       " Text(0.8772189349112426, 0.13636363636363635, 'squared_error = 106658.917\\nsamples = 5\\nvalue = 2292.5'),\n",
       " Text(0.878698224852071, 0.22727272727272727, 'squared_error = 234684.139\\nsamples = 5\\nvalue = 2764.833'),\n",
       " Text(0.9010724852071006, 0.5, 'x[2] <= 31.644\\nsquared_error = 821382.611\\nsamples = 353\\nvalue = 2940.08'),\n",
       " Text(0.8953402366863905, 0.4090909090909091, 'x[2] <= 21.963\\nsquared_error = 476663.329\\nsamples = 344\\nvalue = 2910.701'),\n",
       " Text(0.8883136094674556, 0.3181818181818182, 'x[4] <= 2122.0\\nsquared_error = 442154.288\\nsamples = 313\\nvalue = 2873.654'),\n",
       " Text(0.8831360946745562, 0.22727272727272727, 'x[6] <= 926.0\\nsquared_error = 371151.778\\nsamples = 262\\nvalue = 2829.307'),\n",
       " Text(0.8801775147928994, 0.13636363636363635, 'x[6] <= 728.0\\nsquared_error = 394371.592\\nsamples = 203\\nvalue = 2886.629'),\n",
       " Text(0.878698224852071, 0.045454545454545456, 'squared_error = 320371.574\\nsamples = 74\\nvalue = 2690.991'),\n",
       " Text(0.8816568047337278, 0.045454545454545456, 'squared_error = 402607.657\\nsamples = 129\\nvalue = 2987.973'),\n",
       " Text(0.886094674556213, 0.13636363636363635, 'x[2] <= 17.948\\nsquared_error = 244510.433\\nsamples = 59\\nvalue = 2636.13'),\n",
       " Text(0.8846153846153846, 0.045454545454545456, 'squared_error = 235056.306\\nsamples = 44\\nvalue = 2569.649'),\n",
       " Text(0.8875739644970414, 0.045454545454545456, 'squared_error = 211829.429\\nsamples = 15\\nvalue = 2858.696'),\n",
       " Text(0.893491124260355, 0.22727272727272727, 'x[6] <= 1005.5\\nsquared_error = 767198.846\\nsamples = 51\\nvalue = 3122.115'),\n",
       " Text(0.8920118343195266, 0.13636363636363635, 'x[4] <= 2194.0\\nsquared_error = 586754.411\\nsamples = 46\\nvalue = 3040.31'),\n",
       " Text(0.8905325443786982, 0.045454545454545456, 'squared_error = 410062.667\\nsamples = 9\\nvalue = 3623.0'),\n",
       " Text(0.893491124260355, 0.045454545454545456, 'squared_error = 539589.823\\nsamples = 37\\nvalue = 2921.797'),\n",
       " Text(0.8949704142011834, 0.13636363636363635, 'squared_error = 1841072.122\\nsamples = 5\\nvalue = 3951.857'),\n",
       " Text(0.9023668639053254, 0.3181818181818182, 'x[2] <= 24.068\\nsquared_error = 675626.9\\nsamples = 31\\nvalue = 3325.457'),\n",
       " Text(0.8994082840236687, 0.22727272727272727, 'x[2] <= 23.446\\nsquared_error = 506685.148\\nsamples = 17\\nvalue = 3636.077'),\n",
       " Text(0.8979289940828402, 0.13636363636363635, 'x[2] <= 22.38\\nsquared_error = 471165.633\\nsamples = 13\\nvalue = 3492.286'),\n",
       " Text(0.8964497041420119, 0.045454545454545456, 'squared_error = 559760.556\\nsamples = 5\\nvalue = 4129.667'),\n",
       " Text(0.8994082840236687, 0.045454545454545456, 'squared_error = 208225.156\\nsamples = 8\\nvalue = 3237.333'),\n",
       " Text(0.900887573964497, 0.13636363636363635, 'squared_error = 204305.2\\nsamples = 4\\nvalue = 4240.0'),\n",
       " Text(0.9053254437869822, 0.22727272727272727, 'x[5] <= 4.0\\nsquared_error = 606760.928\\nsamples = 14\\nvalue = 2921.65'),\n",
       " Text(0.9038461538461539, 0.13636363636363635, 'x[2] <= 25.248\\nsquared_error = 397728.204\\nsamples = 10\\nvalue = 3206.286'),\n",
       " Text(0.9023668639053254, 0.045454545454545456, 'squared_error = 108915.472\\nsamples = 5\\nvalue = 2618.833'),\n",
       " Text(0.9053254437869822, 0.045454545454545456, 'squared_error = 161393.609\\nsamples = 5\\nvalue = 3646.875'),\n",
       " Text(0.9068047337278107, 0.13636363636363635, 'squared_error = 464367.917\\nsamples = 4\\nvalue = 2257.5'),\n",
       " Text(0.9068047337278107, 0.4090909090909091, 'x[6] <= 879.5\\nsquared_error = 15010145.243\\nsamples = 9\\nvalue = 4313.583'),\n",
       " Text(0.9053254437869822, 0.3181818181818182, 'squared_error = 21985532.806\\nsamples = 4\\nvalue = 6304.167'),\n",
       " Text(0.908284023668639, 0.3181818181818182, 'squared_error = 109913.667\\nsamples = 5\\nvalue = 2323.0'),\n",
       " Text(0.9485484467455622, 0.6818181818181818, 'x[6] <= 1222.5\\nsquared_error = 332558.273\\nsamples = 501\\nvalue = 2203.507'),\n",
       " Text(0.9317677514792899, 0.5909090909090909, 'x[2] <= 18.585\\nsquared_error = 328648.218\\nsamples = 325\\nvalue = 2307.47'),\n",
       " Text(0.9219674556213018, 0.5, 'x[9] <= 274.0\\nsquared_error = 271296.337\\nsamples = 287\\nvalue = 2259.141'),\n",
       " Text(0.9204881656804734, 0.4090909090909091, 'squared_error = 1046334.688\\nsamples = 4\\nvalue = 3285.25'),\n",
       " Text(0.9234467455621301, 0.4090909090909091, 'x[0] <= 17210.0\\nsquared_error = 254667.685\\nsamples = 283\\nvalue = 2249.855'),\n",
       " Text(0.9149408284023669, 0.3181818181818182, 'x[6] <= 1124.0\\nsquared_error = 253394.7\\nsamples = 263\\nvalue = 2221.45'),\n",
       " Text(0.9112426035502958, 0.22727272727272727, 'x[9] <= 16671.0\\nsquared_error = 260425.135\\nsamples = 148\\nvalue = 2296.946'),\n",
       " Text(0.9097633136094675, 0.13636363636363635, 'x[7] <= 29.5\\nsquared_error = 258818.54\\nsamples = 141\\nvalue = 2318.426'),\n",
       " Text(0.908284023668639, 0.045454545454545456, 'squared_error = 240994.967\\nsamples = 108\\nvalue = 2378.834'),\n",
       " Text(0.9112426035502958, 0.045454545454545456, 'squared_error = 270079.11\\nsamples = 33\\nvalue = 2151.066'),\n",
       " Text(0.9127218934911243, 0.13636363636363635, 'squared_error = 42683.29\\nsamples = 7\\nvalue = 1802.9'),\n",
       " Text(0.9186390532544378, 0.22727272727272727, 'x[8] <= 10595.0\\nsquared_error = 223328.213\\nsamples = 115\\nvalue = 2112.952'),\n",
       " Text(0.915680473372781, 0.13636363636363635, 'x[3] <= 831.0\\nsquared_error = 185729.815\\nsamples = 71\\nvalue = 1996.454'),\n",
       " Text(0.9142011834319527, 0.045454545454545456, 'squared_error = 226479.5\\nsamples = 4\\nvalue = 2719.0'),\n",
       " Text(0.9171597633136095, 0.045454545454545456, 'squared_error = 160556.579\\nsamples = 67\\nvalue = 1965.376'),\n",
       " Text(0.9215976331360947, 0.13636363636363635, 'x[2] <= 13.375\\nsquared_error = 230561.266\\nsamples = 44\\nvalue = 2274.386'),\n",
       " Text(0.9201183431952663, 0.045454545454545456, 'squared_error = 197210.147\\nsamples = 18\\nvalue = 2038.821'),\n",
       " Text(0.9230769230769231, 0.045454545454545456, 'squared_error = 191139.197\\nsamples = 26\\nvalue = 2431.429'),\n",
       " Text(0.9319526627218935, 0.3181818181818182, 'x[9] <= 17659.0\\nsquared_error = 150979.056\\nsamples = 20\\nvalue = 2580.171'),\n",
       " Text(0.9289940828402367, 0.22727272727272727, 'x[8] <= 17505.5\\nsquared_error = 76305.886\\nsamples = 12\\nvalue = 2770.5'),\n",
       " Text(0.9275147928994083, 0.13636363636363635, 'x[6] <= 1140.5\\nsquared_error = 9138.715\\nsamples = 8\\nvalue = 2633.688'),\n",
       " Text(0.9260355029585798, 0.045454545454545456, 'squared_error = 9215.654\\nsamples = 4\\nvalue = 2587.889'),\n",
       " Text(0.9289940828402367, 0.045454545454545456, 'squared_error = 2875.673\\nsamples = 4\\nvalue = 2692.571'),\n",
       " Text(0.9304733727810651, 0.13636363636363635, 'squared_error = 72401.222\\nsamples = 4\\nvalue = 3135.333'),\n",
       " Text(0.9349112426035503, 0.22727272727272727, 'x[9] <= 18059.5\\nsquared_error = 112300.379\\nsamples = 8\\nvalue = 2258.077'),\n",
       " Text(0.9334319526627219, 0.13636363636363635, 'squared_error = 27951.139\\nsamples = 4\\nvalue = 2009.167'),\n",
       " Text(0.9363905325443787, 0.13636363636363635, 'squared_error = 85975.388\\nsamples = 4\\nvalue = 2471.429'),\n",
       " Text(0.9415680473372781, 0.5, 'x[4] <= 847.0\\nsquared_error = 603543.209\\nsamples = 38\\nvalue = 2655.129'),\n",
       " Text(0.9378698224852071, 0.4090909090909091, 'x[5] <= 0.5\\nsquared_error = 170665.845\\nsamples = 13\\nvalue = 2241.136'),\n",
       " Text(0.9363905325443787, 0.3181818181818182, 'squared_error = 30275.333\\nsamples = 4\\nvalue = 1725.0'),\n",
       " Text(0.9393491124260355, 0.3181818181818182, 'x[4] <= 540.5\\nsquared_error = 85951.465\\nsamples = 9\\nvalue = 2434.688'),\n",
       " Text(0.9378698224852071, 0.22727272727272727, 'squared_error = 52772.438\\nsamples = 5\\nvalue = 2622.25'),\n",
       " Text(0.9408284023668639, 0.22727272727272727, 'squared_error = 48771.109\\nsamples = 4\\nvalue = 2247.125'),\n",
       " Text(0.9452662721893491, 0.4090909090909091, 'x[6] <= 1047.5\\nsquared_error = 695515.844\\nsamples = 25\\nvalue = 2882.825'),\n",
       " Text(0.9437869822485208, 0.3181818181818182, 'squared_error = 643502.75\\nsamples = 4\\nvalue = 2005.5'),\n",
       " Text(0.9467455621301775, 0.3181818181818182, 'x[5] <= 1.5\\nsquared_error = 606270.49\\nsamples = 21\\nvalue = 2980.306'),\n",
       " Text(0.9437869822485208, 0.22727272727272727, 'x[3] <= 7011.0\\nsquared_error = 79688.978\\nsamples = 10\\nvalue = 2576.722'),\n",
       " Text(0.9423076923076923, 0.13636363636363635, 'squared_error = 67573.076\\nsamples = 6\\nvalue = 2448.583'),\n",
       " Text(0.9452662721893491, 0.13636363636363635, 'squared_error = 5403.333\\nsamples = 4\\nvalue = 2833.0'),\n",
       " Text(0.9497041420118343, 0.22727272727272727, 'x[2] <= 21.227\\nsquared_error = 807092.988\\nsamples = 11\\nvalue = 3383.889'),\n",
       " Text(0.9482248520710059, 0.13636363636363635, 'squared_error = 178296.0\\nsamples = 7\\nvalue = 2861.0'),\n",
       " Text(0.9511834319526628, 0.13636363636363635, 'squared_error = 889064.395\\nsamples = 4\\nvalue = 3906.778'),\n",
       " Text(0.9653291420118343, 0.5909090909090909, 'x[4] <= 425.0\\nsquared_error = 279615.503\\nsamples = 176\\nvalue = 2004.211'),\n",
       " Text(0.9556213017751479, 0.5, 'x[0] <= 153.0\\nsquared_error = 189860.451\\nsamples = 36\\nvalue = 1771.551'),\n",
       " Text(0.9541420118343196, 0.4090909090909091, 'squared_error = 248970.24\\nsamples = 5\\nvalue = 2512.6'),\n",
       " Text(0.9571005917159763, 0.4090909090909091, 'x[0] <= 1275.5\\nsquared_error = 113648.27\\nsamples = 31\\nvalue = 1687.341'),\n",
       " Text(0.9556213017751479, 0.3181818181818182, 'squared_error = 84499.234\\nsamples = 5\\nvalue = 1391.375'),\n",
       " Text(0.9585798816568047, 0.3181818181818182, 'x[2] <= 14.557\\nsquared_error = 96334.377\\nsamples = 26\\nvalue = 1753.111'),\n",
       " Text(0.9556213017751479, 0.22727272727272727, 'x[4] <= 318.5\\nsquared_error = 36601.08\\nsamples = 13\\nvalue = 1596.842'),\n",
       " Text(0.9541420118343196, 0.13636363636363635, 'x[2] <= 13.704\\nsquared_error = 13778.29\\nsamples = 8\\nvalue = 1510.1'),\n",
       " Text(0.9526627218934911, 0.045454545454545456, 'squared_error = 12966.333\\nsamples = 4\\nvalue = 1459.0'),\n",
       " Text(0.9556213017751479, 0.045454545454545456, 'squared_error = 5204.188\\nsamples = 4\\nvalue = 1586.75'),\n",
       " Text(0.9571005917159763, 0.13636363636363635, 'squared_error = 44310.395\\nsamples = 5\\nvalue = 1693.222'),\n",
       " Text(0.9615384615384616, 0.22727272727272727, 'x[2] <= 18.639\\nsquared_error = 105298.298\\nsamples = 13\\nvalue = 1927.765'),\n",
       " Text(0.9600591715976331, 0.13636363636363635, 'x[6] <= 1251.0\\nsquared_error = 90013.14\\nsamples = 8\\nvalue = 2057.364'),\n",
       " Text(0.9585798816568047, 0.045454545454545456, 'squared_error = 38837.2\\nsamples = 4\\nvalue = 1879.0'),\n",
       " Text(0.9615384615384616, 0.045454545454545456, 'squared_error = 84055.667\\nsamples = 4\\nvalue = 2206.0'),\n",
       " Text(0.9630177514792899, 0.13636363636363635, 'squared_error = 46075.806\\nsamples = 5\\nvalue = 1690.167'),\n",
       " Text(0.9750369822485208, 0.5, 'x[2] <= 13.621\\nsquared_error = 284911.259\\nsamples = 140\\nvalue = 2056.991'),\n",
       " Text(0.9644970414201184, 0.4090909090909091, 'x[0] <= 1567.5\\nsquared_error = 206512.028\\nsamples = 58\\nvalue = 1918.253'),\n",
       " Text(0.9630177514792899, 0.3181818181818182, 'squared_error = 687833.84\\nsamples = 4\\nvalue = 2459.6'),\n",
       " Text(0.9659763313609467, 0.3181818181818182, 'x[2] <= 12.381\\nsquared_error = 158204.233\\nsamples = 54\\nvalue = 1885.244'),\n",
       " Text(0.9644970414201184, 0.22727272727272727, 'squared_error = 432895.2\\nsamples = 4\\nvalue = 2424.0'),\n",
       " Text(0.9674556213017751, 0.22727272727272727, 'x[4] <= 682.5\\nsquared_error = 120295.335\\nsamples = 50\\nvalue = 1850.26'),\n",
       " Text(0.9659763313609467, 0.13636363636363635, 'squared_error = 73456.84\\nsamples = 7\\nvalue = 1599.6'),\n",
       " Text(0.9689349112426036, 0.13636363636363635, 'x[6] <= 1321.0\\nsquared_error = 116508.847\\nsamples = 43\\nvalue = 1887.672'),\n",
       " Text(0.9674556213017751, 0.045454545454545456, 'squared_error = 103874.549\\nsamples = 23\\nvalue = 1965.865'),\n",
       " Text(0.9704142011834319, 0.045454545454545456, 'squared_error = 115249.979\\nsamples = 20\\nvalue = 1791.233'),\n",
       " Text(0.9855769230769231, 0.4090909090909091, 'x[4] <= 1133.0\\nsquared_error = 316048.96\\nsamples = 82\\nvalue = 2150.558'),\n",
       " Text(0.977810650887574, 0.3181818181818182, 'x[0] <= 12658.5\\nsquared_error = 426989.063\\nsamples = 37\\nvalue = 2330.049'),\n",
       " Text(0.9733727810650887, 0.22727272727272727, 'x[3] <= 3800.0\\nsquared_error = 455918.522\\nsamples = 22\\nvalue = 2553.27'),\n",
       " Text(0.9718934911242604, 0.13636363636363635, 'squared_error = 228656.64\\nsamples = 6\\nvalue = 2144.4'),\n",
       " Text(0.9748520710059172, 0.13636363636363635, 'x[1] <= 8515.0\\nsquared_error = 455240.875\\nsamples = 16\\nvalue = 2704.704'),\n",
       " Text(0.9733727810650887, 0.045454545454545456, 'squared_error = 325025.556\\nsamples = 7\\nvalue = 3017.667'),\n",
       " Text(0.9763313609467456, 0.045454545454545456, 'squared_error = 418371.156\\nsamples = 9\\nvalue = 2454.333'),\n",
       " Text(0.9822485207100592, 0.22727272727272727, 'x[1] <= 16269.5\\nsquared_error = 187144.66\\nsamples = 15\\nvalue = 1985.917'),\n",
       " Text(0.9807692307692307, 0.13636363636363635, 'x[6] <= 1284.5\\nsquared_error = 111558.238\\nsamples = 11\\nvalue = 1822.611'),\n",
       " Text(0.9792899408284024, 0.045454545454545456, 'squared_error = 72308.5\\nsamples = 5\\nvalue = 1585.0'),\n",
       " Text(0.9822485207100592, 0.045454545454545456, 'squared_error = 61657.01\\nsamples = 6\\nvalue = 2012.7'),\n",
       " Text(0.9837278106508875, 0.13636363636363635, 'squared_error = 93879.472\\nsamples = 4\\nvalue = 2475.833'),\n",
       " Text(0.9933431952662722, 0.3181818181818182, 'x[9] <= 15306.5\\nsquared_error = 161703.072\\nsamples = 45\\nvalue = 1989.544'),\n",
       " Text(0.9896449704142012, 0.22727272727272727, 'x[2] <= 14.205\\nsquared_error = 170112.883\\nsamples = 36\\nvalue = 2049.786'),\n",
       " Text(0.9866863905325444, 0.13636363636363635, 'x[4] <= 1671.0\\nsquared_error = 82151.772\\nsamples = 10\\nvalue = 1844.588'),\n",
       " Text(0.985207100591716, 0.045454545454545456, 'squared_error = 47820.321\\nsamples = 6\\nvalue = 1684.889'),\n",
       " Text(0.9881656804733728, 0.045454545454545456, 'squared_error = 59804.438\\nsamples = 4\\nvalue = 2024.25'),\n",
       " Text(0.992603550295858, 0.13636363636363635, 'x[6] <= 1267.0\\nsquared_error = 182100.588\\nsamples = 26\\nvalue = 2139.231'),\n",
       " Text(0.9911242603550295, 0.045454545454545456, 'squared_error = 49079.021\\nsamples = 7\\nvalue = 1920.75'),\n",
       " Text(0.9940828402366864, 0.045454545454545456, 'squared_error = 210577.333\\nsamples = 19\\nvalue = 2236.333'),\n",
       " Text(0.9970414201183432, 0.22727272727272727, 'x[5] <= 4.0\\nsquared_error = 26489.076\\nsamples = 9\\nvalue = 1708.417'),\n",
       " Text(0.9955621301775148, 0.13636363636363635, 'squared_error = 33255.918\\nsamples = 5\\nvalue = 1653.714'),\n",
       " Text(0.9985207100591716, 0.13636363636363635, 'squared_error = 6961.2\\nsamples = 4\\nvalue = 1785.0')]"
      ]
     },
     "execution_count": 22,
     "metadata": {},
     "output_type": "execute_result"
    },
    {
     "name": "stdout",
     "output_type": "stream",
     "text": [
      "Error in callback <function _draw_all_if_interactive at 0x00000261B4E6B7E0> (for post_execute), with arguments args (),kwargs {}:\n"
     ]
    },
    {
     "ename": "KeyboardInterrupt",
     "evalue": "",
     "output_type": "error",
     "traceback": [
      "\u001b[1;31m---------------------------------------------------------------------------\u001b[0m",
      "\u001b[1;31mKeyboardInterrupt\u001b[0m                         Traceback (most recent call last)",
      "File \u001b[1;32m~\\AppData\\Local\\Packages\\PythonSoftwareFoundation.Python.3.11_qbz5n2kfra8p0\\LocalCache\\local-packages\\Python311\\site-packages\\matplotlib\\pyplot.py:265\u001b[0m, in \u001b[0;36m_draw_all_if_interactive\u001b[1;34m()\u001b[0m\n\u001b[0;32m    263\u001b[0m \u001b[38;5;28;01mdef\u001b[39;00m \u001b[38;5;21m_draw_all_if_interactive\u001b[39m() \u001b[38;5;241m-\u001b[39m\u001b[38;5;241m>\u001b[39m \u001b[38;5;28;01mNone\u001b[39;00m:\n\u001b[0;32m    264\u001b[0m     \u001b[38;5;28;01mif\u001b[39;00m matplotlib\u001b[38;5;241m.\u001b[39mis_interactive():\n\u001b[1;32m--> 265\u001b[0m         \u001b[43mdraw_all\u001b[49m\u001b[43m(\u001b[49m\u001b[43m)\u001b[49m\n",
      "File \u001b[1;32m~\\AppData\\Local\\Packages\\PythonSoftwareFoundation.Python.3.11_qbz5n2kfra8p0\\LocalCache\\local-packages\\Python311\\site-packages\\matplotlib\\_pylab_helpers.py:131\u001b[0m, in \u001b[0;36mGcf.draw_all\u001b[1;34m(cls, force)\u001b[0m\n\u001b[0;32m    129\u001b[0m \u001b[38;5;28;01mfor\u001b[39;00m manager \u001b[38;5;129;01min\u001b[39;00m \u001b[38;5;28mcls\u001b[39m\u001b[38;5;241m.\u001b[39mget_all_fig_managers():\n\u001b[0;32m    130\u001b[0m     \u001b[38;5;28;01mif\u001b[39;00m force \u001b[38;5;129;01mor\u001b[39;00m manager\u001b[38;5;241m.\u001b[39mcanvas\u001b[38;5;241m.\u001b[39mfigure\u001b[38;5;241m.\u001b[39mstale:\n\u001b[1;32m--> 131\u001b[0m         \u001b[43mmanager\u001b[49m\u001b[38;5;241;43m.\u001b[39;49m\u001b[43mcanvas\u001b[49m\u001b[38;5;241;43m.\u001b[39;49m\u001b[43mdraw_idle\u001b[49m\u001b[43m(\u001b[49m\u001b[43m)\u001b[49m\n",
      "File \u001b[1;32m~\\AppData\\Local\\Packages\\PythonSoftwareFoundation.Python.3.11_qbz5n2kfra8p0\\LocalCache\\local-packages\\Python311\\site-packages\\matplotlib\\backend_bases.py:1919\u001b[0m, in \u001b[0;36mFigureCanvasBase.draw_idle\u001b[1;34m(self, *args, **kwargs)\u001b[0m\n\u001b[0;32m   1917\u001b[0m \u001b[38;5;28;01mif\u001b[39;00m \u001b[38;5;129;01mnot\u001b[39;00m \u001b[38;5;28mself\u001b[39m\u001b[38;5;241m.\u001b[39m_is_idle_drawing:\n\u001b[0;32m   1918\u001b[0m     \u001b[38;5;28;01mwith\u001b[39;00m \u001b[38;5;28mself\u001b[39m\u001b[38;5;241m.\u001b[39m_idle_draw_cntx():\n\u001b[1;32m-> 1919\u001b[0m         \u001b[38;5;28;43mself\u001b[39;49m\u001b[38;5;241;43m.\u001b[39;49m\u001b[43mdraw\u001b[49m\u001b[43m(\u001b[49m\u001b[38;5;241;43m*\u001b[39;49m\u001b[43margs\u001b[49m\u001b[43m,\u001b[49m\u001b[43m \u001b[49m\u001b[38;5;241;43m*\u001b[39;49m\u001b[38;5;241;43m*\u001b[39;49m\u001b[43mkwargs\u001b[49m\u001b[43m)\u001b[49m\n",
      "File \u001b[1;32m~\\AppData\\Local\\Packages\\PythonSoftwareFoundation.Python.3.11_qbz5n2kfra8p0\\LocalCache\\local-packages\\Python311\\site-packages\\matplotlib\\backends\\backend_agg.py:387\u001b[0m, in \u001b[0;36mFigureCanvasAgg.draw\u001b[1;34m(self)\u001b[0m\n\u001b[0;32m    384\u001b[0m \u001b[38;5;66;03m# Acquire a lock on the shared font cache.\u001b[39;00m\n\u001b[0;32m    385\u001b[0m \u001b[38;5;28;01mwith\u001b[39;00m (\u001b[38;5;28mself\u001b[39m\u001b[38;5;241m.\u001b[39mtoolbar\u001b[38;5;241m.\u001b[39m_wait_cursor_for_draw_cm() \u001b[38;5;28;01mif\u001b[39;00m \u001b[38;5;28mself\u001b[39m\u001b[38;5;241m.\u001b[39mtoolbar\n\u001b[0;32m    386\u001b[0m       \u001b[38;5;28;01melse\u001b[39;00m nullcontext()):\n\u001b[1;32m--> 387\u001b[0m     \u001b[38;5;28;43mself\u001b[39;49m\u001b[38;5;241;43m.\u001b[39;49m\u001b[43mfigure\u001b[49m\u001b[38;5;241;43m.\u001b[39;49m\u001b[43mdraw\u001b[49m\u001b[43m(\u001b[49m\u001b[38;5;28;43mself\u001b[39;49m\u001b[38;5;241;43m.\u001b[39;49m\u001b[43mrenderer\u001b[49m\u001b[43m)\u001b[49m\n\u001b[0;32m    388\u001b[0m     \u001b[38;5;66;03m# A GUI class may be need to update a window using this draw, so\u001b[39;00m\n\u001b[0;32m    389\u001b[0m     \u001b[38;5;66;03m# don't forget to call the superclass.\u001b[39;00m\n\u001b[0;32m    390\u001b[0m     \u001b[38;5;28msuper\u001b[39m()\u001b[38;5;241m.\u001b[39mdraw()\n",
      "File \u001b[1;32m~\\AppData\\Local\\Packages\\PythonSoftwareFoundation.Python.3.11_qbz5n2kfra8p0\\LocalCache\\local-packages\\Python311\\site-packages\\matplotlib\\artist.py:95\u001b[0m, in \u001b[0;36m_finalize_rasterization.<locals>.draw_wrapper\u001b[1;34m(artist, renderer, *args, **kwargs)\u001b[0m\n\u001b[0;32m     93\u001b[0m \u001b[38;5;129m@wraps\u001b[39m(draw)\n\u001b[0;32m     94\u001b[0m \u001b[38;5;28;01mdef\u001b[39;00m \u001b[38;5;21mdraw_wrapper\u001b[39m(artist, renderer, \u001b[38;5;241m*\u001b[39margs, \u001b[38;5;241m*\u001b[39m\u001b[38;5;241m*\u001b[39mkwargs):\n\u001b[1;32m---> 95\u001b[0m     result \u001b[38;5;241m=\u001b[39m \u001b[43mdraw\u001b[49m\u001b[43m(\u001b[49m\u001b[43martist\u001b[49m\u001b[43m,\u001b[49m\u001b[43m \u001b[49m\u001b[43mrenderer\u001b[49m\u001b[43m,\u001b[49m\u001b[43m \u001b[49m\u001b[38;5;241;43m*\u001b[39;49m\u001b[43margs\u001b[49m\u001b[43m,\u001b[49m\u001b[43m \u001b[49m\u001b[38;5;241;43m*\u001b[39;49m\u001b[38;5;241;43m*\u001b[39;49m\u001b[43mkwargs\u001b[49m\u001b[43m)\u001b[49m\n\u001b[0;32m     96\u001b[0m     \u001b[38;5;28;01mif\u001b[39;00m renderer\u001b[38;5;241m.\u001b[39m_rasterizing:\n\u001b[0;32m     97\u001b[0m         renderer\u001b[38;5;241m.\u001b[39mstop_rasterizing()\n",
      "File \u001b[1;32m~\\AppData\\Local\\Packages\\PythonSoftwareFoundation.Python.3.11_qbz5n2kfra8p0\\LocalCache\\local-packages\\Python311\\site-packages\\matplotlib\\artist.py:72\u001b[0m, in \u001b[0;36mallow_rasterization.<locals>.draw_wrapper\u001b[1;34m(artist, renderer)\u001b[0m\n\u001b[0;32m     69\u001b[0m     \u001b[38;5;28;01mif\u001b[39;00m artist\u001b[38;5;241m.\u001b[39mget_agg_filter() \u001b[38;5;129;01mis\u001b[39;00m \u001b[38;5;129;01mnot\u001b[39;00m \u001b[38;5;28;01mNone\u001b[39;00m:\n\u001b[0;32m     70\u001b[0m         renderer\u001b[38;5;241m.\u001b[39mstart_filter()\n\u001b[1;32m---> 72\u001b[0m     \u001b[38;5;28;01mreturn\u001b[39;00m \u001b[43mdraw\u001b[49m\u001b[43m(\u001b[49m\u001b[43martist\u001b[49m\u001b[43m,\u001b[49m\u001b[43m \u001b[49m\u001b[43mrenderer\u001b[49m\u001b[43m)\u001b[49m\n\u001b[0;32m     73\u001b[0m \u001b[38;5;28;01mfinally\u001b[39;00m:\n\u001b[0;32m     74\u001b[0m     \u001b[38;5;28;01mif\u001b[39;00m artist\u001b[38;5;241m.\u001b[39mget_agg_filter() \u001b[38;5;129;01mis\u001b[39;00m \u001b[38;5;129;01mnot\u001b[39;00m \u001b[38;5;28;01mNone\u001b[39;00m:\n",
      "File \u001b[1;32m~\\AppData\\Local\\Packages\\PythonSoftwareFoundation.Python.3.11_qbz5n2kfra8p0\\LocalCache\\local-packages\\Python311\\site-packages\\matplotlib\\figure.py:3155\u001b[0m, in \u001b[0;36mFigure.draw\u001b[1;34m(self, renderer)\u001b[0m\n\u001b[0;32m   3152\u001b[0m             \u001b[38;5;66;03m# ValueError can occur when resizing a window.\u001b[39;00m\n\u001b[0;32m   3154\u001b[0m     \u001b[38;5;28mself\u001b[39m\u001b[38;5;241m.\u001b[39mpatch\u001b[38;5;241m.\u001b[39mdraw(renderer)\n\u001b[1;32m-> 3155\u001b[0m     \u001b[43mmimage\u001b[49m\u001b[38;5;241;43m.\u001b[39;49m\u001b[43m_draw_list_compositing_images\u001b[49m\u001b[43m(\u001b[49m\n\u001b[0;32m   3156\u001b[0m \u001b[43m        \u001b[49m\u001b[43mrenderer\u001b[49m\u001b[43m,\u001b[49m\u001b[43m \u001b[49m\u001b[38;5;28;43mself\u001b[39;49m\u001b[43m,\u001b[49m\u001b[43m \u001b[49m\u001b[43martists\u001b[49m\u001b[43m,\u001b[49m\u001b[43m \u001b[49m\u001b[38;5;28;43mself\u001b[39;49m\u001b[38;5;241;43m.\u001b[39;49m\u001b[43msuppressComposite\u001b[49m\u001b[43m)\u001b[49m\n\u001b[0;32m   3158\u001b[0m     renderer\u001b[38;5;241m.\u001b[39mclose_group(\u001b[38;5;124m'\u001b[39m\u001b[38;5;124mfigure\u001b[39m\u001b[38;5;124m'\u001b[39m)\n\u001b[0;32m   3159\u001b[0m \u001b[38;5;28;01mfinally\u001b[39;00m:\n",
      "File \u001b[1;32m~\\AppData\\Local\\Packages\\PythonSoftwareFoundation.Python.3.11_qbz5n2kfra8p0\\LocalCache\\local-packages\\Python311\\site-packages\\matplotlib\\image.py:132\u001b[0m, in \u001b[0;36m_draw_list_compositing_images\u001b[1;34m(renderer, parent, artists, suppress_composite)\u001b[0m\n\u001b[0;32m    130\u001b[0m \u001b[38;5;28;01mif\u001b[39;00m not_composite \u001b[38;5;129;01mor\u001b[39;00m \u001b[38;5;129;01mnot\u001b[39;00m has_images:\n\u001b[0;32m    131\u001b[0m     \u001b[38;5;28;01mfor\u001b[39;00m a \u001b[38;5;129;01min\u001b[39;00m artists:\n\u001b[1;32m--> 132\u001b[0m         \u001b[43ma\u001b[49m\u001b[38;5;241;43m.\u001b[39;49m\u001b[43mdraw\u001b[49m\u001b[43m(\u001b[49m\u001b[43mrenderer\u001b[49m\u001b[43m)\u001b[49m\n\u001b[0;32m    133\u001b[0m \u001b[38;5;28;01melse\u001b[39;00m:\n\u001b[0;32m    134\u001b[0m     \u001b[38;5;66;03m# Composite any adjacent images together\u001b[39;00m\n\u001b[0;32m    135\u001b[0m     image_group \u001b[38;5;241m=\u001b[39m []\n",
      "File \u001b[1;32m~\\AppData\\Local\\Packages\\PythonSoftwareFoundation.Python.3.11_qbz5n2kfra8p0\\LocalCache\\local-packages\\Python311\\site-packages\\matplotlib\\artist.py:72\u001b[0m, in \u001b[0;36mallow_rasterization.<locals>.draw_wrapper\u001b[1;34m(artist, renderer)\u001b[0m\n\u001b[0;32m     69\u001b[0m     \u001b[38;5;28;01mif\u001b[39;00m artist\u001b[38;5;241m.\u001b[39mget_agg_filter() \u001b[38;5;129;01mis\u001b[39;00m \u001b[38;5;129;01mnot\u001b[39;00m \u001b[38;5;28;01mNone\u001b[39;00m:\n\u001b[0;32m     70\u001b[0m         renderer\u001b[38;5;241m.\u001b[39mstart_filter()\n\u001b[1;32m---> 72\u001b[0m     \u001b[38;5;28;01mreturn\u001b[39;00m \u001b[43mdraw\u001b[49m\u001b[43m(\u001b[49m\u001b[43martist\u001b[49m\u001b[43m,\u001b[49m\u001b[43m \u001b[49m\u001b[43mrenderer\u001b[49m\u001b[43m)\u001b[49m\n\u001b[0;32m     73\u001b[0m \u001b[38;5;28;01mfinally\u001b[39;00m:\n\u001b[0;32m     74\u001b[0m     \u001b[38;5;28;01mif\u001b[39;00m artist\u001b[38;5;241m.\u001b[39mget_agg_filter() \u001b[38;5;129;01mis\u001b[39;00m \u001b[38;5;129;01mnot\u001b[39;00m \u001b[38;5;28;01mNone\u001b[39;00m:\n",
      "File \u001b[1;32m~\\AppData\\Local\\Packages\\PythonSoftwareFoundation.Python.3.11_qbz5n2kfra8p0\\LocalCache\\local-packages\\Python311\\site-packages\\matplotlib\\axes\\_base.py:3109\u001b[0m, in \u001b[0;36m_AxesBase.draw\u001b[1;34m(self, renderer)\u001b[0m\n\u001b[0;32m   3106\u001b[0m \u001b[38;5;28;01mif\u001b[39;00m artists_rasterized:\n\u001b[0;32m   3107\u001b[0m     _draw_rasterized(\u001b[38;5;28mself\u001b[39m\u001b[38;5;241m.\u001b[39mfigure, artists_rasterized, renderer)\n\u001b[1;32m-> 3109\u001b[0m \u001b[43mmimage\u001b[49m\u001b[38;5;241;43m.\u001b[39;49m\u001b[43m_draw_list_compositing_images\u001b[49m\u001b[43m(\u001b[49m\n\u001b[0;32m   3110\u001b[0m \u001b[43m    \u001b[49m\u001b[43mrenderer\u001b[49m\u001b[43m,\u001b[49m\u001b[43m \u001b[49m\u001b[38;5;28;43mself\u001b[39;49m\u001b[43m,\u001b[49m\u001b[43m \u001b[49m\u001b[43martists\u001b[49m\u001b[43m,\u001b[49m\u001b[43m \u001b[49m\u001b[38;5;28;43mself\u001b[39;49m\u001b[38;5;241;43m.\u001b[39;49m\u001b[43mfigure\u001b[49m\u001b[38;5;241;43m.\u001b[39;49m\u001b[43msuppressComposite\u001b[49m\u001b[43m)\u001b[49m\n\u001b[0;32m   3112\u001b[0m renderer\u001b[38;5;241m.\u001b[39mclose_group(\u001b[38;5;124m'\u001b[39m\u001b[38;5;124maxes\u001b[39m\u001b[38;5;124m'\u001b[39m)\n\u001b[0;32m   3113\u001b[0m \u001b[38;5;28mself\u001b[39m\u001b[38;5;241m.\u001b[39mstale \u001b[38;5;241m=\u001b[39m \u001b[38;5;28;01mFalse\u001b[39;00m\n",
      "File \u001b[1;32m~\\AppData\\Local\\Packages\\PythonSoftwareFoundation.Python.3.11_qbz5n2kfra8p0\\LocalCache\\local-packages\\Python311\\site-packages\\matplotlib\\image.py:132\u001b[0m, in \u001b[0;36m_draw_list_compositing_images\u001b[1;34m(renderer, parent, artists, suppress_composite)\u001b[0m\n\u001b[0;32m    130\u001b[0m \u001b[38;5;28;01mif\u001b[39;00m not_composite \u001b[38;5;129;01mor\u001b[39;00m \u001b[38;5;129;01mnot\u001b[39;00m has_images:\n\u001b[0;32m    131\u001b[0m     \u001b[38;5;28;01mfor\u001b[39;00m a \u001b[38;5;129;01min\u001b[39;00m artists:\n\u001b[1;32m--> 132\u001b[0m         \u001b[43ma\u001b[49m\u001b[38;5;241;43m.\u001b[39;49m\u001b[43mdraw\u001b[49m\u001b[43m(\u001b[49m\u001b[43mrenderer\u001b[49m\u001b[43m)\u001b[49m\n\u001b[0;32m    133\u001b[0m \u001b[38;5;28;01melse\u001b[39;00m:\n\u001b[0;32m    134\u001b[0m     \u001b[38;5;66;03m# Composite any adjacent images together\u001b[39;00m\n\u001b[0;32m    135\u001b[0m     image_group \u001b[38;5;241m=\u001b[39m []\n",
      "File \u001b[1;32m~\\AppData\\Local\\Packages\\PythonSoftwareFoundation.Python.3.11_qbz5n2kfra8p0\\LocalCache\\local-packages\\Python311\\site-packages\\matplotlib\\artist.py:72\u001b[0m, in \u001b[0;36mallow_rasterization.<locals>.draw_wrapper\u001b[1;34m(artist, renderer)\u001b[0m\n\u001b[0;32m     69\u001b[0m     \u001b[38;5;28;01mif\u001b[39;00m artist\u001b[38;5;241m.\u001b[39mget_agg_filter() \u001b[38;5;129;01mis\u001b[39;00m \u001b[38;5;129;01mnot\u001b[39;00m \u001b[38;5;28;01mNone\u001b[39;00m:\n\u001b[0;32m     70\u001b[0m         renderer\u001b[38;5;241m.\u001b[39mstart_filter()\n\u001b[1;32m---> 72\u001b[0m     \u001b[38;5;28;01mreturn\u001b[39;00m \u001b[43mdraw\u001b[49m\u001b[43m(\u001b[49m\u001b[43martist\u001b[49m\u001b[43m,\u001b[49m\u001b[43m \u001b[49m\u001b[43mrenderer\u001b[49m\u001b[43m)\u001b[49m\n\u001b[0;32m     73\u001b[0m \u001b[38;5;28;01mfinally\u001b[39;00m:\n\u001b[0;32m     74\u001b[0m     \u001b[38;5;28;01mif\u001b[39;00m artist\u001b[38;5;241m.\u001b[39mget_agg_filter() \u001b[38;5;129;01mis\u001b[39;00m \u001b[38;5;129;01mnot\u001b[39;00m \u001b[38;5;28;01mNone\u001b[39;00m:\n",
      "File \u001b[1;32m~\\AppData\\Local\\Packages\\PythonSoftwareFoundation.Python.3.11_qbz5n2kfra8p0\\LocalCache\\local-packages\\Python311\\site-packages\\matplotlib\\text.py:1984\u001b[0m, in \u001b[0;36mAnnotation.draw\u001b[1;34m(self, renderer)\u001b[0m\n\u001b[0;32m   1981\u001b[0m     \u001b[38;5;28;01mreturn\u001b[39;00m\n\u001b[0;32m   1982\u001b[0m \u001b[38;5;66;03m# Update text positions before `Text.draw` would, so that the\u001b[39;00m\n\u001b[0;32m   1983\u001b[0m \u001b[38;5;66;03m# FancyArrowPatch is correctly positioned.\u001b[39;00m\n\u001b[1;32m-> 1984\u001b[0m \u001b[38;5;28;43mself\u001b[39;49m\u001b[38;5;241;43m.\u001b[39;49m\u001b[43mupdate_positions\u001b[49m\u001b[43m(\u001b[49m\u001b[43mrenderer\u001b[49m\u001b[43m)\u001b[49m\n\u001b[0;32m   1985\u001b[0m \u001b[38;5;28mself\u001b[39m\u001b[38;5;241m.\u001b[39mupdate_bbox_position_size(renderer)\n\u001b[0;32m   1986\u001b[0m \u001b[38;5;28;01mif\u001b[39;00m \u001b[38;5;28mself\u001b[39m\u001b[38;5;241m.\u001b[39marrow_patch \u001b[38;5;129;01mis\u001b[39;00m \u001b[38;5;129;01mnot\u001b[39;00m \u001b[38;5;28;01mNone\u001b[39;00m:  \u001b[38;5;66;03m# FancyArrowPatch\u001b[39;00m\n",
      "File \u001b[1;32m~\\AppData\\Local\\Packages\\PythonSoftwareFoundation.Python.3.11_qbz5n2kfra8p0\\LocalCache\\local-packages\\Python311\\site-packages\\matplotlib\\text.py:1921\u001b[0m, in \u001b[0;36mAnnotation.update_positions\u001b[1;34m(self, renderer)\u001b[0m\n\u001b[0;32m   1918\u001b[0m \u001b[38;5;28;01mif\u001b[39;00m arrowprops \u001b[38;5;129;01mis\u001b[39;00m \u001b[38;5;28;01mNone\u001b[39;00m:\n\u001b[0;32m   1919\u001b[0m     \u001b[38;5;28;01mreturn\u001b[39;00m\n\u001b[1;32m-> 1921\u001b[0m bbox \u001b[38;5;241m=\u001b[39m \u001b[43mText\u001b[49m\u001b[38;5;241;43m.\u001b[39;49m\u001b[43mget_window_extent\u001b[49m\u001b[43m(\u001b[49m\u001b[38;5;28;43mself\u001b[39;49m\u001b[43m,\u001b[49m\u001b[43m \u001b[49m\u001b[43mrenderer\u001b[49m\u001b[43m)\u001b[49m\n\u001b[0;32m   1923\u001b[0m arrow_end \u001b[38;5;241m=\u001b[39m x1, y1 \u001b[38;5;241m=\u001b[39m \u001b[38;5;28mself\u001b[39m\u001b[38;5;241m.\u001b[39m_get_position_xy(renderer)  \u001b[38;5;66;03m# Annotated pos.\u001b[39;00m\n\u001b[0;32m   1925\u001b[0m ms \u001b[38;5;241m=\u001b[39m arrowprops\u001b[38;5;241m.\u001b[39mget(\u001b[38;5;124m\"\u001b[39m\u001b[38;5;124mmutation_scale\u001b[39m\u001b[38;5;124m\"\u001b[39m, \u001b[38;5;28mself\u001b[39m\u001b[38;5;241m.\u001b[39mget_size())\n",
      "File \u001b[1;32m~\\AppData\\Local\\Packages\\PythonSoftwareFoundation.Python.3.11_qbz5n2kfra8p0\\LocalCache\\local-packages\\Python311\\site-packages\\matplotlib\\text.py:956\u001b[0m, in \u001b[0;36mText.get_window_extent\u001b[1;34m(self, renderer, dpi)\u001b[0m\n\u001b[0;32m    951\u001b[0m     \u001b[38;5;28;01mraise\u001b[39;00m \u001b[38;5;167;01mRuntimeError\u001b[39;00m(\n\u001b[0;32m    952\u001b[0m         \u001b[38;5;124m\"\u001b[39m\u001b[38;5;124mCannot get window extent of text w/o renderer. You likely \u001b[39m\u001b[38;5;124m\"\u001b[39m\n\u001b[0;32m    953\u001b[0m         \u001b[38;5;124m\"\u001b[39m\u001b[38;5;124mwant to call \u001b[39m\u001b[38;5;124m'\u001b[39m\u001b[38;5;124mfigure.draw_without_rendering()\u001b[39m\u001b[38;5;124m'\u001b[39m\u001b[38;5;124m first.\u001b[39m\u001b[38;5;124m\"\u001b[39m)\n\u001b[0;32m    955\u001b[0m \u001b[38;5;28;01mwith\u001b[39;00m cbook\u001b[38;5;241m.\u001b[39m_setattr_cm(\u001b[38;5;28mself\u001b[39m\u001b[38;5;241m.\u001b[39mfigure, dpi\u001b[38;5;241m=\u001b[39mdpi):\n\u001b[1;32m--> 956\u001b[0m     bbox, info, descent \u001b[38;5;241m=\u001b[39m \u001b[38;5;28;43mself\u001b[39;49m\u001b[38;5;241;43m.\u001b[39;49m\u001b[43m_get_layout\u001b[49m\u001b[43m(\u001b[49m\u001b[38;5;28;43mself\u001b[39;49m\u001b[38;5;241;43m.\u001b[39;49m\u001b[43m_renderer\u001b[49m\u001b[43m)\u001b[49m\n\u001b[0;32m    957\u001b[0m     x, y \u001b[38;5;241m=\u001b[39m \u001b[38;5;28mself\u001b[39m\u001b[38;5;241m.\u001b[39mget_unitless_position()\n\u001b[0;32m    958\u001b[0m     x, y \u001b[38;5;241m=\u001b[39m \u001b[38;5;28mself\u001b[39m\u001b[38;5;241m.\u001b[39mget_transform()\u001b[38;5;241m.\u001b[39mtransform((x, y))\n",
      "File \u001b[1;32m~\\AppData\\Local\\Packages\\PythonSoftwareFoundation.Python.3.11_qbz5n2kfra8p0\\LocalCache\\local-packages\\Python311\\site-packages\\matplotlib\\text.py:381\u001b[0m, in \u001b[0;36mText._get_layout\u001b[1;34m(self, renderer)\u001b[0m\n\u001b[0;32m    379\u001b[0m clean_line, ismath \u001b[38;5;241m=\u001b[39m \u001b[38;5;28mself\u001b[39m\u001b[38;5;241m.\u001b[39m_preprocess_math(line)\n\u001b[0;32m    380\u001b[0m \u001b[38;5;28;01mif\u001b[39;00m clean_line:\n\u001b[1;32m--> 381\u001b[0m     w, h, d \u001b[38;5;241m=\u001b[39m \u001b[43m_get_text_metrics_with_cache\u001b[49m\u001b[43m(\u001b[49m\n\u001b[0;32m    382\u001b[0m \u001b[43m        \u001b[49m\u001b[43mrenderer\u001b[49m\u001b[43m,\u001b[49m\u001b[43m \u001b[49m\u001b[43mclean_line\u001b[49m\u001b[43m,\u001b[49m\u001b[43m \u001b[49m\u001b[38;5;28;43mself\u001b[39;49m\u001b[38;5;241;43m.\u001b[39;49m\u001b[43m_fontproperties\u001b[49m\u001b[43m,\u001b[49m\n\u001b[0;32m    383\u001b[0m \u001b[43m        \u001b[49m\u001b[43mismath\u001b[49m\u001b[38;5;241;43m=\u001b[39;49m\u001b[43mismath\u001b[49m\u001b[43m,\u001b[49m\u001b[43m \u001b[49m\u001b[43mdpi\u001b[49m\u001b[38;5;241;43m=\u001b[39;49m\u001b[38;5;28;43mself\u001b[39;49m\u001b[38;5;241;43m.\u001b[39;49m\u001b[43mfigure\u001b[49m\u001b[38;5;241;43m.\u001b[39;49m\u001b[43mdpi\u001b[49m\u001b[43m)\u001b[49m\n\u001b[0;32m    384\u001b[0m \u001b[38;5;28;01melse\u001b[39;00m:\n\u001b[0;32m    385\u001b[0m     w \u001b[38;5;241m=\u001b[39m h \u001b[38;5;241m=\u001b[39m d \u001b[38;5;241m=\u001b[39m \u001b[38;5;241m0\u001b[39m\n",
      "File \u001b[1;32m~\\AppData\\Local\\Packages\\PythonSoftwareFoundation.Python.3.11_qbz5n2kfra8p0\\LocalCache\\local-packages\\Python311\\site-packages\\matplotlib\\text.py:69\u001b[0m, in \u001b[0;36m_get_text_metrics_with_cache\u001b[1;34m(renderer, text, fontprop, ismath, dpi)\u001b[0m\n\u001b[0;32m     66\u001b[0m \u001b[38;5;250m\u001b[39m\u001b[38;5;124;03m\"\"\"Call ``renderer.get_text_width_height_descent``, caching the results.\"\"\"\u001b[39;00m\n\u001b[0;32m     67\u001b[0m \u001b[38;5;66;03m# Cached based on a copy of fontprop so that later in-place mutations of\u001b[39;00m\n\u001b[0;32m     68\u001b[0m \u001b[38;5;66;03m# the passed-in argument do not mess up the cache.\u001b[39;00m\n\u001b[1;32m---> 69\u001b[0m \u001b[38;5;28;01mreturn\u001b[39;00m \u001b[43m_get_text_metrics_with_cache_impl\u001b[49m\u001b[43m(\u001b[49m\n\u001b[0;32m     70\u001b[0m \u001b[43m    \u001b[49m\u001b[43mweakref\u001b[49m\u001b[38;5;241;43m.\u001b[39;49m\u001b[43mref\u001b[49m\u001b[43m(\u001b[49m\u001b[43mrenderer\u001b[49m\u001b[43m)\u001b[49m\u001b[43m,\u001b[49m\u001b[43m \u001b[49m\u001b[43mtext\u001b[49m\u001b[43m,\u001b[49m\u001b[43m \u001b[49m\u001b[43mfontprop\u001b[49m\u001b[38;5;241;43m.\u001b[39;49m\u001b[43mcopy\u001b[49m\u001b[43m(\u001b[49m\u001b[43m)\u001b[49m\u001b[43m,\u001b[49m\u001b[43m \u001b[49m\u001b[43mismath\u001b[49m\u001b[43m,\u001b[49m\u001b[43m \u001b[49m\u001b[43mdpi\u001b[49m\u001b[43m)\u001b[49m\n",
      "File \u001b[1;32m~\\AppData\\Local\\Packages\\PythonSoftwareFoundation.Python.3.11_qbz5n2kfra8p0\\LocalCache\\local-packages\\Python311\\site-packages\\matplotlib\\text.py:77\u001b[0m, in \u001b[0;36m_get_text_metrics_with_cache_impl\u001b[1;34m(renderer_ref, text, fontprop, ismath, dpi)\u001b[0m\n\u001b[0;32m     73\u001b[0m \u001b[38;5;129m@functools\u001b[39m\u001b[38;5;241m.\u001b[39mlru_cache(\u001b[38;5;241m4096\u001b[39m)\n\u001b[0;32m     74\u001b[0m \u001b[38;5;28;01mdef\u001b[39;00m \u001b[38;5;21m_get_text_metrics_with_cache_impl\u001b[39m(\n\u001b[0;32m     75\u001b[0m         renderer_ref, text, fontprop, ismath, dpi):\n\u001b[0;32m     76\u001b[0m     \u001b[38;5;66;03m# dpi is unused, but participates in cache invalidation (via the renderer).\u001b[39;00m\n\u001b[1;32m---> 77\u001b[0m     \u001b[38;5;28;01mreturn\u001b[39;00m \u001b[43mrenderer_ref\u001b[49m\u001b[43m(\u001b[49m\u001b[43m)\u001b[49m\u001b[38;5;241;43m.\u001b[39;49m\u001b[43mget_text_width_height_descent\u001b[49m\u001b[43m(\u001b[49m\u001b[43mtext\u001b[49m\u001b[43m,\u001b[49m\u001b[43m \u001b[49m\u001b[43mfontprop\u001b[49m\u001b[43m,\u001b[49m\u001b[43m \u001b[49m\u001b[43mismath\u001b[49m\u001b[43m)\u001b[49m\n",
      "File \u001b[1;32m~\\AppData\\Local\\Packages\\PythonSoftwareFoundation.Python.3.11_qbz5n2kfra8p0\\LocalCache\\local-packages\\Python311\\site-packages\\matplotlib\\backends\\backend_agg.py:220\u001b[0m, in \u001b[0;36mRendererAgg.get_text_width_height_descent\u001b[1;34m(self, s, prop, ismath)\u001b[0m\n\u001b[0;32m    217\u001b[0m     \u001b[38;5;28;01mreturn\u001b[39;00m width, height, descent\n\u001b[0;32m    219\u001b[0m font \u001b[38;5;241m=\u001b[39m \u001b[38;5;28mself\u001b[39m\u001b[38;5;241m.\u001b[39m_prepare_font(prop)\n\u001b[1;32m--> 220\u001b[0m \u001b[43mfont\u001b[49m\u001b[38;5;241;43m.\u001b[39;49m\u001b[43mset_text\u001b[49m\u001b[43m(\u001b[49m\u001b[43ms\u001b[49m\u001b[43m,\u001b[49m\u001b[43m \u001b[49m\u001b[38;5;241;43m0.0\u001b[39;49m\u001b[43m,\u001b[49m\u001b[43m \u001b[49m\u001b[43mflags\u001b[49m\u001b[38;5;241;43m=\u001b[39;49m\u001b[43mget_hinting_flag\u001b[49m\u001b[43m(\u001b[49m\u001b[43m)\u001b[49m\u001b[43m)\u001b[49m\n\u001b[0;32m    221\u001b[0m w, h \u001b[38;5;241m=\u001b[39m font\u001b[38;5;241m.\u001b[39mget_width_height()  \u001b[38;5;66;03m# width and height of unrotated string\u001b[39;00m\n\u001b[0;32m    222\u001b[0m d \u001b[38;5;241m=\u001b[39m font\u001b[38;5;241m.\u001b[39mget_descent()\n",
      "\u001b[1;31mKeyboardInterrupt\u001b[0m: "
     ]
    }
   ],
   "source": [
    "from sklearn import tree\n",
    "tree.plot_tree(model.estimators_[0])"
   ]
  },
  {
   "cell_type": "code",
   "execution_count": null,
   "metadata": {},
   "outputs": [],
   "source": []
  }
 ],
 "metadata": {
  "kernelspec": {
   "display_name": "Python 3",
   "language": "python",
   "name": "python3"
  },
  "language_info": {
   "codemirror_mode": {
    "name": "ipython",
    "version": 3
   },
   "file_extension": ".py",
   "mimetype": "text/x-python",
   "name": "python",
   "nbconvert_exporter": "python",
   "pygments_lexer": "ipython3",
   "version": "3.11.9"
  }
 },
 "nbformat": 4,
 "nbformat_minor": 2
}
