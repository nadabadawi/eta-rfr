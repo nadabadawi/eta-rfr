{
 "cells": [
  {
   "cell_type": "code",
   "execution_count": 2,
   "metadata": {},
   "outputs": [],
   "source": [
    "import pandas as pd\n",
    "import json\n",
    "\n",
    "data = []\n",
    "\n",
    "# filename = 'Cleaning/trial_week/clean_data/clean_2024-01-28.json'\n",
    "filename = 'Splitting/truncated_trips.json'\n",
    "\n",
    "with open(filename, 'r') as file:\n",
    "    for line in file:\n",
    "        data.append(json.loads(line))\n",
    "\n",
    "\n",
    "# Create a DataFrame from the data\n",
    "df = pd.DataFrame(data)"
   ]
  },
  {
   "cell_type": "code",
   "execution_count": 5,
   "metadata": {},
   "outputs": [],
   "source": [
    "# Specify the trip_id you want to filter\n",
    "trip_id = \"78402eb2e68429261fb738f24a846b42c089d22512d8777806b31ca7462a1163\"\n",
    "\n",
    "# Filter the DataFrame for the given trip_id\n",
    "data = df[df['trip_id'] == trip_id]\n",
    "\n",
    "lats = data['lats']\n",
    "lngs = data['lngs']\n",
    "time_gap = data['time_gap']\n",
    "\n",
    "\n",
    "# lats = eval(lats)\n",
    "# lngs = eval(lngs)\n",
    "# time_gap = eval(time_gap)\n",
    "\n",
    "\n",
    "if len(lats) == len(lngs) == len(time_gap):\n",
    "    # Create a DataFrame with time_gap, lats, and lngs as columns and elements in the lists are expanded into different rows\n",
    "    transposed_df = pd.DataFrame({\n",
    "        'time_gap': [item for sublist in time_gap for item in sublist],\n",
    "        'lats': [item for sublist in lats for item in sublist],\n",
    "        'lngs': [item for sublist in lngs for item in sublist]\n",
    "    })\n",
    "    transposed_df.to_csv(\"trip_test_000c3d26955.csv\", index=False)\n",
    "\n",
    "else:\n",
    "    print(\"Error: Arrays must be of the same length.\")"
   ]
  },
  {
   "cell_type": "code",
   "execution_count": null,
   "metadata": {},
   "outputs": [],
   "source": []
  }
 ],
 "metadata": {
  "kernelspec": {
   "display_name": "Python 3",
   "language": "python",
   "name": "python3"
  },
  "language_info": {
   "codemirror_mode": {
    "name": "ipython",
    "version": 3
   },
   "file_extension": ".py",
   "mimetype": "text/x-python",
   "name": "python",
   "nbconvert_exporter": "python",
   "pygments_lexer": "ipython3",
   "version": "3.11.9"
  }
 },
 "nbformat": 4,
 "nbformat_minor": 2
}
