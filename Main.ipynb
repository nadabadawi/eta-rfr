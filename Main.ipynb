{
 "cells": [
  {
   "cell_type": "code",
   "execution_count": null,
   "metadata": {},
   "outputs": [],
   "source": [
    "import nbformat\n",
    "from nbconvert.preprocessors import ExecutePreprocessor\n",
    "\n",
    "def run_notebook(notebook_path, kernel_name='rfr1'):\n",
    "\n",
    "    with open(notebook_path, 'r', encoding='utf-8') as f:\n",
    "        notebook = nbformat.read(f, as_version=4)\n",
    "\n",
    "    execute_preprocessor = ExecutePreprocessor(kernel_name=kernel_name)\n",
    "\n",
    "    try:\n",
    "        execute_preprocessor.preprocess(notebook, {'metadata': {'path': './'}})\n",
    "        print(f\"Successfully executed: {notebook_path}\")\n",
    "    except Exception as e:\n",
    "        print(f\"Error executing {notebook_path}: {e}\")\n",
    "    \n",
    "    return notebook\n",
    "\n",
    "\n",
    "notebooks_to_run = [\n",
    "    # 'Cleaning and Splitting.ipynb',  # Step 1\n",
    "    'Clustering and RFR.ipynb',  # Step 2\n",
    "    'XBGoost.ipynb',  # Step 3\n",
    "    'Linear Regressor.ipynb',  # Step 4\n",
    "]\n",
    "\n",
    "\n",
    "for notebook_path in notebooks_to_run:\n",
    "    print(f\"Running notebook: {notebook_path}\")\n",
    "    run_notebook(notebook_path)"
   ]
  }
 ],
 "metadata": {
  "kernelspec": {
   "display_name": "rfr1",
   "language": "python",
   "name": "python3"
  },
  "language_info": {
   "name": "python",
   "version": "3.11.10"
  }
 },
 "nbformat": 4,
 "nbformat_minor": 2
}
