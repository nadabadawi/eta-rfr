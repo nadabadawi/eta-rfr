{
 "cells": [
  {
   "cell_type": "code",
   "execution_count": 1,
   "metadata": {},
   "outputs": [
    {
     "name": "stdout",
     "output_type": "stream",
     "text": [
      "Converted 'anon_order_id_merchant_id/anon/part-12.parquet' to 'merchants_csv/merchants_0.csv'\n",
      "Converted 'anon_order_id_merchant_id/anon/part-4.parquet' to 'merchants_csv/merchants_1.csv'\n",
      "Converted 'anon_order_id_merchant_id/anon/part-11.parquet' to 'merchants_csv/merchants_2.csv'\n",
      "Converted 'anon_order_id_merchant_id/anon/part-1.parquet' to 'merchants_csv/merchants_3.csv'\n",
      "Converted 'anon_order_id_merchant_id/anon/part-14.parquet' to 'merchants_csv/merchants_4.csv'\n",
      "Converted 'anon_order_id_merchant_id/anon/part-3.parquet' to 'merchants_csv/merchants_5.csv'\n",
      "Converted 'anon_order_id_merchant_id/anon/part-10.parquet' to 'merchants_csv/merchants_6.csv'\n",
      "Converted 'anon_order_id_merchant_id/anon/part-5.parquet' to 'merchants_csv/merchants_7.csv'\n",
      "Converted 'anon_order_id_merchant_id/anon/part-9.parquet' to 'merchants_csv/merchants_8.csv'\n",
      "Converted 'anon_order_id_merchant_id/anon/part-8.parquet' to 'merchants_csv/merchants_9.csv'\n",
      "Converted 'anon_order_id_merchant_id/anon/part-0.parquet' to 'merchants_csv/merchants_10.csv'\n",
      "Converted 'anon_order_id_merchant_id/anon/part-6.parquet' to 'merchants_csv/merchants_11.csv'\n",
      "Converted 'anon_order_id_merchant_id/anon/part-13.parquet' to 'merchants_csv/merchants_12.csv'\n",
      "Converted 'anon_order_id_merchant_id/anon/part-7.parquet' to 'merchants_csv/merchants_13.csv'\n",
      "Converted 'anon_order_id_merchant_id/anon/part-2.parquet' to 'merchants_csv/merchants_14.csv'\n"
     ]
    }
   ],
   "source": [
    "import pandas as pd\n",
    "import os\n",
    "\n",
    "def convert_parquet_to_csv(parquet_file, csv_file):\n",
    "    # Read the parquet file\n",
    "    df = pd.read_parquet(parquet_file)\n",
    "    \n",
    "    # Save as a CSV file\n",
    "    df.to_csv(csv_file, index=False)\n",
    "    print(f\"Converted '{parquet_file}' to '{csv_file}'\")\n",
    "\n",
    "def convert_all_parquet_in_folder(folder_path):\n",
    "    # List all parquet files in the directory\n",
    "    parquet_files = [f for f in os.listdir(folder_path) if f.endswith('.parquet')]\n",
    "    \n",
    "    # Iterate with index\n",
    "    for index, file_name in enumerate(parquet_files):\n",
    "        parquet_file_path = os.path.join(folder_path, file_name)\n",
    "        csv_file_name = f\"merchants_{index}.csv\"\n",
    "        csv_file_path = os.path.join(csv_folder_path, csv_file_name)\n",
    "        convert_parquet_to_csv(parquet_file_path, csv_file_path)\n",
    "\n",
    "if __name__ == \"__main__\":\n",
    "    # Specify the path to your folder containing parquet files\n",
    "    parquet_folder_path = \"anon_order_id_merchant_id/anon/\"  # Change this to your folder path\n",
    "    csv_folder_path= \"merchants_csv/\"\n",
    "    \n",
    "    convert_all_parquet_in_folder(parquet_folder_path)\n"
   ]
  }
 ],
 "metadata": {
  "kernelspec": {
   "display_name": "Python 3",
   "language": "python",
   "name": "python3"
  },
  "language_info": {
   "codemirror_mode": {
    "name": "ipython",
    "version": 3
   },
   "file_extension": ".py",
   "mimetype": "text/x-python",
   "name": "python",
   "nbconvert_exporter": "python",
   "pygments_lexer": "ipython3",
   "version": "3.10.12"
  }
 },
 "nbformat": 4,
 "nbformat_minor": 2
}
