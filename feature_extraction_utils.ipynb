{
 "cells": [
  {
   "cell_type": "code",
   "execution_count": 1,
   "metadata": {},
   "outputs": [
    {
     "name": "stdout",
     "output_type": "stream",
     "text": [
      "Column Headers:\n",
      "dateID, dist, dist_gap, driverID, lats, lngs, time, timeID, time_diff, time_gap, trip_id, weekID\n"
     ]
    }
   ],
   "source": [
    "import json\n",
    "\n",
    "def extract_column_headers(file_path):\n",
    "    headers = set()\n",
    "\n",
    "    with open(file_path, 'r') as file:\n",
    "        for line in file:\n",
    "            json_obj = json.loads(line.strip())\n",
    "            headers.update(json_obj.keys())\n",
    "\n",
    "    return sorted(headers)\n",
    "\n",
    "def print_column_headers(file_path):\n",
    "    headers = extract_column_headers(file_path)\n",
    "    print(\"Column Headers:\")\n",
    "    print(\", \".join(headers))\n",
    "\n",
    "if __name__ == \"__main__\":\n",
    "    # Replace 'your_file.json' with the path to your JSON file\n",
    "    json_file_path = 'clean_trips.json'\n",
    "    print_column_headers(json_file_path)\n"
   ]
  },
  {
   "cell_type": "code",
   "execution_count": null,
   "metadata": {},
   "outputs": [],
   "source": [
    "import pandas as pd\n",
    "import numpy as np\n",
    "\n",
    "# Assuming df is your DataFrame\n",
    "\n",
    "# Decompose dateID\n",
    "df['year'] = pd.to_datetime(df['dateID']).dt.year\n",
    "df['month'] = pd.to_datetime(df['dateID']).dt.month\n",
    "df['day'] = pd.to_datetime(df['dateID']).dt.day\n",
    "df['day_of_week'] = pd.to_datetime(df['dateID']).dt.dayofweek\n",
    "df['is_weekend'] = df['day_of_week'].apply(lambda x: 1 if x >= 5 else 0)\n",
    "\n",
    "# Calculate speed from dist and time_gap\n",
    "df['speed'] = df['dist'] / df['time_gap']\n",
    "\n",
    "# Extract hour from time\n",
    "df['hour'] = pd.to_datetime(df['time']).dt.hour\n",
    "\n",
    "# Cyclical time features\n",
    "df['hour_sin'] = np.sin(2 * np.pi * df['hour'] / 24)\n",
    "df['hour_cos'] = np.cos(2 * np.pi * df['hour'] / 24)\n",
    "\n",
    "# Geospatial Feature Example: Calculate distance from a fixed point (latitude, longitude)\n",
    "from geopy.distance import great_circle\n",
    "fixed_point = (40.7128, -74.0060)  # Example: New York City coordinates\n",
    "df['dist_to_nyc'] = df.apply(lambda row: great_circle((row['lats'], row['lngs']), fixed_point).kilometers, axis=1)\n",
    "\n",
    "# Driver Aggregation Example\n",
    "driver_agg = df.groupby('driverID').agg({\n",
    "    'dist': 'mean',\n",
    "    'time_gap': 'mean'\n",
    "}).reset_index()\n",
    "driver_agg.columns = ['driverID', 'avg_dist_per_driver', 'avg_time_gap_per_driver']\n",
    "\n",
    "df = df.merge(driver_agg, on='driverID', how='left')\n"
   ]
  }
 ],
 "metadata": {
  "kernelspec": {
   "display_name": "Python 3",
   "language": "python",
   "name": "python3"
  },
  "language_info": {
   "codemirror_mode": {
    "name": "ipython",
    "version": 3
   },
   "file_extension": ".py",
   "mimetype": "text/x-python",
   "name": "python",
   "nbconvert_exporter": "python",
   "pygments_lexer": "ipython3",
   "version": "3.11.9"
  }
 },
 "nbformat": 4,
 "nbformat_minor": 2
}
