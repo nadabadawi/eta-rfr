{
 "cells": [
  {
   "cell_type": "markdown",
   "metadata": {},
   "source": [
    "### Import Libraries"
   ]
  },
  {
   "cell_type": "code",
   "execution_count": 5,
   "metadata": {},
   "outputs": [],
   "source": [
    "import os\n",
    "import json\n",
    "import pandas as pd\n",
    "import numpy as np\n",
    "from sklearn.linear_model import LinearRegression\n",
    "from sklearn.model_selection import train_test_split\n",
    "from sklearn.metrics import mean_squared_error, mean_absolute_error, r2_score\n",
    "import matplotlib.pyplot as plt"
   ]
  },
  {
   "cell_type": "markdown",
   "metadata": {},
   "source": [
    "### Load Data"
   ]
  },
  {
   "cell_type": "code",
   "execution_count": 6,
   "metadata": {},
   "outputs": [],
   "source": [
    "groundtruth_dir = 'Data/clean_data/'  \n",
    "groundtruth_data = []\n",
    "\n",
    "\n",
    "for file_name in os.listdir(groundtruth_dir):\n",
    "    if file_name.endswith('.json'):\n",
    "        with open(os.path.join(groundtruth_dir, file_name), 'r') as file:\n",
    "            for line in file:\n",
    "                try:\n",
    "                    entry = json.loads(line)\n",
    "                    # Extract trip_id and time (ground truth)\n",
    "                    groundtruth_data.append({\n",
    "                        'trip_id': entry['trip_id'],\n",
    "                        'actual_eta': entry['time']  \n",
    "                    })\n",
    "                except json.JSONDecodeError as e:\n",
    "                    print(f\"Error decoding JSON in {file_name}: {e}\")\n",
    "\n",
    "\n",
    "groundtruth_df = pd.DataFrame(groundtruth_data)"
   ]
  },
  {
   "cell_type": "code",
   "execution_count": 7,
   "metadata": {},
   "outputs": [],
   "source": [
    "# Load RFR and XGBoost prediction files\n",
    "rfr_predictions = pd.read_csv('Model Predictions/rfr_predictions.csv')  \n",
    "xgb_predictions = pd.read_csv('Model Predictions/xgboost_predictions.csv')  \n",
    "\n",
    "xgb_predictions.rename(columns={'predicted_eta': 'xgb_time'}, inplace=True)\n",
    "\n",
    "if 'segment_id' in rfr_predictions.columns:\n",
    "    rfr_pivot = rfr_predictions.pivot_table(index='trip_id', columns='segment_id', values='predicted_eta').reset_index()\n",
    "\n",
    "    # Rename columns for each trip segment\n",
    "    rfr_pivot.columns = ['trip_id', 'rfr_time_1', 'rfr_time_3']\n",
    "else:\n",
    "    raise KeyError(\"'segment_id' column not found in rfr_predictions. Ensure it exists.\")\n",
    "\n",
    "# Merge the RFR and XGBoost predictions with ground truth data\n",
    "combined_df = (\n",
    "    pd.merge(rfr_pivot, xgb_predictions[['trip_id', 'xgb_time']], on='trip_id', how='inner')\n",
    "    .merge(groundtruth_df, on='trip_id', how='inner')\n",
    ")\n",
    "\n",
    "combined_df['total_predicted_eta'] = combined_df['rfr_time_1'] + combined_df['rfr_time_3'] + combined_df['xgb_time']"
   ]
  },
  {
   "cell_type": "code",
   "execution_count": 8,
   "metadata": {},
   "outputs": [
    {
     "data": {
      "text/plain": [
       "trip_id                   0\n",
       "rfr_time_1             2413\n",
       "rfr_time_3               34\n",
       "xgb_time                  0\n",
       "actual_eta                0\n",
       "total_predicted_eta    2447\n",
       "dtype: int64"
      ]
     },
     "execution_count": 8,
     "metadata": {},
     "output_type": "execute_result"
    }
   ],
   "source": [
    "combined_df.isnull().sum()"
   ]
  },
  {
   "cell_type": "code",
   "execution_count": 9,
   "metadata": {},
   "outputs": [],
   "source": [
    "# drop rows where rfr_time_3 is null\n",
    "combined_df = combined_df.dropna(subset=['rfr_time_3'])"
   ]
  },
  {
   "cell_type": "code",
   "execution_count": 10,
   "metadata": {},
   "outputs": [],
   "source": [
    "# fill missing values (segment 1) with the 0 \n",
    "combined_df = combined_df.fillna(0)"
   ]
  },
  {
   "cell_type": "markdown",
   "metadata": {},
   "source": [
    "### Modeling"
   ]
  },
  {
   "cell_type": "code",
   "execution_count": 11,
   "metadata": {},
   "outputs": [
    {
     "name": "stdout",
     "output_type": "stream",
     "text": [
      "Meta-Model Metrics:\n",
      "RMSE: 335.73160642222365\n",
      "MAE: 256.82727407844243\n",
      "R² Score: 0.7282188676474799\n",
      "\n",
      "Stacked ETA predictions saved to 'meta_predictions.csv\n",
      "\n",
      "                                             trip_id  rfr_time_1   rfr_time_3  \\\n",
      "0  00035b05d1d9853649aee8e61cd4739d34081a3da332ec...  221.147383   365.806606   \n",
      "1  0005758f5a026edab89e6ff5e8c5b23f083d70bf7847c3...  387.468525   787.671406   \n",
      "2  0007ca27a8887c6c4b3a4fd3db733f20f509fca465571c...    0.000000  1163.013926   \n",
      "3  000875dad0cfe307ce5f1e2c000ab58ea3c95db15314bf...  144.474385   721.106135   \n",
      "4  00107faefd34084c4ed4f477151f344cd65db0e04bd889...  129.427563   925.410898   \n",
      "\n",
      "    xgb_time  actual_eta  total_predicted_eta  final_predicted_eta  \n",
      "0  346.70334      1047.0           933.657329          1009.453528  \n",
      "1  626.53670      2121.0          1801.676631          1874.148243  \n",
      "2  449.51437      1952.0             0.000000          1757.973550  \n",
      "3  407.58182      1030.0          1273.162340          1375.994263  \n",
      "4  469.47784      1428.0          1524.316302          1640.023924  \n"
     ]
    }
   ],
   "source": [
    "X = combined_df[['rfr_time_1', 'rfr_time_3', 'xgb_time']]  \n",
    "y = combined_df['actual_eta']  \n",
    "\n",
    "X_train, X_test, y_train, y_test = train_test_split(X, y, test_size=0.2, random_state=42)\n",
    "\n",
    "# Meta-model training\n",
    "meta_model = LinearRegression()\n",
    "meta_model.fit(X_train, y_train)\n",
    "\n",
    "y_pred = meta_model.predict(X_test)\n",
    "\n",
    "# Calculate evaluation metrics\n",
    "rmse = np.sqrt(mean_squared_error(y_test, y_pred))\n",
    "mae = mean_absolute_error(y_test, y_pred)\n",
    "r2 = r2_score(y_test, y_pred)\n",
    "\n",
    "# Print the metrics\n",
    "print(\"Meta-Model Metrics:\")\n",
    "print(f\"RMSE: {rmse}\")\n",
    "print(f\"MAE: {mae}\")\n",
    "print(f\"R² Score: {r2}\\n\")\n",
    "\n",
    "# Save the combined results with predicted ETA to a CSV file\n",
    "combined_df['final_predicted_eta'] = meta_model.predict(X)\n",
    "combined_df.to_csv('Model Predictions/final_predictions.csv', index=False)\n",
    "print(\"Stacked ETA predictions saved to 'meta_predictions.csv\\n\")\n",
    "\n",
    "print(combined_df.head())"
   ]
  },
  {
   "cell_type": "markdown",
   "metadata": {},
   "source": [
    "### Feature Importance"
   ]
  },
  {
   "cell_type": "code",
   "execution_count": 13,
   "metadata": {},
   "outputs": [
    {
     "name": "stdout",
     "output_type": "stream",
     "text": [
      "Feature Importance for Linear Regression Model:\n",
      "      feature  coefficient\n",
      "2    xgb_time     1.382629\n",
      "1  rfr_time_3     0.914237\n",
      "0  rfr_time_1     0.553776\n"
     ]
    },
    {
     "data": {
      "image/png": "[encoded data removed]",
      "text/plain": [
       "<Figure size 1000x600 with 1 Axes>"
      ]
     },
     "metadata": {},
     "output_type": "display_data"
    }
   ],
   "source": [
    "# Get the feature coefficients from the trained meta-model\n",
    "coefficients = meta_model.coef_\n",
    "\n",
    "\n",
    "feature_importance_df = pd.DataFrame({\n",
    "    'feature': X.columns,  \n",
    "    'coefficient': coefficients\n",
    "})\n",
    "\n",
    "# Sort by the absolute value of coefficients for better interpretation\n",
    "feature_importance_df['abs_coefficient'] = np.abs(feature_importance_df['coefficient'])\n",
    "feature_importance_df = feature_importance_df.sort_values(by='abs_coefficient', ascending=False)\n",
    "\n",
    "# Display the feature importance\n",
    "print(\"Feature Importance for Linear Regression Model:\")\n",
    "print(feature_importance_df[['feature', 'coefficient']])\n",
    "\n",
    "\n",
    "plt.figure(figsize=(10, 6))\n",
    "plt.barh(feature_importance_df['feature'], feature_importance_df['coefficient'], color='lightblue')\n",
    "plt.xlabel('Coefficient Value')\n",
    "plt.ylabel('Feature')\n",
    "plt.title('Feature Importance for Meta-Model')\n",
    "plt.gca().invert_yaxis()  # Highest importance at the top\n",
    "plt.show()\n"
   ]
  }
 ],
 "metadata": {
  "kernelspec": {
   "display_name": "base",
   "language": "python",
   "name": "python3"
  },
  "language_info": {
   "codemirror_mode": {
    "name": "ipython",
    "version": 3
   },
   "file_extension": ".py",
   "mimetype": "text/x-python",
   "name": "python",
   "nbconvert_exporter": "python",
   "pygments_lexer": "ipython3",
   "version": "3.12.7"
  }
 },
 "nbformat": 4,
 "nbformat_minor": 2
}
