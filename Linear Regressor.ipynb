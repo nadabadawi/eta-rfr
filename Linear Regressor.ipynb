{
 "cells": [
  {
   "cell_type": "markdown",
   "metadata": {},
   "source": [
    "### Import Libraries"
   ]
  },
  {
   "cell_type": "code",
   "execution_count": 1,
   "metadata": {},
   "outputs": [],
   "source": [
    "import os\n",
    "import json\n",
    "import pandas as pd\n",
    "import numpy as np\n",
    "from sklearn.linear_model import LinearRegression\n",
    "from sklearn.model_selection import train_test_split\n",
    "from sklearn.metrics import mean_squared_error, mean_absolute_error, r2_score\n",
    "import matplotlib.pyplot as plt"
   ]
  },
  {
   "cell_type": "markdown",
   "metadata": {},
   "source": [
    "### Load Data"
   ]
  },
  {
   "cell_type": "code",
   "execution_count": 2,
   "metadata": {},
   "outputs": [],
   "source": [
    "groundtruth_dir = 'Data/clean_data/'  \n",
    "groundtruth_data = []\n",
    "\n",
    "\n",
    "for file_name in os.listdir(groundtruth_dir):\n",
    "    if file_name.endswith('.json'):\n",
    "        with open(os.path.join(groundtruth_dir, file_name), 'r') as file:\n",
    "            for line in file:\n",
    "                try:\n",
    "                    entry = json.loads(line)\n",
    "                    # Extract trip_id and time (ground truth)\n",
    "                    groundtruth_data.append({\n",
    "                        'trip_id': entry['trip_id'],\n",
    "                        'actual_eta': entry['time']  \n",
    "                    })\n",
    "                except json.JSONDecodeError as e:\n",
    "                    print(f\"Error decoding JSON in {file_name}: {e}\")\n",
    "\n",
    "\n",
    "groundtruth_df = pd.DataFrame(groundtruth_data)"
   ]
  },
  {
   "cell_type": "code",
   "execution_count": null,
   "metadata": {},
   "outputs": [],
   "source": [
    "# Load RFR and XGBoost prediction files\n",
    "rfr_predictions = pd.read_csv('Model Predictions/rfr_predictions.csv')  \n",
    "xgb_predictions = pd.read_csv('Model Predictions/xgboost_predictions.csv')  \n",
    "\n",
    "xgb_predictions.rename(columns={'predicted_eta': 'xgb_time'}, inplace=True)\n",
    "\n",
    "if 'segment_id' in rfr_predictions.columns:\n",
    "    rfr_pivot = rfr_predictions.pivot_table(index='trip_id', columns='segment_id', values='predicted_eta').reset_index()\n",
    "\n",
    "    # Rename columns for each trip segment\n",
    "    rfr_pivot.columns = ['trip_id', 'rfr_time_1', 'rfr_time_3']\n",
    "else:\n",
    "    raise KeyError(\"'segment_id' column not found in rfr_predictions. Ensure it exists.\")\n",
    "\n",
    "# Merge the RFR and XGBoost predictions with ground truth data\n",
    "combined_df = (\n",
    "    pd.merge(rfr_pivot, xgb_predictions[['trip_id', 'xgb_time']], on='trip_id', how='inner')\n",
    "    .merge(groundtruth_df, on='trip_id', how='inner')\n",
    ")\n",
    "\n",
    "combined_df['total_predicted_eta'] = combined_df['rfr_time_1'] + combined_df['rfr_time_3'] + combined_df['xgb_time']"
   ]
  },
  {
   "cell_type": "code",
   "execution_count": 11,
   "metadata": {},
   "outputs": [
    {
     "data": {
      "text/plain": [
       "trip_id       0\n",
       "rfr_time_1    0\n",
       "rfr_time_3    0\n",
       "xgb_time      0\n",
       "actual_eta    0\n",
       "total_eta     0\n",
       "dtype: int64"
      ]
     },
     "execution_count": 11,
     "metadata": {},
     "output_type": "execute_result"
    }
   ],
   "source": [
    "combined_df.isnull().sum()"
   ]
  },
  {
   "cell_type": "code",
   "execution_count": 9,
   "metadata": {},
   "outputs": [],
   "source": [
    "# drop rows where rfr_time_3 is null\n",
    "combined_df = combined_df.dropna(subset=['rfr_time_3'])"
   ]
  },
  {
   "cell_type": "code",
   "execution_count": 10,
   "metadata": {},
   "outputs": [],
   "source": [
    "# fill missing values (segment 1) with the 0 \n",
    "combined_df = combined_df.fillna(0)"
   ]
  },
  {
   "cell_type": "markdown",
   "metadata": {},
   "source": [
    "### Modeling"
   ]
  },
  {
   "cell_type": "code",
   "execution_count": null,
   "metadata": {},
   "outputs": [
    {
     "name": "stdout",
     "output_type": "stream",
     "text": [
      "Meta-Model Metrics:\n",
      "RMSE: 314.98610768198847\n",
      "MAE: 236.42650956759164\n",
      "R² Score: 0.7726370323356879\n",
      "\n",
      "Stacked ETA predictions saved to 'meta_predictions.csv\n",
      "'\n",
      "                                             trip_id  rfr_time_1   rfr_time_3  \\\n",
      "0  007369e0b92ec0b0d2a35076b44680ed83efb79be45a6d...  353.813450   698.024965   \n",
      "1  008a46a649e0ea25961230e46717049db2ae550f39f694...  116.211975   683.395779   \n",
      "2  00a8a1894f7525143aa5ae66c46f635f23e4e7b33f5244...  770.387866  1478.905457   \n",
      "3  00b2f22afb76f4867f0ec9b2d87a2d3573d885a0c2536c...    0.000000   496.915176   \n",
      "4  00fcdbd4f719690ec80fdc37232b6c524f1a912c157627...    0.000000   924.242396   \n",
      "\n",
      "     xgb_time  actual_eta    total_eta  predicted_eta  \n",
      "0   666.64343      1314.0  1718.481845    1814.133628  \n",
      "1  1033.84730      2199.0  1833.455054    2146.026983  \n",
      "2   887.48846      2959.0  3136.781783    2977.873298  \n",
      "3   515.82050      1339.0     0.000000    1284.281796  \n",
      "4   631.38184      1535.0     0.000000    1809.322536  \n"
     ]
    }
   ],
   "source": [
    "X = combined_df[['rfr_time_1', 'rfr_time_3', 'xgb_time']]  \n",
    "y = combined_df['actual_eta']  \n",
    "\n",
    "X_train, X_test, y_train, y_test = train_test_split(X, y, test_size=0.2, random_state=42)\n",
    "\n",
    "# Meta-model training\n",
    "meta_model = LinearRegression()\n",
    "meta_model.fit(X_train, y_train)\n",
    "\n",
    "y_pred = meta_model.predict(X_test)\n",
    "\n",
    "# Calculate evaluation metrics\n",
    "rmse = np.sqrt(mean_squared_error(y_test, y_pred))\n",
    "mae = mean_absolute_error(y_test, y_pred)\n",
    "r2 = r2_score(y_test, y_pred)\n",
    "\n",
    "# Print the metrics\n",
    "print(\"Meta-Model Metrics:\")\n",
    "print(f\"RMSE: {rmse}\")\n",
    "print(f\"MAE: {mae}\")\n",
    "print(f\"R² Score: {r2}\\n\")\n",
    "\n",
    "# Save the combined results with predicted ETA to a CSV file\n",
    "combined_df['final_predicted_eta'] = meta_model.predict(X)\n",
    "combined_df.to_csv('Model Predictions/final_predictions.csv', index=False)\n",
    "print(\"Stacked ETA predictions saved to 'meta_predictions.csv\\n\")\n",
    "\n",
    "print(combined_df.head())"
   ]
  },
  {
   "cell_type": "markdown",
   "metadata": {},
   "source": [
    "### Feature Importance"
   ]
  },
  {
   "cell_type": "code",
   "execution_count": 14,
   "metadata": {},
   "outputs": [
    {
     "name": "stdout",
     "output_type": "stream",
     "text": [
      "Feature Importance for Linear Regression Model:\n",
      "      feature  coefficient\n",
      "2    xgb_time     1.238183\n",
      "1  rfr_time_3     0.893823\n",
      "0  rfr_time_1     0.461681\n"
     ]
    },
    {
     "data": {
      "image/png": "[encoded data removed]",
      "text/plain": [
       "<Figure size 1000x600 with 1 Axes>"
      ]
     },
     "metadata": {},
     "output_type": "display_data"
    }
   ],
   "source": [
    "# Get the feature coefficients from the trained meta-model\n",
    "coefficients = meta_model.coef_\n",
    "\n",
    "\n",
    "feature_importance_df = pd.DataFrame({\n",
    "    'feature': X.columns,  \n",
    "    'coefficient': coefficients\n",
    "})\n",
    "\n",
    "# Sort by the absolute value of coefficients for better interpretation\n",
    "feature_importance_df['abs_coefficient'] = np.abs(feature_importance_df['coefficient'])\n",
    "feature_importance_df = feature_importance_df.sort_values(by='abs_coefficient', ascending=False)\n",
    "\n",
    "# Display the feature importance\n",
    "print(\"Feature Importance for Linear Regression Model:\")\n",
    "print(feature_importance_df[['feature', 'coefficient']])\n",
    "\n",
    "\n",
    "plt.figure(figsize=(10, 6))\n",
    "plt.barh(feature_importance_df['feature'], feature_importance_df['coefficient'], color='lightblue')\n",
    "plt.xlabel('Coefficient Value')\n",
    "plt.ylabel('Feature')\n",
    "plt.title('Feature Importance for Meta-Model')\n",
    "plt.gca().invert_yaxis()  # Highest importance at the top\n",
    "plt.show()\n"
   ]
  }
 ],
 "metadata": {
  "kernelspec": {
   "display_name": "rfr1",
   "language": "python",
   "name": "python3"
  },
  "language_info": {
   "codemirror_mode": {
    "name": "ipython",
    "version": 3
   },
   "file_extension": ".py",
   "mimetype": "text/x-python",
   "name": "python",
   "nbconvert_exporter": "python",
   "pygments_lexer": "ipython3",
   "version": "3.11.10"
  }
 },
 "nbformat": 4,
 "nbformat_minor": 2
}
